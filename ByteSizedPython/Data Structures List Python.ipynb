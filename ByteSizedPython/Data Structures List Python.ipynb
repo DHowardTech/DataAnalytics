{
 "cells": [
  {
   "cell_type": "markdown",
   "metadata": {},
   "source": [
    "# <center><font color=green>Python Data Structures:  Lists: </font> </center>  \n",
    "# <center><font color=green>Programming for Data Science with Python </font> </center>"
   ]
  },
  {
   "cell_type": "markdown",
   "metadata": {},
   "source": [
    "## 1. Overview\n",
    "In Python, ***lists*** are the objects of the class list that has the ***constructor list()***.\n",
    "\n",
    "A list is a ***mutable*** sequence data type/structure, i.e., its ***contents can be changed*** after being created. \n",
    "\n",
    "List literals are written within square brackets [ ].\n",
    "\n",
    "Lists work similarly to strings:\n",
    " - Use the len() function for the length of a list\n",
    " - Use square brackets [ ] to access data, with the first element at index 0\n",
    " - The range of indices: 0 .. len(a list) - 1\n",
    "\n",
    "### 1.1 Properties of Lists\n",
    "The ***main properties*** of Python lists:\n",
    " - List elements are ordered in a sequence.\n",
    " - List contain objects of different data types\n",
    " - Elements of a list can be accessed by an index - as other sequence data type/structures like strings, tuples\n",
    " - Lists are arbitrarily nestable, i.e. they can contain other lists as sublists\n",
    " - Lists are ***mutable***, i.e. their elements can be changed after the list has been created.\n",
    " \n",
    " #### Examples:\n",
    " \n",
    "##### Empty list\n",
    "> my_list=[]\n",
    "\n",
    "##### List of integers\n",
    "> my_list = [1,2,3]\n",
    "\n",
    "#### List with mixed datatypes\n",
    ">my_list = [1, \"Hello\", 3.4]\n",
    "\n",
    "#### Nested list\n",
    "> my_list =[\"mouse\", [8,4,6], ['a']]"
   ]
  },
  {
   "cell_type": "markdown",
   "metadata": {},
   "source": [
    "## 1.2. Elements of a list\n",
    "\n",
    "#### Index range of list elements\n",
    "\n",
    "***Forward*** index range of list elements: ***0 .. len(list) - 1***\n",
    "Forward: starting from the 1st element\n",
    "\n",
    "***Backward*** index range of list elements: -1 .. -len(list)\n",
    "Backward : Starting from the last element\n",
    "\n",
    "## 1.3. Constructor list(iterable)\n",
    "\n",
    "The ***constructor list()*** builds a list whose items are the same and in the same order as iterable's items.\n",
    " - ***iterable*** may be either a sequence, a container that supports iteration, or an iterator object.\n",
    " - If ***iterable is already a list, a copy*** is made and returned, similar to iterable[:].\n",
    "\n",
    "For example:\n",
    " - list('abc') returns ['a', 'b', 'c']\n",
    " - list( (1, 2, 3) ) returns [1, 2, 3].\n",
    "\n",
    "If ***no argument*** is given, the constructor creates a ***new empty list, []***.\n",
    "\n",
    "### <font color=red> **Run the following 3 code blocks:** </font>"
   ]
  },
  {
   "cell_type": "code",
   "execution_count": 1,
   "metadata": {},
   "outputs": [
    {
     "data": {
      "text/plain": [
       "['a', 'b', 'c']"
      ]
     },
     "execution_count": 1,
     "metadata": {},
     "output_type": "execute_result"
    }
   ],
   "source": [
    "list(\"abc\")"
   ]
  },
  {
   "cell_type": "code",
   "execution_count": 2,
   "metadata": {},
   "outputs": [
    {
     "data": {
      "text/plain": [
       "['D', 'e', 'A', 'u', 'n', 'd', 'r', 'i', 'e']"
      ]
     },
     "execution_count": 2,
     "metadata": {},
     "output_type": "execute_result"
    }
   ],
   "source": [
    "list(\"DeAundrie\")"
   ]
  },
  {
   "cell_type": "code",
   "execution_count": 5,
   "metadata": {},
   "outputs": [
    {
     "data": {
      "text/plain": [
       "[1, 2, 3]"
      ]
     },
     "execution_count": 5,
     "metadata": {},
     "output_type": "execute_result"
    }
   ],
   "source": [
    "list ((1,2,3))"
   ]
  },
  {
   "cell_type": "code",
   "execution_count": 6,
   "metadata": {},
   "outputs": [
    {
     "data": {
      "text/plain": [
       "['Spongebob', 'Patrick', 'Squidward']"
      ]
     },
     "execution_count": 6,
     "metadata": {},
     "output_type": "execute_result"
    }
   ],
   "source": [
    "list ((\"Spongebob\", \"Patrick\", \"Squidward\"))"
   ]
  },
  {
   "cell_type": "code",
   "execution_count": 7,
   "metadata": {},
   "outputs": [
    {
     "data": {
      "text/plain": [
       "[1, 3, 5, 7, 9]"
      ]
     },
     "execution_count": 7,
     "metadata": {},
     "output_type": "execute_result"
    }
   ],
   "source": [
    "list ([1, 3, 5, 7, 9])"
   ]
  },
  {
   "cell_type": "code",
   "execution_count": 8,
   "metadata": {},
   "outputs": [
    {
     "data": {
      "text/plain": [
       "[2, 4, 6, 8, 10]"
      ]
     },
     "execution_count": 8,
     "metadata": {},
     "output_type": "execute_result"
    }
   ],
   "source": [
    "list ([2, 4, 6, 8, 10])"
   ]
  },
  {
   "cell_type": "markdown",
   "metadata": {},
   "source": [
    "<hr style=\"border:5px solid green\"> </hr>"
   ]
  },
  {
   "cell_type": "markdown",
   "metadata": {},
   "source": [
    "## 2. Create Lists\n",
    "### 2.1 Overview\n",
    "Lists may be constructed in several ways:\n",
    " - Using a pair of square brackets to denote the ***empty list: []***\n",
    " - Using square brackets with values separating from each others with commas: [a], [a, b, c]\n",
    " - Using a ***list comprehension:*** [x for x in iterable]\n",
    " - Using the ***list constructor:*** list() or list(iterable)\n",
    " \n",
    "### 2.2 Create empty lists\n",
    "### <font color=red> **Run the following code block:** </font>"
   ]
  },
  {
   "cell_type": "code",
   "execution_count": 9,
   "metadata": {},
   "outputs": [
    {
     "name": "stdout",
     "output_type": "stream",
     "text": [
      "0\n",
      "0\n"
     ]
    }
   ],
   "source": [
    "empty_list = []\n",
    "another_empty_list = list()\n",
    "print(len(empty_list))\n",
    "print(len(another_empty_list))"
   ]
  },
  {
   "cell_type": "markdown",
   "metadata": {},
   "source": [
    "### 2.3 Create lists by converting other data structures/types to lists: Using list()\n",
    "> ### 2.3.1 Create list from strings or tuples using the constructor list()\n",
    "### <font color=red> **Run the following 3 code blocks:** </font>"
   ]
  },
  {
   "cell_type": "code",
   "execution_count": 10,
   "metadata": {},
   "outputs": [
    {
     "data": {
      "text/plain": [
       "['h', 'o', 'u', 's', 'e']"
      ]
     },
     "execution_count": 10,
     "metadata": {},
     "output_type": "execute_result"
    }
   ],
   "source": [
    "# Convert a string of one word to a list of characters\n",
    "list(\"house\")"
   ]
  },
  {
   "cell_type": "code",
   "execution_count": 11,
   "metadata": {},
   "outputs": [
    {
     "data": {
      "text/plain": [
       "['H', 'o', 'w', 'a', 'r', 'd']"
      ]
     },
     "execution_count": 11,
     "metadata": {},
     "output_type": "execute_result"
    }
   ],
   "source": [
    "list(\"Howard\")"
   ]
  },
  {
   "cell_type": "code",
   "execution_count": 12,
   "metadata": {},
   "outputs": [
    {
     "data": {
      "text/plain": [
       "['T', 'h', 'i', 's', ' ', 'w', 'o', 'r', 'd']"
      ]
     },
     "execution_count": 12,
     "metadata": {},
     "output_type": "execute_result"
    }
   ],
   "source": [
    "# Convert a a string of words to a list of characters\n",
    "list(\"This word\")"
   ]
  },
  {
   "cell_type": "code",
   "execution_count": 14,
   "metadata": {},
   "outputs": [
    {
     "data": {
      "text/plain": [
       "['A', 'n', 'o', 't', 'h', 'e', 'r', ' ', 'w', 'o', 'r', 'd']"
      ]
     },
     "execution_count": 14,
     "metadata": {},
     "output_type": "execute_result"
    }
   ],
   "source": [
    "list(\"Another word\")"
   ]
  },
  {
   "cell_type": "code",
   "execution_count": 15,
   "metadata": {},
   "outputs": [
    {
     "data": {
      "text/plain": [
       "['ready', 'fire', 'aim']"
      ]
     },
     "execution_count": 15,
     "metadata": {},
     "output_type": "execute_result"
    }
   ],
   "source": [
    "# Convert a tuple of a list\n",
    "# Notice the parentheses vs. the square brackets\n",
    "aTuple = ('ready', 'fire', 'aim')\n",
    "list(aTuple)"
   ]
  },
  {
   "cell_type": "code",
   "execution_count": 16,
   "metadata": {},
   "outputs": [
    {
     "data": {
      "text/plain": [
       "['ready', 'set', 'go']"
      ]
     },
     "execution_count": 16,
     "metadata": {},
     "output_type": "execute_result"
    }
   ],
   "source": [
    "bTuple = (\"ready\", \"set\", \"go\")\n",
    "list(bTuple)"
   ]
  },
  {
   "cell_type": "markdown",
   "metadata": {},
   "source": [
    "> ### 2.3.2 Create lists from strings using split() method\n",
    "### <font color=red> **Run the following 2 code blocks:** </font>"
   ]
  },
  {
   "cell_type": "code",
   "execution_count": 17,
   "metadata": {},
   "outputs": [
    {
     "name": "stdout",
     "output_type": "stream",
     "text": [
      "['This', 'is', 'a', 'string', 'of', 'words']\n"
     ]
    }
   ],
   "source": [
    "#Convert a string of words to a list of words: Using split() to chop the string with ' ' \n",
    "\n",
    "aStringOfWords= \"This is a string of words\"\n",
    "aList=aStringOfWords.split(' ')\n",
    "print(aList)"
   ]
  },
  {
   "cell_type": "code",
   "execution_count": 22,
   "metadata": {},
   "outputs": [
    {
     "name": "stdout",
     "output_type": "stream",
     "text": [
      "['Why', 'did', 'the', 'chicken', 'cross', 'the', 'road', '?']\n"
     ]
    }
   ],
   "source": [
    "beStringOfWords = \"Why did the chicken cross the road ?\"\n",
    "beList = beStringOfWords.split(' ')\n",
    "print(beList)"
   ]
  },
  {
   "cell_type": "code",
   "execution_count": 21,
   "metadata": {},
   "outputs": [
    {
     "name": "stdout",
     "output_type": "stream",
     "text": [
      "['5', '1', '2017']\n"
     ]
    }
   ],
   "source": [
    "#Convert a string to a List: Using split() to chop the string with some separator\n",
    "aDayString = \"5/1/2017\"\n",
    "alist = aDayString.split('/')\n",
    "print(alist)"
   ]
  },
  {
   "cell_type": "code",
   "execution_count": 23,
   "metadata": {},
   "outputs": [
    {
     "name": "stdout",
     "output_type": "stream",
     "text": [
      "['03', '26', '2024']\n"
     ]
    }
   ],
   "source": [
    "date = \"03/26/2024\"\n",
    "dateList = date.split('/')\n",
    "print(dateList)"
   ]
  },
  {
   "cell_type": "markdown",
   "metadata": {},
   "source": [
    "> ### 2.3.3 Create lists by using list comprehension and slicing an existing list\n",
    "### <font color=red> **Run the following code block:** </font>"
   ]
  },
  {
   "cell_type": "code",
   "execution_count": 24,
   "metadata": {},
   "outputs": [
    {
     "name": "stdout",
     "output_type": "stream",
     "text": [
      "[2, 3]\n",
      "[3, 4]\n",
      "[4, 5]\n"
     ]
    }
   ],
   "source": [
    "# NOTES: MUST use List slice--> CANNOT use any other function to delete/remove \n",
    "\n",
    "l_lists=[[1,2,3],[2,3,4],[3,4,5]]\n",
    "\n",
    "new_llists=[element[1:] for element in l_lists]\n",
    "\n",
    "i=0\n",
    "for element in new_llists:\n",
    "    print(element)\n",
    "    i=i+1\n",
    "    if i==3:\n",
    "        break"
   ]
  },
  {
   "cell_type": "code",
   "execution_count": 33,
   "metadata": {},
   "outputs": [
    {
     "name": "stdout",
     "output_type": "stream",
     "text": [
      "[9, 8]\n",
      "[6, 5]\n",
      "[3, 2]\n"
     ]
    }
   ],
   "source": [
    "second_list = [[9,8,7],[6,5,4],[3,2,1]]\n",
    "third_list =[element[:2] for element in second_list]\n",
    "i=0\n",
    "for  item in third_list:\n",
    "    print(item)\n",
    "    i=i+1\n",
    "    if i==3:\n",
    "        break"
   ]
  },
  {
   "cell_type": "markdown",
   "metadata": {},
   "source": [
    "<hr style=\"border:5px solid green\"> </hr>"
   ]
  },
  {
   "cell_type": "markdown",
   "metadata": {},
   "source": [
    "## 3. Access List Elements\n",
    "\n",
    "### 3.1 Access single elements\n",
    "\n",
    " - As other sequence data types/structures, list elements can be accessed via their indices.\n",
    " - We can use the index operator [] to access an item in a list. ***Index starts from 0.***\n",
    " - So, a list having 5 elements will have index from O to 4.\n",
    " - Trying to access an element other than this will raise an lndexError.\n",
    "\n",
    " - ***The index must be an integer.***\n",
    " - We can't use float or other types, this will result into TypeError.\n",
    "\n",
    "Nested list are accessed using ***nested indexing [][]*** that is similar to index of 2-D array elements.\n",
    "\n",
    "### <font color=red> **Run the following 6 code blocks:** </font>"
   ]
  },
  {
   "cell_type": "code",
   "execution_count": 34,
   "metadata": {},
   "outputs": [
    {
     "name": "stdout",
     "output_type": "stream",
     "text": [
      "p\n",
      "o\n",
      "e\n"
     ]
    }
   ],
   "source": [
    "my_list = ['p','r','o','b','e']\n",
    "\n",
    "\n",
    "print(my_list[0])\n",
    "\n",
    "print(my_list[2])\n",
    "\n",
    "print(my_list[4])\n"
   ]
  },
  {
   "cell_type": "code",
   "execution_count": 35,
   "metadata": {},
   "outputs": [
    {
     "name": "stdout",
     "output_type": "stream",
     "text": [
      "l\n",
      "i\n",
      "e\n"
     ]
    }
   ],
   "source": [
    "your_list = ['l','i','f','e']\n",
    "print(your_list[0])\n",
    "print(your_list[1])\n",
    "print(your_list[3])"
   ]
  },
  {
   "cell_type": "code",
   "execution_count": 36,
   "metadata": {},
   "outputs": [
    {
     "name": "stdout",
     "output_type": "stream",
     "text": [
      "a\n",
      "5\n"
     ]
    }
   ],
   "source": [
    "# Nested List\n",
    "\n",
    "n_list = [\"Happy\", [2,0,1,5]]\n",
    "\n",
    "# Nested indexing\n",
    "\n",
    "print(n_list[0][1])\n",
    "\n",
    "print(n_list[1][3])"
   ]
  },
  {
   "cell_type": "code",
   "execution_count": 39,
   "metadata": {},
   "outputs": [
    {
     "name": "stdout",
     "output_type": "stream",
     "text": [
      "Scottland\n",
      "Greenland\n"
     ]
    }
   ],
   "source": [
    "monster_Sights = ['Lochness', [\"Ireland\", \"Scottland\", \"Greenland\" ]]\n",
    "print(monster_Sights[1][1])\n",
    "print(monster_Sights[1][2])"
   ]
  },
  {
   "cell_type": "code",
   "execution_count": 40,
   "metadata": {},
   "outputs": [
    {
     "name": "stdout",
     "output_type": "stream",
     "text": [
      "['ready', 'fire', 'aim']\n",
      "Length of the list: 3\n"
     ]
    }
   ],
   "source": [
    "aTuple=('ready','fire','aim')\n",
    "aList=list(aTuple)\n",
    "\n",
    "print (aList)\n",
    "print(\"Length of the list:\",len(aList))"
   ]
  },
  {
   "cell_type": "code",
   "execution_count": 41,
   "metadata": {},
   "outputs": [
    {
     "name": "stdout",
     "output_type": "stream",
     "text": [
      "['ready', 'set', 'go']\n",
      "Lenght of bList:  3\n"
     ]
    }
   ],
   "source": [
    "bTuple = ('ready', 'set', 'go')\n",
    "bList = list(bTuple)\n",
    "\n",
    "print(bList)\n",
    "print(\"Lenght of bList: \", len(bList))"
   ]
  },
  {
   "cell_type": "code",
   "execution_count": 42,
   "metadata": {},
   "outputs": [
    {
     "name": "stdout",
     "output_type": "stream",
     "text": [
      "ready\n",
      "fire\n",
      "aim\n"
     ]
    }
   ],
   "source": [
    "# Access using forward index\n",
    "\n",
    "aTuple=('ready','fire','aim')\n",
    "aList=list(aTuple)\n",
    "\n",
    "list_element1=aList[0]\n",
    "list_element2=aList[1]\n",
    "list_element3=aList[2]\n",
    "\n",
    "print(list_element1)\n",
    "print(list_element2)\n",
    "print(list_element3)"
   ]
  },
  {
   "cell_type": "code",
   "execution_count": 43,
   "metadata": {},
   "outputs": [
    {
     "name": "stdout",
     "output_type": "stream",
     "text": [
      "ready\n",
      "set\n",
      "go\n"
     ]
    }
   ],
   "source": [
    "bTuple = ('ready', 'set', 'go')\n",
    "bList = list(bTuple)\n",
    "list_element1=bList[0]\n",
    "list_element2=bList[1]\n",
    "list_element3=bList[2]\n",
    "\n",
    "print(list_element1)\n",
    "print(list_element2)\n",
    "print(list_element3)"
   ]
  },
  {
   "cell_type": "code",
   "execution_count": 44,
   "metadata": {},
   "outputs": [
    {
     "name": "stdout",
     "output_type": "stream",
     "text": [
      "aim\n",
      "fire\n",
      "ready\n"
     ]
    }
   ],
   "source": [
    "# Access using backward index\n",
    "aTuple=('ready','fire','aim')\n",
    "aList=list(aTuple)\n",
    "\n",
    "list_element_last=aList[-1]\n",
    "list_element_next_to_last=aList[-2]\n",
    "list_element_first=aList[-3]\n",
    "\n",
    "print(list_element_last)\n",
    "print(list_element_next_to_last)\n",
    "print(list_element_first)"
   ]
  },
  {
   "cell_type": "code",
   "execution_count": 46,
   "metadata": {},
   "outputs": [
    {
     "name": "stdout",
     "output_type": "stream",
     "text": [
      "go\n",
      "set\n",
      "ready\n"
     ]
    }
   ],
   "source": [
    "bTuple = ('ready', 'set', 'go')\n",
    "bList = list(bTuple)\n",
    "\n",
    "list_element_last=bList[-1]\n",
    "list_element_next_to_last=bList[-2]\n",
    "list_element_first=bList[-3]\n",
    "\n",
    "print(list_element_last)\n",
    "print(list_element_next_to_last)\n",
    "print(list_element_first)"
   ]
  },
  {
   "cell_type": "code",
   "execution_count": 47,
   "metadata": {},
   "outputs": [
    {
     "name": "stdout",
     "output_type": "stream",
     "text": [
      "Python and C are quite different!\n"
     ]
    }
   ],
   "source": [
    "languages= [\"Python\", \"C\", \"C++\", \"Java\", \"Perl\"]\n",
    "print(languages[0] +\" and \"+ languages[1] +\" are quite different!\")"
   ]
  },
  {
   "cell_type": "code",
   "execution_count": 50,
   "metadata": {},
   "outputs": [
    {
     "name": "stdout",
     "output_type": "stream",
     "text": [
      "Washington and Lincoln are the best presidents...or not.\n"
     ]
    }
   ],
   "source": [
    "presidents = ['Washington', \"Lincoln\", 'Jefferson', 'Jackson', 'Hamilton']\n",
    "print(presidents[0] + \" and \"+ presidents[1] + \" are the best presidents...or not.\")"
   ]
  },
  {
   "cell_type": "markdown",
   "metadata": {},
   "source": [
    "### 3.2 Access a slice of lists\n",
    "\n",
    "### <font color=red> **Run the following code block:** </font>"
   ]
  },
  {
   "cell_type": "code",
   "execution_count": 51,
   "metadata": {},
   "outputs": [
    {
     "name": "stdout",
     "output_type": "stream",
     "text": [
      "['o', 'g', 'r']\n",
      "['p', 'r', 'o', 'g']\n",
      "['a', 'm', 'i', 'z']\n",
      "['p', 'r', 'o', 'g', 'r', 'a', 'm', 'i', 'z']\n"
     ]
    }
   ],
   "source": [
    "# We can access a range of items in a List by using the slicing operator (colon).\n",
    "# This is a very important concept for when we start working with algorithms in the 2nd half of the semester\n",
    "\n",
    "my_list = ['p','r','o','g','r','a','m','i','z']\n",
    "\n",
    "# elements 3rd up to the 5th (but not including)\n",
    "print(my_list[2:5])\n",
    "\n",
    "# elements backward from (but not inclucing) the negative 5th element (\"r\")\n",
    "print(my_list[:-5])\n",
    "\n",
    "# elements 6th to end \n",
    "# Remember the count starts at zero, not one\n",
    "print(my_list[5:])\n",
    "\n",
    "# elements beginning to end\n",
    "print(my_list[:])"
   ]
  },
  {
   "cell_type": "code",
   "execution_count": 52,
   "metadata": {},
   "outputs": [
    {
     "name": "stdout",
     "output_type": "stream",
     "text": [
      "['torso', 'pelvis']\n",
      "['head', 'torso', 'pelvis', 'leg']\n",
      "['leg', 'foot', 'arm', 'hand']\n",
      "['head', 'torso', 'pelvis', 'leg', 'foot', 'arm', 'hand']\n"
     ]
    }
   ],
   "source": [
    "body_list = ['head', 'torso', 'pelvis', 'leg', 'foot', 'arm', 'hand']\n",
    "print(body_list[1:3])\n",
    "print(body_list[:-3])\n",
    "print(body_list[3:])\n",
    "print(body_list[:])"
   ]
  },
  {
   "cell_type": "markdown",
   "metadata": {},
   "source": [
    "<hr style=\"border:5px solid green\"> </hr>"
   ]
  },
  {
   "cell_type": "markdown",
   "metadata": {},
   "source": [
    "## 4. Modify Lists\n",
    "### 4.1 Add/Change elements of lists\n",
    "> #### 4.1.1 Update/Change single elements or a sub-list of lists\n",
    "\n",
    "### <font color=red> **Run the following code block:** </font>"
   ]
  },
  {
   "cell_type": "code",
   "execution_count": 53,
   "metadata": {},
   "outputs": [
    {
     "name": "stdout",
     "output_type": "stream",
     "text": [
      "[1, 4, 6, 8]\n",
      "[1, 3, 5, 7]\n"
     ]
    }
   ],
   "source": [
    "odd= [2, 4, 6, 8]\n",
    "\n",
    "# change the 1st item\n",
    "odd[0] = 1\n",
    "print(odd)\n",
    "\n",
    "# change 2nd to 4th items\n",
    "odd[1:4] = [3, 5, 7]\n",
    "print(odd)"
   ]
  },
  {
   "cell_type": "code",
   "execution_count": 56,
   "metadata": {},
   "outputs": [
    {
     "name": "stdout",
     "output_type": "stream",
     "text": [
      "[2, 3, 5, 7, 9]\n",
      "[2, 4, 6, 8, 10]\n"
     ]
    }
   ],
   "source": [
    "even = [1, 3, 5, 7, 9]\n",
    "even[0] = 2\n",
    "print(even)\n",
    "\n",
    "even[1:5] = [4, 6, 8, 10]\n",
    "print(even)"
   ]
  },
  {
   "cell_type": "markdown",
   "metadata": {},
   "source": [
    ">#### 4.1.2 Add single items or a sub-list into a list - using append() or extend() respectively\n",
    "\n",
    "### <font color=red> **Run the following code block:** </font>"
   ]
  },
  {
   "cell_type": "code",
   "execution_count": 57,
   "metadata": {},
   "outputs": [
    {
     "name": "stdout",
     "output_type": "stream",
     "text": [
      "[1, 3, 5, 7]\n",
      "[1, 3, 5, 7, 9, 11, 13]\n"
     ]
    }
   ],
   "source": [
    "# We can add one item to a List using append() method\n",
    "# or add several items using extend() method.\n",
    "odd= [1, 3, 5]\n",
    "\n",
    "odd.append(7)\n",
    "print(odd)\n",
    "\n",
    "odd . extend([9, 11, 13])\n",
    "print(odd)"
   ]
  },
  {
   "cell_type": "code",
   "execution_count": 59,
   "metadata": {},
   "outputs": [
    {
     "name": "stdout",
     "output_type": "stream",
     "text": [
      "[1, 3, 5, 7, 9, 11]\n",
      "[1, 3, 5, 7, 9, 11, 13, 15, 17, 19]\n"
     ]
    }
   ],
   "source": [
    "even = [1, 3, 5, 7, 9]\n",
    "\n",
    "even.append(11)\n",
    "print(even)\n",
    "\n",
    "even.extend([13, 15, 17, 19])\n",
    "print(even)"
   ]
  },
  {
   "cell_type": "markdown",
   "metadata": {},
   "source": [
    ">#### 4.1.3 Insert single elements or sub-lists into an existing list\n",
    "\n",
    "### <font color=red> **Run the following code block:** </font>"
   ]
  },
  {
   "cell_type": "code",
   "execution_count": 60,
   "metadata": {},
   "outputs": [
    {
     "name": "stdout",
     "output_type": "stream",
     "text": [
      "[1, 3, 9]\n",
      "[1, 3, 5, 7, 9]\n"
     ]
    }
   ],
   "source": [
    "# We can insert one item at a desired Location by using the method insert()\n",
    "# or insert multiple items by squeezing it into an empty slice of a List.\n",
    "\n",
    "odd= [1, 9] \n",
    "odd.insert( 1,3)\n",
    "print(odd) \n",
    "\n",
    "odd[2:2] = [5, 7]\n",
    "print(odd)"
   ]
  },
  {
   "cell_type": "code",
   "execution_count": 63,
   "metadata": {},
   "outputs": [
    {
     "name": "stdout",
     "output_type": "stream",
     "text": [
      "[2, 4, 10]\n",
      "[2, 4, 6, 8, 10]\n"
     ]
    }
   ],
   "source": [
    "even = [2, 10]\n",
    "even.insert(1, 4)\n",
    "print(even)\n",
    "\n",
    "even[2:4] = [6,8,10]\n",
    "print(even)"
   ]
  },
  {
   "cell_type": "markdown",
   "metadata": {},
   "source": [
    "### 4.2 Delete/Remove elements of lists\n",
    "> #### 4.2.1 Delete/Remove elements of lists - using the del() function\n",
    "\n",
    "### <font color=red> **Run the following code block:** </font>"
   ]
  },
  {
   "cell_type": "code",
   "execution_count": 64,
   "metadata": {},
   "outputs": [
    {
     "name": "stdout",
     "output_type": "stream",
     "text": [
      "3rd element has been removed:  ['p', 'r', 'b', 'l', 'e', 'm']\n",
      "Elements from index 1 until 4 have been removed:  ['p', 'm']\n"
     ]
    }
   ],
   "source": [
    "# We can delete one or more items from a List using the keyword del.\n",
    "\n",
    "my_list = [\"p\",\"r\", \"o\", \"b\", \"l\", \"e\", \"m\"]\n",
    "           \n",
    "# delete one item\n",
    "del my_list[2]\n",
    "print(\"3rd element has been removed: \", my_list)\n",
    "\n",
    "# delete multiple items\n",
    "del my_list[1:5]\n",
    "print(\"Elements from index 1 until 4 have been removed: \", my_list)"
   ]
  },
  {
   "cell_type": "code",
   "execution_count": 69,
   "metadata": {},
   "outputs": [
    {
     "name": "stdout",
     "output_type": "stream",
     "text": [
      "['D', 'e', 'A', 'n', 'd', 'r', 'e']\n",
      "['D', 'e', 'e']\n"
     ]
    }
   ],
   "source": [
    "name = ['D','e','A','u','n','d','r','i','e']\n",
    "del name[-2]\n",
    "del name[3]\n",
    "print(name)\n",
    "\n",
    "del name[2:6]\n",
    "print(name)"
   ]
  },
  {
   "cell_type": "markdown",
   "metadata": {},
   "source": [
    "> #### 4.2.2 Delete/Remove elements of lists - using the functions remove() or pop{)\n",
    "\n",
    "### <font color=red> **Run the following code block:** </font>"
   ]
  },
  {
   "cell_type": "code",
   "execution_count": 70,
   "metadata": {},
   "outputs": [
    {
     "name": "stdout",
     "output_type": "stream",
     "text": [
      "['r', 'b', 'l', 'e']\n"
     ]
    }
   ],
   "source": [
    "# We can use remove() method to remove the given item or pop() method to remove an item at the element of the list.\n",
    "# The pop() method removes and returns the Last item if index is not provided. \n",
    "# This helps us implement lists as stacks (first in, Last out data structure). \n",
    "# We can also use the clear() method to empty a List.\n",
    "\n",
    "my_list=['p','r','o','b','l','e','m']\n",
    "\n",
    "# Remove p, p is gone. (\"r\", \"o\", \"b\", \"l\", \"e\", \"m\") is left.\n",
    "my_list.remove('p')\n",
    "\n",
    "# Will now remove the first element (\"o\"). (\"r\",\"b\",\"l\",\"e\",\"m\") is left.\n",
    "my_list.pop(1)\n",
    "\n",
    "# Will now remove the last element\n",
    "my_list.pop()\n",
    "\n",
    "print(my_list)"
   ]
  },
  {
   "cell_type": "code",
   "execution_count": 74,
   "metadata": {},
   "outputs": [
    {
     "name": "stdout",
     "output_type": "stream",
     "text": [
      "['D', 'e', 'A', 'n', 'd']\n"
     ]
    }
   ],
   "source": [
    "name = ['D','e','A','u','n','d','r','i','e']\n",
    "name.remove('u')\n",
    "name.remove('i')\n",
    "name.pop(-2)\n",
    "name.pop()\n",
    "\n",
    "print(name)"
   ]
  },
  {
   "cell_type": "markdown",
   "metadata": {},
   "source": [
    "> #### 4.2.3 Delete/Remove elements of a list - assigning an empty list [] to a slice of the list\n",
    "\n",
    "\n",
    "### <font color=red> **Run the following code block:** </font>"
   ]
  },
  {
   "cell_type": "code",
   "execution_count": 75,
   "metadata": {},
   "outputs": [
    {
     "name": "stdout",
     "output_type": "stream",
     "text": [
      "['p', 'r', 'm']\n"
     ]
    }
   ],
   "source": [
    "my_list=['p','r','o','b','l','e','m']\n",
    "\n",
    "# remove 'o'\n",
    "my_list[2:3]=[]\n",
    "\n",
    "# remove 'b', 'l', 'e'\n",
    "my_list[2:5]=[]\n",
    "\n",
    "print(my_list)"
   ]
  },
  {
   "cell_type": "code",
   "execution_count": 98,
   "metadata": {},
   "outputs": [
    {
     "name": "stdout",
     "output_type": "stream",
     "text": [
      "['D', 'e', 'A', 'n', 'd', 'r', 'e']\n"
     ]
    }
   ],
   "source": [
    "name = ['D','e','A','u','n','d','r','i','e']\n",
    "name[3:4]=[]\n",
    "name[6:7]=[]\n",
    "print(name)"
   ]
  },
  {
   "cell_type": "code",
   "execution_count": 99,
   "metadata": {},
   "outputs": [
    {
     "name": "stdout",
     "output_type": "stream",
     "text": [
      "[]\n"
     ]
    }
   ],
   "source": [
    "my_list=['p','r','o','b','l','e','m']\n",
    "my_list.clear()\n",
    "\n",
    "print(my_list)"
   ]
  },
  {
   "cell_type": "code",
   "execution_count": 100,
   "metadata": {},
   "outputs": [
    {
     "name": "stdout",
     "output_type": "stream",
     "text": [
      "[]\n"
     ]
    }
   ],
   "source": [
    "name = ['D','e','A','u','n','d','r','i','e']\n",
    "name.clear()\n",
    "print(name)"
   ]
  },
  {
   "cell_type": "markdown",
   "metadata": {},
   "source": [
    "<hr style=\"border:5px solid green\"> </hr>"
   ]
  },
  {
   "cell_type": "markdown",
   "metadata": {},
   "source": [
    "## 5. Copy Lists\n",
    "### 5.1 Shallow copy\n",
    "\n",
    " - ***Shallow copy*** means that only the reference to the object is copied. No new object is created.\n",
    " \n",
    " - ***Shallow Copy*** means defining a new collection object and then populating it with references to the child objects found in the original.  \n",
    " - The ***Shallow Copy*** process is not recursive.  This means that the child objects won't be copied. In case of shallow copy, a reference of object is copied in other object. It means that any changes made to a copy of object do reflect in the original object. In python, this is implemented using “copy()” function.\n",
    " \n",
    "### <font color=red> **Run the following code block:** </font>"
   ]
  },
  {
   "cell_type": "code",
   "execution_count": 101,
   "metadata": {},
   "outputs": [
    {
     "name": "stdout",
     "output_type": "stream",
     "text": [
      "The original elements before shallow copying\n",
      "1 2 [3, 5] 4 \n",
      "\n",
      "The original elements after shallow copying\n",
      "1 2 [7, 5] 4 "
     ]
    }
   ],
   "source": [
    "\n",
    "# importing \"copy\" for copy operations\n",
    "import copy\n",
    "\n",
    "# initializing list 1\n",
    "i1 = [1, 2, [3,5], 4]\n",
    "\n",
    "# using copy to shallow copy\n",
    "s2 = copy.copy(i1)\n",
    "\n",
    "# original elements of list\n",
    "print (\"The original elements before shallow copying\")\n",
    "for i in range(0,len(i1)):\n",
    "\tprint (i1[i],end=\" \")\n",
    "\n",
    "print(\"\\n\")\n",
    "\n",
    "# modifying the new list (shallow copy)\n",
    "s2[2][0] = 7\n",
    "\n",
    "# checking if change is reflected\n",
    "print (\"The original elements after shallow copying\")\n",
    "for i in range(0,len( i1)):\n",
    "\tprint (i1[i],end=\" \")\n"
   ]
  },
  {
   "cell_type": "code",
   "execution_count": 119,
   "metadata": {},
   "outputs": [
    {
     "name": "stdout",
     "output_type": "stream",
     "text": [
      "Random number before COVID-19\n",
      "5\n",
      "10\n",
      "[15, 20]\n",
      "25\n",
      "\n",
      "\n",
      "Random names after COVID-19\n",
      "5\n",
      "10\n",
      "[15, 40]\n",
      "25\n"
     ]
    }
   ],
   "source": [
    "import copy\n",
    "items = [5, 10, [15, 20], 25]\n",
    "dup_items =  copy.copy(items)\n",
    "\n",
    "print(\"Random number before COVID-19\")\n",
    "for item in range(0, len(items)):\n",
    "    print(items[item])\n",
    "    \n",
    "print('\\n')\n",
    "\n",
    "dup_items[2][1] = 40\n",
    "dup_items[3] = 50\n",
    "\n",
    "print(\"Random names after COVID-19\")\n",
    "for item in range(0, len(items)):\n",
    "    print(items[item])\n"
   ]
  },
  {
   "cell_type": "markdown",
   "metadata": {},
   "source": [
    " \n",
    " ### 5.2 Deep copy\n",
    "\n",
    " - The ***Deep Copy*** process is where the copying process occurs recursively. \n",
    " \n",
    " - ***Deep copy*** means a new collection will first be created and then that copy will recursively be populated with copies of the child objects found in the original list.\n",
    " \n",
    " - A ***Deep Copy*** stores copies of an object's values, but a ***Shallow Copy*** stores references to the original object(list, dict, etc) \n",
    "\n",
    " - A ***Deep Copy** does ***NOT*** reflect any changes made to the new (copied) object from the original object; however, the ***Shallow Copy*** does reflect any modifications.\n",
    "\n",
    " - A ***Deep Copy*** is the ***real copy*** of the orginal.\n",
    " \n",
    " - Deep copying lists can be done using the ***deepcopy()*** function of the ***module copy*** in Python 3.\n",
    " \n",
    " \n",
    " ### <font color=red> **Run the following code block:** </font>"
   ]
  },
  {
   "cell_type": "code",
   "execution_count": 107,
   "metadata": {},
   "outputs": [
    {
     "name": "stdout",
     "output_type": "stream",
     "text": [
      "The original elements before deep copying\n",
      "1 2 [3, 5] 4 \n",
      "\n",
      "The new list of elements after deep copying \n",
      "1 2 [7, 5] 4 \n",
      "\n",
      "The original elements after deep copying\n",
      "1 2 [3, 5] 4 "
     ]
    }
   ],
   "source": [
    "# importing \"copy\" for copy operations\n",
    "import copy\n",
    "\n",
    "# initializing list 1\n",
    "i1 = [1, 2, [3,5], 4]\n",
    "\n",
    "# using deepcopy() to deep copy initial list (il)\n",
    "d2 = copy.deepcopy(i1)\n",
    "\n",
    "# original elements of list\n",
    "print (\"The original elements before deep copying\")\n",
    "for i in range(0,len(i1)):\n",
    "\tprint (i1[i],end=\" \")\n",
    "\n",
    "print(\"\\n\")\n",
    "\n",
    "# adding and element to new list\n",
    "d2[2][0] = 7\n",
    "\n",
    "# Change is reflected in l2\n",
    "print (\"The new list of elements after deep copying \")\n",
    "for i in range(0,len( i1)):\n",
    "\tprint (d2[i],end=\" \")\n",
    "\n",
    "print(\"\\n\")\n",
    "\n",
    "# Change is NOT reflected in original list\n",
    "# as it is a deep copy\n",
    "print (\"The original elements after deep copying\")\n",
    "for i in range(0,len( i1)):\n",
    "\tprint (i1[i],end=\" \")\n"
   ]
  },
  {
   "cell_type": "code",
   "execution_count": 121,
   "metadata": {},
   "outputs": [
    {
     "name": "stdout",
     "output_type": "stream",
     "text": [
      "Random number before COVID-19\n",
      "5\n",
      "10\n",
      "[15, 20]\n",
      "25\n",
      "\n",
      "\n",
      "Random names after COVID-19\n",
      "5\n",
      "10\n",
      "[15, 40]\n",
      "50\n",
      "\n",
      "\n",
      "Orignal number before COVID-19\n",
      "5\n",
      "10\n",
      "[15, 20]\n",
      "25\n"
     ]
    }
   ],
   "source": [
    "import copy\n",
    "items = [5, 10, [15, 20], 25]\n",
    "dup_items =  copy.deepcopy(items)\n",
    "\n",
    "print(\"Random number before COVID-19\")\n",
    "for item in range(0, len(items)):\n",
    "    print(items[item])\n",
    "    \n",
    "print('\\n')\n",
    "\n",
    "dup_items[2][1] = 40\n",
    "dup_items[3] = 50\n",
    "\n",
    "print(\"Random names after COVID-19\")\n",
    "for item in range(0, len(items)):\n",
    "    print(dup_items[item])\n",
    "\n",
    "print('\\n')\n",
    "print('Orignal number before COVID-19')\n",
    "for item in range(0, len(items)):\n",
    "    print(items[item])\n"
   ]
  },
  {
   "cell_type": "markdown",
   "metadata": {},
   "source": [
    "<hr style=\"border:5px solid green\"> </hr>"
   ]
  },
  {
   "cell_type": "markdown",
   "metadata": {},
   "source": [
    "### 6. Delete Lists\n",
    "To delete a list, using the built-in function del().\n",
    "\n",
    "### <font color=red> **Run the following 3 code blocks:** </font>"
   ]
  },
  {
   "cell_type": "code",
   "execution_count": 122,
   "metadata": {},
   "outputs": [
    {
     "name": "stdout",
     "output_type": "stream",
     "text": [
      "[1, 2, [3, 5], 4]\n"
     ]
    }
   ],
   "source": [
    "list1 = [1, 2, [3,5], 4]\n",
    "print(list1)"
   ]
  },
  {
   "cell_type": "code",
   "execution_count": 123,
   "metadata": {},
   "outputs": [
    {
     "name": "stdout",
     "output_type": "stream",
     "text": [
      "['D', 'e', ['A', 'u'], 'n', 'd', 'r', ['i', 'e']]\n"
     ]
    }
   ],
   "source": [
    "name = ['D','e',['A', 'u'],'n','d','r',['i','e']]\n",
    "print(name)"
   ]
  },
  {
   "cell_type": "code",
   "execution_count": 124,
   "metadata": {},
   "outputs": [
    {
     "name": "stdout",
     "output_type": "stream",
     "text": [
      "list1 has been deleted.\n"
     ]
    }
   ],
   "source": [
    "del(list1)\n",
    "print(\"list1 has been deleted.\")"
   ]
  },
  {
   "cell_type": "code",
   "execution_count": 128,
   "metadata": {},
   "outputs": [
    {
     "name": "stdout",
     "output_type": "stream",
     "text": [
      "...name has been deleted.\n"
     ]
    }
   ],
   "source": [
    "name = ['D','e',['A', 'u'],'n','d','r',['i','e']]\n",
    "del(name)\n",
    "print('...name has been deleted.')"
   ]
  },
  {
   "cell_type": "code",
   "execution_count": 129,
   "metadata": {},
   "outputs": [
    {
     "ename": "NameError",
     "evalue": "name 'list1' is not defined",
     "output_type": "error",
     "traceback": [
      "\u001b[1;31m---------------------------------------------------------------------------\u001b[0m",
      "\u001b[1;31mNameError\u001b[0m                                 Traceback (most recent call last)",
      "Cell \u001b[1;32mIn[129], line 1\u001b[0m\n\u001b[1;32m----> 1\u001b[0m \u001b[38;5;28mprint\u001b[39m(list1)\n",
      "\u001b[1;31mNameError\u001b[0m: name 'list1' is not defined"
     ]
    }
   ],
   "source": [
    "print(list1)\n",
    "# You will get an error since list1 has been deleted."
   ]
  },
  {
   "cell_type": "code",
   "execution_count": 130,
   "metadata": {},
   "outputs": [
    {
     "ename": "NameError",
     "evalue": "name 'name' is not defined",
     "output_type": "error",
     "traceback": [
      "\u001b[1;31m---------------------------------------------------------------------------\u001b[0m",
      "\u001b[1;31mNameError\u001b[0m                                 Traceback (most recent call last)",
      "Cell \u001b[1;32mIn[130], line 1\u001b[0m\n\u001b[1;32m----> 1\u001b[0m \u001b[38;5;28mprint\u001b[39m(name)\n",
      "\u001b[1;31mNameError\u001b[0m: name 'name' is not defined"
     ]
    }
   ],
   "source": [
    "print(name)"
   ]
  },
  {
   "cell_type": "markdown",
   "metadata": {},
   "source": [
    "<hr style=\"border:5px solid green\"> </hr>"
   ]
  },
  {
   "cell_type": "markdown",
   "metadata": {},
   "source": [
    "## 7. Operations on List\n",
    "Lists implement all of the common and mutable sequence operations.\n",
    "\n",
    "### 7.1 Concatenate Iists\n",
    "Using + to concatenate strings\n",
    "\n",
    "### <font color=red> **Run the following 2 code blocks:** </font>"
   ]
  },
  {
   "cell_type": "code",
   "execution_count": 131,
   "metadata": {},
   "outputs": [
    {
     "name": "stdout",
     "output_type": "stream",
     "text": [
      "[1, 2, [3, 5], 4, 'Hello', 'World']\n"
     ]
    }
   ],
   "source": [
    "list1 = [1, 2, [3,5], 4]\n",
    "list2 = [\"Hello\", \"World\"]\n",
    "print(list1 + list2)"
   ]
  },
  {
   "cell_type": "code",
   "execution_count": 133,
   "metadata": {},
   "outputs": [
    {
     "name": "stdout",
     "output_type": "stream",
     "text": [
      "['D', 'e', ['A', 'u'], 'n', 'd', 'r', ['i', 'e'], ' ', ['H', 'o'], 'w', ['a', 'r', 'd']]\n"
     ]
    }
   ],
   "source": [
    "fName = ['D','e',['A', 'u'],'n','d','r',['i','e']]\n",
    "lName = [' ',['H', 'o'], 'w', ['a','r','d']]\n",
    "print (fName + lName)"
   ]
  },
  {
   "cell_type": "code",
   "execution_count": 134,
   "metadata": {},
   "outputs": [
    {
     "name": "stdout",
     "output_type": "stream",
     "text": [
      "[1, 3, 5, 9, 7, 5]\n"
     ]
    }
   ],
   "source": [
    "# We can also use+ operator to combine two lists. \n",
    "#This is also called concatenation. \n",
    "#The * operator repeats a list for the given number of times.\n",
    "\n",
    "odd= [1, 3, 5]\n",
    "\n",
    "\n",
    "print(odd + [9, 7, 5])"
   ]
  },
  {
   "cell_type": "code",
   "execution_count": 135,
   "metadata": {},
   "outputs": [
    {
     "name": "stdout",
     "output_type": "stream",
     "text": [
      "['D', 'e', ['A', 'u'], 'n', 'd', 'r', ['i', 'e'], ' ', ['H', 'o'], 'w', ['a', 'r', 'd']]\n"
     ]
    }
   ],
   "source": [
    "fName = ['D','e',['A', 'u'],'n','d','r',['i','e']]\n",
    "print (fName + [' ',['H', 'o'], 'w', ['a','r','d']])"
   ]
  },
  {
   "cell_type": "markdown",
   "metadata": {},
   "source": [
    "### 7.2 Replicate lists\n",
    "\n",
    "### <font color=red> **Run the following 2 code blocks:** </font>"
   ]
  },
  {
   "cell_type": "code",
   "execution_count": 136,
   "metadata": {},
   "outputs": [
    {
     "name": "stdout",
     "output_type": "stream",
     "text": [
      "[1, 2, 1, 2, 1, 2]\n"
     ]
    }
   ],
   "source": [
    "aList = [1, 2]\n",
    "\n",
    "print (aList * 3)"
   ]
  },
  {
   "cell_type": "code",
   "execution_count": 137,
   "metadata": {},
   "outputs": [
    {
     "name": "stdout",
     "output_type": "stream",
     "text": [
      "[' ', ['H', 'o'], 'w', ['a', 'r', 'd'], ' ', ['H', 'o'], 'w', ['a', 'r', 'd']]\n"
     ]
    }
   ],
   "source": [
    "lName = [' ',['H', 'o'], 'w', ['a','r','d']]\n",
    "print (lName * 2)"
   ]
  },
  {
   "cell_type": "code",
   "execution_count": 138,
   "metadata": {},
   "outputs": [
    {
     "name": "stdout",
     "output_type": "stream",
     "text": [
      "['re', 're', 're']\n"
     ]
    }
   ],
   "source": [
    "print([\"re\"] * 3)"
   ]
  },
  {
   "cell_type": "code",
   "execution_count": 139,
   "metadata": {},
   "outputs": [
    {
     "name": "stdout",
     "output_type": "stream",
     "text": [
      "['Hello World', 'Hello World', 'Hello World']\n"
     ]
    }
   ],
   "source": [
    "print(['Hello World'] * 3)"
   ]
  },
  {
   "cell_type": "code",
   "execution_count": 140,
   "metadata": {},
   "outputs": [
    {
     "name": "stdout",
     "output_type": "stream",
     "text": [
      "['Is there anyboy out there?', 'Is there anyboy out there?', 'Is there anyboy out there?']\n"
     ]
    }
   ],
   "source": [
    "print(['Is there anyboy out there?'] * 3)"
   ]
  },
  {
   "cell_type": "markdown",
   "metadata": {},
   "source": [
    "### 7.3 Test elements with \"in\" and \"not in\"\n",
    "\n",
    "### <font color=red> **Run the following 2 code blocks:** </font>"
   ]
  },
  {
   "cell_type": "code",
   "execution_count": 141,
   "metadata": {},
   "outputs": [
    {
     "name": "stdout",
     "output_type": "stream",
     "text": [
      "True\n"
     ]
    }
   ],
   "source": [
    "list1 = [1, 2, [3,5], 4]\n",
    "print (2 in list1)"
   ]
  },
  {
   "cell_type": "code",
   "execution_count": 142,
   "metadata": {},
   "outputs": [
    {
     "name": "stdout",
     "output_type": "stream",
     "text": [
      "True\n"
     ]
    }
   ],
   "source": [
    "greetings = [\"Hello\", 'Ni Hao', 'Bonjour', 'Hola']\n",
    "print (\"Hello\" in greetings)"
   ]
  },
  {
   "cell_type": "code",
   "execution_count": 143,
   "metadata": {},
   "outputs": [
    {
     "name": "stdout",
     "output_type": "stream",
     "text": [
      "False\n"
     ]
    }
   ],
   "source": [
    "list1 = [1, 2, [3,5], 4]\n",
    "print ([3] in list1)"
   ]
  },
  {
   "cell_type": "code",
   "execution_count": 144,
   "metadata": {},
   "outputs": [
    {
     "name": "stdout",
     "output_type": "stream",
     "text": [
      "False\n"
     ]
    }
   ],
   "source": [
    "greetings = [[\"Hello\", \"Hi\", \"Hey\"], 'Ni Hao', ['Bonjour', 'Bonjou', 'Bonhuit'], 'Hola']\n",
    "print (\"Hello\" in greetings)"
   ]
  },
  {
   "cell_type": "markdown",
   "metadata": {},
   "source": [
    "### 7.4 Compare lists: <, >, <=, >=, ==, !=\n",
    "\n",
    "### <font color=red> **Run the following code block:** </font>"
   ]
  },
  {
   "cell_type": "code",
   "execution_count": 145,
   "metadata": {},
   "outputs": [
    {
     "name": "stdout",
     "output_type": "stream",
     "text": [
      "False\n"
     ]
    }
   ],
   "source": [
    "list1 = [1, 2, [3,5], 4]\n",
    "list2 = [1, 2, 4]\n",
    "print (list1 == list2)"
   ]
  },
  {
   "cell_type": "code",
   "execution_count": 146,
   "metadata": {},
   "outputs": [
    {
     "name": "stdout",
     "output_type": "stream",
     "text": [
      "False\n"
     ]
    }
   ],
   "source": [
    "num1 = [2, 4, 6, 8, 10]\n",
    "num2 = [1, 3, 5, 7, 9]\n",
    "print (num1 < num2)"
   ]
  },
  {
   "cell_type": "markdown",
   "metadata": {},
   "source": [
    "### 7.5 Iterate a list using for loop\n",
    "\n",
    "### <font color=red> **Run the following 4 code blocks:** </font>"
   ]
  },
  {
   "cell_type": "code",
   "execution_count": 147,
   "metadata": {},
   "outputs": [
    {
     "name": "stdout",
     "output_type": "stream",
     "text": [
      "1\n",
      "2\n",
      "[3, 5]\n",
      "4\n"
     ]
    }
   ],
   "source": [
    "list1 = [1, 2, [3,5], 4]\n",
    "for i in list1:\n",
    "    print (i)"
   ]
  },
  {
   "cell_type": "code",
   "execution_count": 149,
   "metadata": {},
   "outputs": [
    {
     "name": "stdout",
     "output_type": "stream",
     "text": [
      "2\n",
      "4\n",
      "6\n",
      "8\n",
      "10\n",
      "1\n",
      "3\n",
      "5\n",
      "7\n",
      "9\n"
     ]
    }
   ],
   "source": [
    "num1 = [2, 4, 6, 8, 10]\n",
    "num2 = [1, 3, 5, 7, 9]\n",
    "num3 = num1 + num2\n",
    "for num in num3:\n",
    "    print(num)"
   ]
  },
  {
   "cell_type": "code",
   "execution_count": 150,
   "metadata": {},
   "outputs": [
    {
     "name": "stdout",
     "output_type": "stream",
     "text": [
      "12[3, 5]4"
     ]
    }
   ],
   "source": [
    "list1 = [1, 2, [3,5], 4]\n",
    "\n",
    "for i in list1:\n",
    "    print(i, end=\"\")"
   ]
  },
  {
   "cell_type": "code",
   "execution_count": 157,
   "metadata": {},
   "outputs": [
    {
     "name": "stdout",
     "output_type": "stream",
     "text": [
      "1 tubby tubby 2 tubby tubby 3 tubby tubby 4 tubby tubby 5 tubby tubby "
     ]
    }
   ],
   "source": [
    "num2 = [1, 2, 3, 4, 5]\n",
    "for num in num2:\n",
    "    print(num, end = ' tubby tubby ')"
   ]
  },
  {
   "cell_type": "code",
   "execution_count": 158,
   "metadata": {},
   "outputs": [
    {
     "name": "stdout",
     "output_type": "stream",
     "text": [
      "1\n",
      "2\n",
      "[3, 5]\n",
      "4\n"
     ]
    }
   ],
   "source": [
    "list1 = [1, 2, [3,5], 4]\n",
    "for i in list1:\n",
    "    print (i, end=\"\\n\")"
   ]
  },
  {
   "cell_type": "code",
   "execution_count": 160,
   "metadata": {},
   "outputs": [
    {
     "name": "stdout",
     "output_type": "stream",
     "text": [
      "1 tubby tubby \n",
      "2 tubby tubby \n",
      "3 tubby tubby \n",
      "4 tubby tubby \n",
      "5 tubby tubby \n"
     ]
    }
   ],
   "source": [
    "num2 = [1, 2, 3, 4, 5]\n",
    "for num in num2:\n",
    "    print(num, end = ' tubby tubby \\n')"
   ]
  },
  {
   "cell_type": "code",
   "execution_count": 161,
   "metadata": {},
   "outputs": [
    {
     "name": "stdout",
     "output_type": "stream",
     "text": [
      "I like apple\n",
      "I like banana\n",
      "I like mango\n"
     ]
    }
   ],
   "source": [
    "for fruit in [\"apple\",\"banana\",\"mango\"]:\n",
    "    print(\"I like\",fruit)"
   ]
  },
  {
   "cell_type": "code",
   "execution_count": 162,
   "metadata": {},
   "outputs": [
    {
     "name": "stdout",
     "output_type": "stream",
     "text": [
      "I hate Sunday\n",
      "I hate Monday\n",
      "I hate Tuesday\n",
      "I hate Wednesday\n",
      "I hate Thursday\n",
      "I hate Friday\n",
      "I hate Saturday\n"
     ]
    }
   ],
   "source": [
    "for days in ['Sunday', 'Monday', 'Tuesday', \"Wednesday\", 'Thursday', 'Friday', \"Saturday\"]:\n",
    "    print(\"I hate\", days)"
   ]
  },
  {
   "cell_type": "markdown",
   "metadata": {},
   "source": [
    "### 7.6 Sort lists\n",
    "\n",
    "> #### 7.6.1 Using the sort method of the class list: sort (*, key = none, reverse = false)\n",
    "\n",
    "This method list.sort():\n",
    " - Sort the list in ***place***\n",
    " - Use only < comparisons between items.\n",
    " \n",
    "By default, sort() doesn't require any extra parameters . However, it has two optional parameters :\n",
    " - reverse - If true, the sorted list is reversed (or sorted in descending order)\n",
    " - key - function that serves as a key for the sort comparison\n",
    "\n",
    "<font color=red>***IMPORTANT NOTES:***</font>\n",
    "\n",
    "This method modifies the sequence in place for economy of space when sorting a large sequence. Exceptions are not suppressed.\n",
    " - if any comparison opertions fail, the entire sort operation will fail\n",
    " - the list will likely be left in a partially modified state.\n",
    " \n",
    " ### <font color=red> **Run the following code block:** </font>"
   ]
  },
  {
   "cell_type": "code",
   "execution_count": 163,
   "metadata": {},
   "outputs": [
    {
     "name": "stdout",
     "output_type": "stream",
     "text": [
      "Sorted list: ['a', 'e', 'i', 'o', 'u']\n"
     ]
    }
   ],
   "source": [
    "# vowels list\n",
    "vowels= ['e', 'a', 'u', 'o', 'i']\n",
    "\n",
    "# sort the vowels\n",
    "vowels.sort()\n",
    "\n",
    "# print vowels\n",
    "print('Sorted list:', vowels)"
   ]
  },
  {
   "cell_type": "code",
   "execution_count": 166,
   "metadata": {},
   "outputs": [
    {
     "name": "stdout",
     "output_type": "stream",
     "text": [
      "My name sorted is:  ['A', 'D', 'd', 'e', 'e', 'i', 'n', 'r', 'u']\n"
     ]
    }
   ],
   "source": [
    "name = ['D','e','A', 'u','n','d','r','i','e']\n",
    "name.sort()\n",
    "print('My name sorted is: ', name)"
   ]
  },
  {
   "cell_type": "markdown",
   "metadata": {},
   "source": [
    "> #### 7.6.2 Using the built-in sorted() function: sorted(iterable,  *, key = None, reverse = False)\n",
    "\n",
    "The built-in sorted() function returns a new sorted list from the items in iterable.\n",
    " \n",
    " ### <font color=red> **Run the following code block:** </font>"
   ]
  },
  {
   "cell_type": "code",
   "execution_count": 167,
   "metadata": {},
   "outputs": [
    {
     "name": "stdout",
     "output_type": "stream",
     "text": [
      "Sorted list: ['a', 'e', 'i', 'o', 'u']\n"
     ]
    },
    {
     "data": {
      "text/plain": [
       "(1564913691392, 1564898392000)"
      ]
     },
     "execution_count": 167,
     "metadata": {},
     "output_type": "execute_result"
    }
   ],
   "source": [
    "# vowels list\n",
    "vowels= ['e', 'a', 'u', 'o', 'i']\n",
    "\n",
    "# sort the vowels\n",
    "sortedVowels = sorted(vowels)\n",
    "\n",
    "# print vowels\n",
    "print('Sorted list:', sortedVowels)\n",
    "\n",
    "#A new list has been created and returned by the built-in sorted function\n",
    "id(vowels), id(sortedVowels)"
   ]
  },
  {
   "cell_type": "code",
   "execution_count": 170,
   "metadata": {},
   "outputs": [
    {
     "name": "stdout",
     "output_type": "stream",
     "text": [
      "My name sorted is:  ['A', 'D', 'd', 'e', 'e', 'i', 'n', 'r', 'u']\n"
     ]
    },
    {
     "data": {
      "text/plain": [
       "(1564913344576, 1564913338496)"
      ]
     },
     "execution_count": 170,
     "metadata": {},
     "output_type": "execute_result"
    }
   ],
   "source": [
    "name = ['D','e','A', 'u','n','d','r','i','e']\n",
    "nameSorted = sorted(name)\n",
    "print('My name sorted is: ', nameSorted)\n",
    "id(name), id(nameSorted)"
   ]
  },
  {
   "cell_type": "markdown",
   "metadata": {},
   "source": [
    "<hr style=\"border:5px solid green\"> </hr>"
   ]
  },
  {
   "cell_type": "markdown",
   "metadata": {},
   "source": [
    "## 8. Class list\n",
    "\n",
    "### 7.1 Count()\n",
    "\n",
    "count(x): return the number of elements of the tuple that are equal to x\n",
    "\n",
    "### <font color=red> **Run the following code block:** </font>"
   ]
  },
  {
   "cell_type": "code",
   "execution_count": 171,
   "metadata": {},
   "outputs": [
    {
     "name": "stdout",
     "output_type": "stream",
     "text": [
      "2\n"
     ]
    }
   ],
   "source": [
    "list1 = ['a','p','p','l','e']\n",
    "print(list1.count('p'))"
   ]
  },
  {
   "cell_type": "code",
   "execution_count": 178,
   "metadata": {},
   "outputs": [
    {
     "name": "stdout",
     "output_type": "stream",
     "text": [
      "2\n"
     ]
    }
   ],
   "source": [
    "name = ['D','e','A', 'u','n','d','r','i','e']\n",
    "print(name.count('e'))"
   ]
  },
  {
   "cell_type": "markdown",
   "metadata": {},
   "source": [
    "### 7.2 index (x)\n",
    "\n",
    "index(x) returns the index of the first element that is equal to x\n",
    "\n",
    "### <font color=red> **Run the following code block:** </font>"
   ]
  },
  {
   "cell_type": "code",
   "execution_count": 179,
   "metadata": {},
   "outputs": [
    {
     "name": "stdout",
     "output_type": "stream",
     "text": [
      "1\n"
     ]
    }
   ],
   "source": [
    "list1 = ['a','p','p','l','e']\n",
    "print(list1.index('p'))"
   ]
  },
  {
   "cell_type": "code",
   "execution_count": 180,
   "metadata": {},
   "outputs": [
    {
     "name": "stdout",
     "output_type": "stream",
     "text": [
      "6\n"
     ]
    }
   ],
   "source": [
    "name = ['D','e','A', 'u','n','d','r','i','e']\n",
    "print(name.index('r'))"
   ]
  },
  {
   "cell_type": "markdown",
   "metadata": {},
   "source": [
    "<hr style=\"border:5px solid green\"> </hr>"
   ]
  }
 ],
 "metadata": {
  "kernelspec": {
   "display_name": "Python 3 (ipykernel)",
   "language": "python",
   "name": "python3"
  },
  "language_info": {
   "codemirror_mode": {
    "name": "ipython",
    "version": 3
   },
   "file_extension": ".py",
   "mimetype": "text/x-python",
   "name": "python",
   "nbconvert_exporter": "python",
   "pygments_lexer": "ipython3",
   "version": "3.11.5"
  }
 },
 "nbformat": 4,
 "nbformat_minor": 4
}
