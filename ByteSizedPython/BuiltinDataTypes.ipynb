{
 "cells": [
  {
   "cell_type": "markdown",
   "metadata": {},
   "source": [
    "# <center><font color=green>Built-In Basic Data Types: </font> </center>  \n",
    "# <center><font color=green>Programming for Data Science with Python </font> </center>\n",
    "\n",
    "\n",
    "## Overview\n",
    "#### Python: Everything is an Object\n",
    "In Python, everything is an object\n",
    " - All values are objects\n",
    " - Anything which can be used as a value (int, str, float, functions, etc.) are implemented as objects.\n",
    " \n",
    "#### Built-In Basic Data Types\n",
    " - NUMERIC:\n",
    "> - Integers: int\n",
    "> - Floating point numbers: float\n",
    "> - Complex numbers: complex\n",
    "\n",
    " - LOGICAL/BOOLEAN:\n",
    "Boolean values: bool\n",
    "The focus: the integers and the floats\n",
    "\n",
    " \n",
    "<hr style=\"border:5px solid green\"> </hr>\n",
    "\n",
    " \n",
    "## 1. Numeric Data Types\n",
    "### 1.1 Integers: int\n",
    "\n",
    "### <font color=red> **Run the following code:** </font>"
   ]
  },
  {
   "cell_type": "code",
   "execution_count": 15,
   "metadata": {},
   "outputs": [
    {
     "name": "stdout",
     "output_type": "stream",
     "text": [
      "Data type of x:  <class 'int'> \n",
      "\n",
      "Data type of y:  <class 'int'> \n",
      "\n"
     ]
    }
   ],
   "source": [
    "x = 3\n",
    "\n",
    "y = x\n",
    "\n",
    "print (\"Data type of x: \", type(x), '\\n')\n",
    "print (\"Data type of y: \", type(y), '\\n')"
   ]
  },
  {
   "cell_type": "code",
   "execution_count": 16,
   "metadata": {},
   "outputs": [
    {
     "name": "stdout",
     "output_type": "stream",
     "text": [
      "Data type of a:  <class 'int'> \n",
      "\n",
      "Data type of b:  <class 'int'> \n",
      "\n",
      "Data type of c:  <class 'int'> \n",
      "\n"
     ]
    }
   ],
   "source": [
    "a = 8\n",
    "\n",
    "b = a\n",
    "\n",
    "c = b\n",
    "\n",
    "print (\"Data type of a: \", type(a), '\\n')\n",
    "print (\"Data type of b: \", type(b), '\\n')\n",
    "print (\"Data type of c: \", type(c), '\\n')"
   ]
  },
  {
   "cell_type": "markdown",
   "metadata": {},
   "source": [
    "### 1.2 Floating-Point Numbers: float\n",
    "### <font color=red> **Run the following code:** </font>"
   ]
  },
  {
   "cell_type": "code",
   "execution_count": 17,
   "metadata": {},
   "outputs": [
    {
     "name": "stdout",
     "output_type": "stream",
     "text": [
      "Data type of PI:  <class 'float'> \n",
      "\n",
      "Data type of y:  <class 'float'> \n",
      "\n"
     ]
    }
   ],
   "source": [
    "PI = 3.14\n",
    "\n",
    "y = PI\n",
    "\n",
    "print (\"Data type of PI: \", type(PI), '\\n')\n",
    "print (\"Data type of y: \", type(y), '\\n')"
   ]
  },
  {
   "cell_type": "markdown",
   "metadata": {},
   "source": [
    "### 1.3 Complex Numbers: complex\n",
    "A complex number is represented by “x + yj”.\n",
    " - Python converts the real numbers x and y into complex using the function complex (x,y).\n",
    " - The real part can be accessed using the function real() and imaginary part can be represented by imag().\n",
    "### <font color=red> **Run the following code:** </font>"
   ]
  },
  {
   "cell_type": "code",
   "execution_count": 18,
   "metadata": {},
   "outputs": [
    {
     "name": "stdout",
     "output_type": "stream",
     "text": [
      "aComplex is a complex number:  (5+3j) \n",
      "\n",
      "Data type of aComplex:  <class 'complex'> \n",
      "\n"
     ]
    }
   ],
   "source": [
    "x = 5\n",
    "\n",
    "y = 3\n",
    "\n",
    "aComplex = complex(5,3)\n",
    "\n",
    "print (\"aComplex is a complex number: \", aComplex, '\\n')\n",
    "print (\"Data type of aComplex: \", type(aComplex), '\\n')"
   ]
  },
  {
   "cell_type": "code",
   "execution_count": 19,
   "metadata": {},
   "outputs": [
    {
     "name": "stdout",
     "output_type": "stream",
     "text": [
      "aComplex is a complex number:  (45+39j) \n",
      "\n",
      "Data type of bComplex:  <class 'complex'> \n",
      "\n",
      "aComplex is a complex number:  (39+45j) \n",
      "\n",
      "Data type of bComplex:  <class 'complex'> \n",
      "\n"
     ]
    }
   ],
   "source": [
    "a = 45\n",
    "\n",
    "b = 39\n",
    "\n",
    "aComplex = complex(45,39)\n",
    "bComplex = complex(39, 45)\n",
    "\n",
    "print (\"aComplex is a complex number: \", aComplex, '\\n')\n",
    "print (\"Data type of bComplex: \", type(aComplex), '\\n')\n",
    "print (\"aComplex is a complex number: \", bComplex, '\\n')\n",
    "print (\"Data type of bComplex: \", type(bComplex), '\\n')"
   ]
  },
  {
   "cell_type": "markdown",
   "metadata": {},
   "source": [
    "<hr style=\"border:5px solid green\"> </hr>"
   ]
  },
  {
   "cell_type": "markdown",
   "metadata": {},
   "source": [
    "## 2. Logical Data Types/Boolean Values: bool\n",
    "### <font color=red> **Run the following code:** </font>"
   ]
  },
  {
   "cell_type": "code",
   "execution_count": 20,
   "metadata": {},
   "outputs": [
    {
     "name": "stdout",
     "output_type": "stream",
     "text": [
      "boolVar is a boolean variable:  True \n",
      "\n",
      "Data type of boolVar:  <class 'bool'> \n",
      "\n"
     ]
    }
   ],
   "source": [
    "boolVar = True\n",
    "print (\"boolVar is a boolean variable: \", boolVar, '\\n')\n",
    "print (\"Data type of boolVar: \", type(boolVar), '\\n')"
   ]
  },
  {
   "cell_type": "code",
   "execution_count": 21,
   "metadata": {},
   "outputs": [
    {
     "name": "stdout",
     "output_type": "stream",
     "text": [
      "boolVar is a boolean variable:  False \n",
      "\n",
      "Data type of boolVar:  <class 'bool'> \n",
      "\n"
     ]
    }
   ],
   "source": [
    "boolVar = False\n",
    "print (\"boolVar is a boolean variable: \", boolVar, '\\n')\n",
    "print (\"Data type of boolVar: \", type(boolVar), '\\n')"
   ]
  },
  {
   "cell_type": "markdown",
   "metadata": {},
   "source": [
    "#### <font color=red>IMPORTANT NOTES:</font>\n",
    "Any values that are ***NOT 0*** or null can be used the “True” Boolean value in Python.\n",
    "### <font color=red> **Run the following 2 code blocks:** </font>"
   ]
  },
  {
   "cell_type": "code",
   "execution_count": 22,
   "metadata": {},
   "outputs": [
    {
     "name": "stdout",
     "output_type": "stream",
     "text": [
      "Data type of boolVar:  <class 'int'> \n",
      "\n"
     ]
    }
   ],
   "source": [
    "boolVar = 5\n",
    "\n",
    "if (boolVar):\n",
    "    print (\"Data type of boolVar: \", type(boolVar), '\\n')"
   ]
  },
  {
   "cell_type": "code",
   "execution_count": 23,
   "metadata": {},
   "outputs": [
    {
     "name": "stdout",
     "output_type": "stream",
     "text": [
      "Data type of boolVar:  <class 'int'> \n",
      "\n"
     ]
    }
   ],
   "source": [
    "boolie = 45\n",
    "\n",
    "if (boolie):\n",
    "    print (\"Data type of boolVar: \", type(boolVar), '\\n')"
   ]
  },
  {
   "cell_type": "code",
   "execution_count": 24,
   "metadata": {},
   "outputs": [
    {
     "name": "stdout",
     "output_type": "stream",
     "text": [
      "boolVar is a boolean variable:  False \n",
      "\n",
      "Data type of boolVar:  <class 'bool'> \n",
      "\n"
     ]
    }
   ],
   "source": [
    "boolVar = False\n",
    "print (\"boolVar is a boolean variable: \", boolVar, '\\n')\n",
    "print (\"Data type of boolVar: \", type(boolVar), '\\n')"
   ]
  },
  {
   "cell_type": "code",
   "execution_count": 25,
   "metadata": {},
   "outputs": [
    {
     "name": "stdout",
     "output_type": "stream",
     "text": [
      "boolVar is a boolean variable:  True \n",
      "\n",
      "Data type of boolVar:  <class 'bool'> \n",
      "\n"
     ]
    }
   ],
   "source": [
    "boolVar = True\n",
    "print (\"boolVar is a boolean variable: \", boolVar, '\\n')\n",
    "print (\"Data type of boolVar: \", type(boolVar), '\\n')"
   ]
  },
  {
   "cell_type": "markdown",
   "metadata": {},
   "source": [
    "#### <font color=red>IMPORTANT NOTES:</font>\n",
    "Any zero values like ***0 or null*** can be used the “False” Boolean value in Python."
   ]
  },
  {
   "cell_type": "code",
   "execution_count": 26,
   "metadata": {},
   "outputs": [],
   "source": [
    "boolVar=0\n",
    "\n",
    "if (boolVar):\n",
    "    print (\"Data type of boolVar: \", type(boolVar), '\\n') "
   ]
  },
  {
   "cell_type": "markdown",
   "metadata": {},
   "source": [
    "#### <font color=red>IMPORTANT NOTES:</font>\n",
    "\n",
    "In the above code, the value 0 can be used as “False.”\n",
    "Therefore, nothing is printed out when the code in the above cell is executed.\n",
    "\n",
    "\n",
    "<hr style=\"border:5px solid green\"> </hr>\n",
    "\n",
    "\n",
    "## 3. Character Data Types\n",
    "\n",
    "***NOTES*** about character data types\n",
    "\n",
    " - Python does not support character data type (char).\n",
    " - It supports string and the characters as string of length one.\n",
    " \n",
    " ### <font color=red> **Run the following code:** </font>"
   ]
  },
  {
   "cell_type": "code",
   "execution_count": 27,
   "metadata": {},
   "outputs": [
    {
     "name": "stdout",
     "output_type": "stream",
     "text": [
      "aChar is a String variable, NOT a Character variable:  a \n",
      "\n",
      "ata type of aChar: <class 'str'> \n",
      "\n"
     ]
    }
   ],
   "source": [
    "aChar = 'a'\n",
    "print (\"aChar is a String variable, NOT a Character variable: \", aChar, \"\\n\")\n",
    "print (\"ata type of aChar:\",type(aChar),'\\n')"
   ]
  },
  {
   "cell_type": "code",
   "execution_count": 28,
   "metadata": {},
   "outputs": [
    {
     "name": "stdout",
     "output_type": "stream",
     "text": [
      "aChar is a String variable, NOT a Character variable:  z \n",
      "\n",
      "ata type of aChar: <class 'str'> \n",
      "\n"
     ]
    }
   ],
   "source": [
    "zChar = 'z'\n",
    "print (\"aChar is a String variable, NOT a Character variable: \", zChar, \"\\n\")\n",
    "print (\"ata type of aChar:\",type(zChar),'\\n')"
   ]
  },
  {
   "cell_type": "markdown",
   "metadata": {},
   "source": [
    "<hr style=\"border:5px solid green\"> </hr>"
   ]
  }
 ],
 "metadata": {
  "kernelspec": {
   "display_name": "Python 3 (ipykernel)",
   "language": "python",
   "name": "python3"
  },
  "language_info": {
   "codemirror_mode": {
    "name": "ipython",
    "version": 3
   },
   "file_extension": ".py",
   "mimetype": "text/x-python",
   "name": "python",
   "nbconvert_exporter": "python",
   "pygments_lexer": "ipython3",
   "version": "3.11.5"
  }
 },
 "nbformat": 4,
 "nbformat_minor": 4
}
