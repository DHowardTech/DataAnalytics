{
 "cells": [
  {
   "cell_type": "markdown",
   "metadata": {},
   "source": [
    "# <center><font color=green>Python Data Structures:  Strings: </font> </center>  \n",
    "# <center><font color=green>Programming for Data Science with Python </font> </center>\n",
    "\n",
    "## 1. Overview\n",
    "\n",
    " - In Python, ***strings*** are the objects of the class str that has the ***constructor str()***.\n",
    " \n",
    " - Strings are one of the most popular data types/data structures in Python.\n",
    " \n",
    " - We can create them simply by enclosing characters in quotes (single or double).\n",
    " \n",
    " - Python treats single quotes the same as double-quotes.\n",
    " \n",
    " - Creating strings is as simple as assigning a value to a variable.\n",
    " \n",
    " ### <font color=red> **Run the following 2 code blocks:** </font>"
   ]
  },
  {
   "cell_type": "code",
   "execution_count": 1,
   "metadata": {},
   "outputs": [
    {
     "name": "stdout",
     "output_type": "stream",
     "text": [
      "Hello\n"
     ]
    }
   ],
   "source": [
    "aStr = \"Hello\"\n",
    "print(aStr)"
   ]
  },
  {
   "cell_type": "code",
   "execution_count": 2,
   "metadata": {},
   "outputs": [
    {
     "name": "stdout",
     "output_type": "stream",
     "text": [
      "English\n"
     ]
    }
   ],
   "source": [
    "language = \"English\"\n",
    "print(language)"
   ]
  },
  {
   "cell_type": "code",
   "execution_count": null,
   "metadata": {},
   "outputs": [],
   "source": [
    "aStr2 = 'Hello'\n",
    "print(aStr2)"
   ]
  },
  {
   "cell_type": "code",
   "execution_count": 3,
   "metadata": {},
   "outputs": [
    {
     "name": "stdout",
     "output_type": "stream",
     "text": [
      "Spanish\n"
     ]
    }
   ],
   "source": [
    "language_2nd = 'Spanish'\n",
    "print(language_2nd)"
   ]
  },
  {
   "cell_type": "markdown",
   "metadata": {},
   "source": [
    "### 1.1 Length of Strings\n",
    " - The ***length*** of a string is the number of characters of the string.\n",
    " - The ***length*** of a string can be obtained using the built-in function ***len()***.\n",
    "\n",
    "<font color=red>**IMPORTANT NOTES:** </font>\n",
    "***len()*** is a ***built-in** function of Python, not a method of class str.\n",
    "\n",
    " ### <font color=red> **Run the following code block:** </font>"
   ]
  },
  {
   "cell_type": "code",
   "execution_count": 4,
   "metadata": {},
   "outputs": [
    {
     "name": "stdout",
     "output_type": "stream",
     "text": [
      "The length of this string - or the number of characters:  19\n"
     ]
    }
   ],
   "source": [
    "# Declare a string\n",
    "aStr = \"This is a string . \"\n",
    "print (\"The length of this string - or the number of characters: \", len(aStr))"
   ]
  },
  {
   "cell_type": "code",
   "execution_count": 5,
   "metadata": {},
   "outputs": [
    {
     "name": "stdout",
     "output_type": "stream",
     "text": [
      "Length of bStr is :  35\n"
     ]
    }
   ],
   "source": [
    "bStr = 'This is another string, but cooler.'\n",
    "print('Length of bStr is : ', len(bStr))"
   ]
  },
  {
   "cell_type": "markdown",
   "metadata": {},
   "source": [
    "### 1.2 String Indices\n",
    " - **String is a sequence data type/structure** in Python.\n",
    " - Like any other sequence data type in Python, the **indices** of a string always start with 0.\n",
    " - The range of indices of a string: 0 ... len(string) - 1\n",
    "\n",
    " ### <font color=red> **Run the following 5 code blocks:** </font>"
   ]
  },
  {
   "cell_type": "code",
   "execution_count": 6,
   "metadata": {},
   "outputs": [
    {
     "name": "stdout",
     "output_type": "stream",
     "text": [
      "The length of this string:  19\n"
     ]
    }
   ],
   "source": [
    "aStr = \"This is a string . \"\n",
    "print(\"The length of this string: \", len(aStr))"
   ]
  },
  {
   "cell_type": "code",
   "execution_count": 15,
   "metadata": {},
   "outputs": [
    {
     "name": "stdout",
     "output_type": "stream",
     "text": [
      "Length of bStr is :  35\n"
     ]
    }
   ],
   "source": [
    "bStr = 'This is another string, but cooler!'\n",
    "print('Length of bStr is : ', len(bStr))"
   ]
  },
  {
   "cell_type": "code",
   "execution_count": 8,
   "metadata": {},
   "outputs": [
    {
     "name": "stdout",
     "output_type": "stream",
     "text": [
      "T\n"
     ]
    }
   ],
   "source": [
    "print(aStr[0])"
   ]
  },
  {
   "cell_type": "code",
   "execution_count": 9,
   "metadata": {},
   "outputs": [
    {
     "name": "stdout",
     "output_type": "stream",
     "text": [
      "i\n"
     ]
    }
   ],
   "source": [
    "print(bStr[5])"
   ]
  },
  {
   "cell_type": "code",
   "execution_count": 10,
   "metadata": {},
   "outputs": [
    {
     "name": "stdout",
     "output_type": "stream",
     "text": [
      "h\n"
     ]
    }
   ],
   "source": [
    "print(aStr[1])"
   ]
  },
  {
   "cell_type": "code",
   "execution_count": 11,
   "metadata": {},
   "outputs": [
    {
     "name": "stdout",
     "output_type": "stream",
     "text": [
      "e\n"
     ]
    }
   ],
   "source": [
    "print(bStr[32])"
   ]
  },
  {
   "cell_type": "code",
   "execution_count": 12,
   "metadata": {},
   "outputs": [
    {
     "name": "stdout",
     "output_type": "stream",
     "text": [
      " \n"
     ]
    }
   ],
   "source": [
    "print(aStr[16])\n",
    "# Notice: This will return a blank space."
   ]
  },
  {
   "cell_type": "code",
   "execution_count": 13,
   "metadata": {},
   "outputs": [
    {
     "name": "stdout",
     "output_type": "stream",
     "text": [
      " \n"
     ]
    }
   ],
   "source": [
    "print(bStr[4])"
   ]
  },
  {
   "cell_type": "code",
   "execution_count": 14,
   "metadata": {},
   "outputs": [
    {
     "name": "stdout",
     "output_type": "stream",
     "text": [
      ".\n"
     ]
    }
   ],
   "source": [
    "print (aStr[17])\n",
    "#Notice:  This will return a period."
   ]
  },
  {
   "cell_type": "code",
   "execution_count": 17,
   "metadata": {},
   "outputs": [
    {
     "name": "stdout",
     "output_type": "stream",
     "text": [
      "!\n"
     ]
    }
   ],
   "source": [
    "print(bStr[34])"
   ]
  },
  {
   "cell_type": "markdown",
   "metadata": {},
   "source": [
    "<hr style=\"border:5px solid green\"> </hr>"
   ]
  },
  {
   "cell_type": "markdown",
   "metadata": {},
   "source": [
    "## 2. Create Strings\n",
    "### 2.1 Using String Literals\n",
    "\n",
    "### <font color=red> **Run the following 4 code blocks:** </font>"
   ]
  },
  {
   "cell_type": "code",
   "execution_count": 18,
   "metadata": {},
   "outputs": [
    {
     "name": "stdout",
     "output_type": "stream",
     "text": [
      "Hello\n"
     ]
    }
   ],
   "source": [
    "# all of the following are equivalent\n",
    "my_string = 'Hello'\n",
    "print(my_string)"
   ]
  },
  {
   "cell_type": "code",
   "execution_count": 19,
   "metadata": {},
   "outputs": [
    {
     "name": "stdout",
     "output_type": "stream",
     "text": [
      "He/Him\n"
     ]
    }
   ],
   "source": [
    "his_string = \"He/Him\"\n",
    "print(his_string)"
   ]
  },
  {
   "cell_type": "code",
   "execution_count": 20,
   "metadata": {},
   "outputs": [
    {
     "name": "stdout",
     "output_type": "stream",
     "text": [
      "Hello\n"
     ]
    }
   ],
   "source": [
    "my_string = \"Hello\"\n",
    "print(my_string)"
   ]
  },
  {
   "cell_type": "code",
   "execution_count": 21,
   "metadata": {},
   "outputs": [
    {
     "name": "stdout",
     "output_type": "stream",
     "text": [
      "She/Her\n"
     ]
    }
   ],
   "source": [
    "her_string = \"She/Her\"\n",
    "print(her_string)"
   ]
  },
  {
   "cell_type": "code",
   "execution_count": 22,
   "metadata": {},
   "outputs": [
    {
     "name": "stdout",
     "output_type": "stream",
     "text": [
      "Hello\n"
     ]
    }
   ],
   "source": [
    "my_string = '''Hello'''\n",
    "print(my_string)"
   ]
  },
  {
   "cell_type": "code",
   "execution_count": 23,
   "metadata": {},
   "outputs": [
    {
     "name": "stdout",
     "output_type": "stream",
     "text": [
      "They/Them\n"
     ]
    }
   ],
   "source": [
    "their_str = '''They/Them'''\n",
    "print(their_str)"
   ]
  },
  {
   "cell_type": "code",
   "execution_count": 24,
   "metadata": {},
   "outputs": [
    {
     "name": "stdout",
     "output_type": "stream",
     "text": [
      "Hello. Welcome to\n",
      "Python World!\n"
     ]
    }
   ],
   "source": [
    "# triple quotes string can extend multiple Lines\n",
    "my_string =\"\"\"Hello. Welcome to\n",
    "Python World!\"\"\"\n",
    "print(my_string)"
   ]
  },
  {
   "cell_type": "code",
   "execution_count": 25,
   "metadata": {},
   "outputs": [
    {
     "name": "stdout",
     "output_type": "stream",
     "text": [
      "With great power,\n",
      "comes great responsibility.\n"
     ]
    }
   ],
   "source": [
    "web_string = \"\"\"With great power,\n",
    "comes great responsibility.\"\"\"\n",
    "print(web_string)"
   ]
  },
  {
   "cell_type": "markdown",
   "metadata": {},
   "source": [
    "### 2.2 Create Strings from Lists - Using join() method\n",
    "\n",
    "### <font color=red> **Run the following 2 code blocks:** </font>"
   ]
  },
  {
   "cell_type": "code",
   "execution_count": 26,
   "metadata": {},
   "outputs": [
    {
     "name": "stdout",
     "output_type": "stream",
     "text": [
      "This is a list:  ['This', 'is', 'a', 'string']\n"
     ]
    }
   ],
   "source": [
    "# VERSION 1: List of strings--> A string\n",
    "\n",
    "alist = [\"This\", \"is\", \"a\", \"string\"]\n",
    "print (\"This is a list: \", alist)"
   ]
  },
  {
   "cell_type": "code",
   "execution_count": 27,
   "metadata": {},
   "outputs": [
    {
     "name": "stdout",
     "output_type": "stream",
     "text": [
      "['Testing', 'one', 'two']\n"
     ]
    }
   ],
   "source": [
    "testList = ['Testing', 'one', 'two']\n",
    "print(testList)\n"
   ]
  },
  {
   "cell_type": "code",
   "execution_count": 28,
   "metadata": {},
   "outputs": [
    {
     "name": "stdout",
     "output_type": "stream",
     "text": [
      "This is a string\n"
     ]
    }
   ],
   "source": [
    "aString =\" \" . join(alist)\n",
    "# aString is a string and so is alist\n",
    "print(aString)"
   ]
  },
  {
   "cell_type": "code",
   "execution_count": 29,
   "metadata": {},
   "outputs": [
    {
     "name": "stdout",
     "output_type": "stream",
     "text": [
      "Testing one two\n"
     ]
    }
   ],
   "source": [
    "bString =\" \".join(testList)\n",
    "print(bString)"
   ]
  },
  {
   "cell_type": "markdown",
   "metadata": {},
   "source": [
    "### 2.3 Create Strings from Lists - Using str() and join ()\n",
    "\n",
    "### <font color=red> **Run the following 2 code blocks:** </font>"
   ]
  },
  {
   "cell_type": "code",
   "execution_count": 30,
   "metadata": {},
   "outputs": [
    {
     "name": "stdout",
     "output_type": "stream",
     "text": [
      "This is a list of strings:  ['20', '30', '40', '50', '60']\n"
     ]
    }
   ],
   "source": [
    "# Version 2: List of numbers--> A string\n",
    "\n",
    "# A List of numbers\n",
    "alist = [20, 30, 40, 50, 60]\n",
    "\n",
    "# Convert aList into a List of strings - Using the constructor str()\n",
    "aStrList = [str(element) for element in alist]\n",
    "\n",
    "print (\"This is a list of strings: \", aStrList)"
   ]
  },
  {
   "cell_type": "code",
   "execution_count": 31,
   "metadata": {},
   "outputs": [
    {
     "name": "stdout",
     "output_type": "stream",
     "text": [
      "Kobe Bryant Top 5 Highest scores ['81', '65', '62', '61', '60']\n"
     ]
    }
   ],
   "source": [
    "kBryant_pts = [81, 65, 62, 61, 60]\n",
    "kBryantList = [str(pt) for pt in kBryant_pts]\n",
    "\n",
    "print('Kobe Bryant Top 5 Highest scores', kBryantList)"
   ]
  },
  {
   "cell_type": "code",
   "execution_count": 32,
   "metadata": {},
   "outputs": [
    {
     "name": "stdout",
     "output_type": "stream",
     "text": [
      "This is a string :  20 30 40 50 60\n"
     ]
    }
   ],
   "source": [
    "# Using join() to create a new string\n",
    "aString =\" \" . join(aStrList)\n",
    "\n",
    "# aString = \"20 30 40 50 60\"\n",
    "print(\"This is a string : \", aString)"
   ]
  },
  {
   "cell_type": "code",
   "execution_count": 35,
   "metadata": {},
   "outputs": [
    {
     "name": "stdout",
     "output_type": "stream",
     "text": [
      "Kobe Bryant's Top 5 Highest scores:  81  65  62  61  60\n"
     ]
    }
   ],
   "source": [
    "kBString = '  '.join(kBryantList)\n",
    "print(\"Kobe Bryant's Top 5 Highest scores: \", kBString)"
   ]
  },
  {
   "cell_type": "markdown",
   "metadata": {},
   "source": [
    "### 2.4 Create Strings from Lists - Using map() and join()\n",
    "\n",
    "### <font color=red> **Run the following code block:** </font>"
   ]
  },
  {
   "cell_type": "code",
   "execution_count": 36,
   "metadata": {},
   "outputs": [
    {
     "name": "stdout",
     "output_type": "stream",
     "text": [
      "<itertools.combinations object at 0x000002AB12A74450>\n"
     ]
    },
    {
     "data": {
      "text/plain": [
       "['1,2,3', '1,2,4', '1,3,4', '2,3,4']"
      ]
     },
     "execution_count": 36,
     "metadata": {},
     "output_type": "execute_result"
    }
   ],
   "source": [
    "# Generate the combination from the list\n",
    "# Then transform each element of the list into a string\n",
    "\n",
    "from itertools import combinations\n",
    "L = [1, 2, 3, 4]\n",
    "\n",
    "print(combinations(L, 3))\n",
    "\n",
    "# Using map() and join() to convert each numeric combination into as string\n",
    "# Thanks to this technique, we can display the List of combinations\n",
    "\n",
    "[\",\".join(map(str, comb)) for comb in combinations(L, 3)]"
   ]
  },
  {
   "cell_type": "markdown",
   "metadata": {},
   "source": [
    "<hr style=\"border:5px solid green\"> </hr>"
   ]
  },
  {
   "cell_type": "markdown",
   "metadata": {},
   "source": [
    "### 3. Access Characters in Strings\n",
    "#### 3.1 Access Single Characters\n",
    "\n",
    "### <font color=red> **Run the following 4 code blocks:** </font>"
   ]
  },
  {
   "cell_type": "code",
   "execution_count": 37,
   "metadata": {},
   "outputs": [
    {
     "name": "stdout",
     "output_type": "stream",
     "text": [
      "str =  programiz\n"
     ]
    }
   ],
   "source": [
    "# Python allows negative indexing for its sequences.\n",
    "# The index of -1 refers to the last item, -2 to the second to the last item, and so on.\n",
    "# We can access a range of items in a string by using the slicing operator (colon).\n",
    "str = 'programiz'\n",
    "print('str = ', str)"
   ]
  },
  {
   "cell_type": "code",
   "execution_count": 39,
   "metadata": {},
   "outputs": [
    {
     "name": "stdout",
     "output_type": "stream",
     "text": [
      "The One string... to rule them all.\n"
     ]
    }
   ],
   "source": [
    "one_string = \"to rule them all.\"\n",
    "print('The One string...', one_string)"
   ]
  },
  {
   "cell_type": "code",
   "execution_count": 40,
   "metadata": {},
   "outputs": [
    {
     "name": "stdout",
     "output_type": "stream",
     "text": [
      "str[0] =  p\n"
     ]
    }
   ],
   "source": [
    "# first character\n",
    "print('str[0] = ', str[0])"
   ]
  },
  {
   "cell_type": "code",
   "execution_count": 43,
   "metadata": {},
   "outputs": [
    {
     "name": "stdout",
     "output_type": "stream",
     "text": [
      "one_string[5] =  l\n"
     ]
    }
   ],
   "source": [
    "print('one_string[5] = ', one_string[5]) #fifth character"
   ]
  },
  {
   "cell_type": "code",
   "execution_count": 44,
   "metadata": {},
   "outputs": [
    {
     "name": "stdout",
     "output_type": "stream",
     "text": [
      "str[0] =  o\n"
     ]
    }
   ],
   "source": [
    "# Third character\n",
    "print('str[0] = ', str[2])"
   ]
  },
  {
   "cell_type": "code",
   "execution_count": 45,
   "metadata": {},
   "outputs": [
    {
     "name": "stdout",
     "output_type": "stream",
     "text": [
      "one_string[10] =  e\n"
     ]
    }
   ],
   "source": [
    "print('one_string[10] = ', one_string[10]) #tenth character"
   ]
  },
  {
   "cell_type": "code",
   "execution_count": 46,
   "metadata": {},
   "outputs": [
    {
     "name": "stdout",
     "output_type": "stream",
     "text": [
      "str[-1] =  z\n"
     ]
    }
   ],
   "source": [
    "#Last character\n",
    "print('str[-1] = ', str[-1])"
   ]
  },
  {
   "cell_type": "code",
   "execution_count": 47,
   "metadata": {},
   "outputs": [
    {
     "name": "stdout",
     "output_type": "stream",
     "text": [
      "one_string[-2] =  l\n"
     ]
    }
   ],
   "source": [
    "print('one_string[-2] = ', one_string[-2]) #second-to-last character"
   ]
  },
  {
   "cell_type": "markdown",
   "metadata": {},
   "source": [
    "### 3.2 Access a Slice of Strings\n",
    "\n",
    "### <font color=red> **Run the following 6 code blocks:** </font>"
   ]
  },
  {
   "cell_type": "code",
   "execution_count": 48,
   "metadata": {},
   "outputs": [
    {
     "name": "stdout",
     "output_type": "stream",
     "text": [
      "str[1:5]=  rogr\n"
     ]
    }
   ],
   "source": [
    "#slicing 2nd to 5th character\n",
    "\n",
    "str='programiz'\n",
    "\n",
    "print('str[1:5]= ', str[1:5])"
   ]
  },
  {
   "cell_type": "code",
   "execution_count": 52,
   "metadata": {},
   "outputs": [
    {
     "name": "stdout",
     "output_type": "stream",
     "text": [
      "marvel_str[3:8] = emble\n"
     ]
    }
   ],
   "source": [
    "marvel_str = 'Assemble!'\n",
    "print('marvel_str[2:8] =', marvel_str[2:8])"
   ]
  },
  {
   "cell_type": "code",
   "execution_count": 57,
   "metadata": {},
   "outputs": [
    {
     "name": "stdout",
     "output_type": "stream",
     "text": [
      "str[5:-2] =  am\n"
     ]
    }
   ],
   "source": [
    "#slicing 6th to 2nd Last character\n",
    "print('str[5:-2] = ', str[5:-2])"
   ]
  },
  {
   "cell_type": "code",
   "execution_count": 62,
   "metadata": {},
   "outputs": [
    {
     "name": "stdout",
     "output_type": "stream",
     "text": [
      "marvel_str[2:-7] = As\n"
     ]
    }
   ],
   "source": [
    "marvel_str = 'Assemble!'\n",
    "print('marvel_str[2:-7] =', marvel_str[:-7])"
   ]
  },
  {
   "cell_type": "code",
   "execution_count": 63,
   "metadata": {},
   "outputs": [
    {
     "name": "stdout",
     "output_type": "stream",
     "text": [
      "ho\n"
     ]
    }
   ],
   "source": [
    "sample_str = 'Python String'\n",
    "\n",
    "# Print a range of character starting from index 3 to index 4\n",
    "print (sample_str[3:5])"
   ]
  },
  {
   "cell_type": "code",
   "execution_count": 65,
   "metadata": {},
   "outputs": [
    {
     "name": "stdout",
     "output_type": "stream",
     "text": [
      "force\n"
     ]
    }
   ],
   "source": [
    "star_str = \"May the force be with you.\"\n",
    "print(star_str[8:13])"
   ]
  },
  {
   "cell_type": "code",
   "execution_count": 66,
   "metadata": {},
   "outputs": [
    {
     "name": "stdout",
     "output_type": "stream",
     "text": [
      "String\n"
     ]
    }
   ],
   "source": [
    "# Print all characters from index 7\n",
    "print (sample_str[7:])"
   ]
  },
  {
   "cell_type": "code",
   "execution_count": 69,
   "metadata": {},
   "outputs": [
    {
     "name": "stdout",
     "output_type": "stream",
     "text": [
      "you.\n"
     ]
    }
   ],
   "source": [
    "print(star_str[22:])"
   ]
  },
  {
   "cell_type": "code",
   "execution_count": 70,
   "metadata": {},
   "outputs": [
    {
     "name": "stdout",
     "output_type": "stream",
     "text": [
      "Python\n"
     ]
    }
   ],
   "source": [
    "# Print all characters before index 6\n",
    "print(sample_str[:6])"
   ]
  },
  {
   "cell_type": "code",
   "execution_count": 72,
   "metadata": {},
   "outputs": [
    {
     "name": "stdout",
     "output_type": "stream",
     "text": [
      "May the force\n"
     ]
    }
   ],
   "source": [
    "print(star_str[:13])"
   ]
  },
  {
   "cell_type": "code",
   "execution_count": 73,
   "metadata": {},
   "outputs": [
    {
     "name": "stdout",
     "output_type": "stream",
     "text": [
      "St\n"
     ]
    }
   ],
   "source": [
    "#Print all characters from index 7 to the index -4 (count from)\n",
    "print (sample_str[7:-4])"
   ]
  },
  {
   "cell_type": "code",
   "execution_count": 74,
   "metadata": {},
   "outputs": [
    {
     "name": "stdout",
     "output_type": "stream",
     "text": [
      " be with\n"
     ]
    }
   ],
   "source": [
    "print(star_str[13:-5])"
   ]
  },
  {
   "cell_type": "markdown",
   "metadata": {},
   "source": [
    "<hr style=\"border:5px solid green\"> </hr>"
   ]
  },
  {
   "cell_type": "markdown",
   "metadata": {},
   "source": [
    "### 4. Modify Strings\n",
    "\n",
    "<font color=red>***IMPORTANT NOTES:*** </font>\n",
    " - ***Strings are immutable***, i.e. they cannot be changed after being created.\n",
    " - Any attempt to change or modify the contents of strings will lead to errors.\n",
    "\n",
    "### <font color=red> **Run the following code block:** </font>"
   ]
  },
  {
   "cell_type": "code",
   "execution_count": 75,
   "metadata": {},
   "outputs": [
    {
     "ename": "TypeError",
     "evalue": "'str' object does not support item assignment",
     "output_type": "error",
     "traceback": [
      "\u001b[1;31m---------------------------------------------------------------------------\u001b[0m",
      "\u001b[1;31mTypeError\u001b[0m                                 Traceback (most recent call last)",
      "Cell \u001b[1;32mIn[75], line 2\u001b[0m\n\u001b[0;32m      1\u001b[0m sample_str \u001b[38;5;241m=\u001b[39m \u001b[38;5;124m'\u001b[39m\u001b[38;5;124mPython String\u001b[39m\u001b[38;5;124m'\u001b[39m\n\u001b[1;32m----> 2\u001b[0m sample_str[\u001b[38;5;241m2\u001b[39m] \u001b[38;5;241m=\u001b[39m \u001b[38;5;124m'\u001b[39m\u001b[38;5;124ma\u001b[39m\u001b[38;5;124m'\u001b[39m\n",
      "\u001b[1;31mTypeError\u001b[0m: 'str' object does not support item assignment"
     ]
    }
   ],
   "source": [
    "sample_str = 'Python String'\n",
    "sample_str[2] = 'a'\n",
    "# Do you know why you have an error in your output?"
   ]
  },
  {
   "cell_type": "markdown",
   "metadata": {},
   "source": [
    "<font color=red>***IMPORTANT NOTES:*** </font>\n",
    "\n",
    "***Strings are immutable.***\n",
    "\n",
    " - This means that elements of a string cannot be changed once it has been assigned.\n",
    " - But an existing string variable can be re-assigned with a brand new string.\n",
    "\n",
    "### <font color=red> **Run the following 2 code blocks:** </font>"
   ]
  },
  {
   "cell_type": "code",
   "execution_count": 76,
   "metadata": {},
   "outputs": [
    {
     "name": "stdout",
     "output_type": "stream",
     "text": [
      "str2:  This is a string . \n"
     ]
    }
   ],
   "source": [
    "str2 = \"This is a string . \"\n",
    "print (\"str2: \", str2)"
   ]
  },
  {
   "cell_type": "code",
   "execution_count": 77,
   "metadata": {},
   "outputs": [
    {
     "name": "stdout",
     "output_type": "stream",
     "text": [
      "Live long, and prosper.\n"
     ]
    }
   ],
   "source": [
    "trek_str = \"Live long, and prosper.\"\n",
    "print(trek_str)"
   ]
  },
  {
   "cell_type": "code",
   "execution_count": 78,
   "metadata": {},
   "outputs": [
    {
     "name": "stdout",
     "output_type": "stream",
     "text": [
      "str2 after being re-assinged :  This is a new string.\n"
     ]
    }
   ],
   "source": [
    "# Reassign a new tuple to tuple1\n",
    "str2 = \"This is a new string.\"\n",
    "print(\"str2 after being re-assinged : \", str2)"
   ]
  },
  {
   "cell_type": "code",
   "execution_count": 81,
   "metadata": {},
   "outputs": [
    {
     "name": "stdout",
     "output_type": "stream",
     "text": [
      "Albert Camus' response to Star Trek's favorite quote: Live long,and prosper? That's absurd.\n"
     ]
    }
   ],
   "source": [
    "trek_str = \"Live long,and prosper? That's absurd.\"\n",
    "print('Albert Camus\\' response to Star Trek\\'s favorite quote:', trek_str)"
   ]
  },
  {
   "cell_type": "markdown",
   "metadata": {},
   "source": [
    "<hr style=\"border:5px solid green\"> </hr>"
   ]
  },
  {
   "cell_type": "markdown",
   "metadata": {},
   "source": [
    "## 5. Copy Strings\n",
    "### 5.1 Shallow copy\n",
    " - Shallow copy means that only the reference to the object is copied. No new object is created.\n",
    " - Assignment with an = on string does not make a copy.\n",
    " - Instead, assignment makes the two variables point to the same list in memory.\n",
    "\n",
    "### <font color=red> **Run the following code block:** </font>\n"
   ]
  },
  {
   "cell_type": "code",
   "execution_count": 82,
   "metadata": {},
   "outputs": [
    {
     "ename": "NameError",
     "evalue": "name 'str1' is not defined",
     "output_type": "error",
     "traceback": [
      "\u001b[1;31m---------------------------------------------------------------------------\u001b[0m",
      "\u001b[1;31mNameError\u001b[0m                                 Traceback (most recent call last)",
      "Cell \u001b[1;32mIn[82], line 2\u001b[0m\n\u001b[0;32m      1\u001b[0m strl \u001b[38;5;241m=\u001b[39m \u001b[38;5;124m\"\u001b[39m\u001b[38;5;124mHello\u001b[39m\u001b[38;5;124m\"\u001b[39m\n\u001b[1;32m----> 2\u001b[0m str2 \u001b[38;5;241m=\u001b[39m str1\n\u001b[0;32m      3\u001b[0m \u001b[38;5;66;03m# Both the strings refer to the same object, i . e. , the same id value\u001b[39;00m\n\u001b[0;32m      4\u001b[0m \u001b[38;5;28mid\u001b[39m(str1), \u001b[38;5;28mid\u001b[39m(str2)\n",
      "\u001b[1;31mNameError\u001b[0m: name 'str1' is not defined"
     ]
    }
   ],
   "source": [
    "strl = \"Hello\"\n",
    "str2 = str1\n",
    "# Both the strings refer to the same object, i . e. , the same id value\n",
    "id(str1), id(str2)"
   ]
  },
  {
   "cell_type": "markdown",
   "metadata": {},
   "source": [
    "### 5.2 Deep copy\n",
    "***Deep copy*** means that a new object will be created when the copying has done.\n",
    "\n",
    " <font color=red> ***IMPORTANT NOTES:***</font>\n",
    "Strings are ***immutable sequence objects***. Strings **cannot be deep-copied***.\n",
    "\n",
    "\n",
    "<hr style=\"border:5px solid green\"> </hr>\n",
    "\n",
    "\n",
    "## 6. Delete Strings\n",
    "To ***delete a string***, using the built-in function ***del()***.\n",
    "\n",
    "### <font color=red> **Run the following 2 code blocks:** </font>"
   ]
  },
  {
   "cell_type": "code",
   "execution_count": 87,
   "metadata": {},
   "outputs": [],
   "source": [
    "sample_str = \"Python is the best scripting language.\"\n",
    "del (sample_str)"
   ]
  },
  {
   "cell_type": "code",
   "execution_count": 88,
   "metadata": {},
   "outputs": [],
   "source": [
    "bat_str = \"I AM BATMAN!\"\n",
    "del (bat_str)"
   ]
  },
  {
   "cell_type": "code",
   "execution_count": 89,
   "metadata": {},
   "outputs": [
    {
     "ename": "NameError",
     "evalue": "name 'sample_str' is not defined",
     "output_type": "error",
     "traceback": [
      "\u001b[1;31m---------------------------------------------------------------------------\u001b[0m",
      "\u001b[1;31mNameError\u001b[0m                                 Traceback (most recent call last)",
      "Cell \u001b[1;32mIn[89], line 3\u001b[0m\n\u001b[0;32m      1\u001b[0m \u001b[38;5;66;03m# to show that the string has been deleted, Let's print it\u001b[39;00m\n\u001b[0;32m      2\u001b[0m \u001b[38;5;66;03m# --> ERROR\u001b[39;00m\n\u001b[1;32m----> 3\u001b[0m \u001b[38;5;28mprint\u001b[39m (sample_str)\n",
      "\u001b[1;31mNameError\u001b[0m: name 'sample_str' is not defined"
     ]
    }
   ],
   "source": [
    "# to show that the string has been deleted, Let's print it\n",
    "# --> ERROR\n",
    "print (sample_str)"
   ]
  },
  {
   "cell_type": "code",
   "execution_count": 90,
   "metadata": {},
   "outputs": [
    {
     "ename": "NameError",
     "evalue": "name 'bat_str' is not defined",
     "output_type": "error",
     "traceback": [
      "\u001b[1;31m---------------------------------------------------------------------------\u001b[0m",
      "\u001b[1;31mNameError\u001b[0m                                 Traceback (most recent call last)",
      "Cell \u001b[1;32mIn[90], line 1\u001b[0m\n\u001b[1;32m----> 1\u001b[0m \u001b[38;5;28mprint\u001b[39m(bat_str)\n",
      "\u001b[1;31mNameError\u001b[0m: name 'bat_str' is not defined"
     ]
    }
   ],
   "source": [
    "print(bat_str)"
   ]
  },
  {
   "cell_type": "markdown",
   "metadata": {},
   "source": [
    "<hr style=\"border:5px solid green\"> </hr>"
   ]
  },
  {
   "cell_type": "markdown",
   "metadata": {},
   "source": [
    "## 7. Operations on Strings\n",
    "### 7 .1 Concatenate Strings\n",
    "Using ***+*** to ***concatenate*** strings\n",
    "\n",
    "### <font color=red> **Run the following code block:** </font>"
   ]
  },
  {
   "cell_type": "code",
   "execution_count": 91,
   "metadata": {},
   "outputs": [
    {
     "name": "stdout",
     "output_type": "stream",
     "text": [
      "strl + str2 + str3 =  Hello World!\n"
     ]
    }
   ],
   "source": [
    "str1 = 'Hello'\n",
    "str2 = ' '\n",
    "str3 ='World!'\n",
    "#using+\n",
    "print('strl + str2 + str3 = ', strl + str2 + str3)"
   ]
  },
  {
   "cell_type": "code",
   "execution_count": 94,
   "metadata": {},
   "outputs": [
    {
     "name": "stdout",
     "output_type": "stream",
     "text": [
      "_300 + _301 + _302:  This is Sparta!\n"
     ]
    }
   ],
   "source": [
    "_300 = 'This '\n",
    "_301 = 'is '\n",
    "_302 = 'Sparta!'\n",
    "print ('_300 + _301 + _302: ', _300 + _301 + _302)"
   ]
  },
  {
   "cell_type": "markdown",
   "metadata": {},
   "source": [
    "### 7.2 Replicate Strings\n",
    "Using <b>*</b> to ***replicate*** a string\n",
    "\n",
    "### <font color=red> **Run the following code block:** </font>"
   ]
  },
  {
   "cell_type": "code",
   "execution_count": 95,
   "metadata": {},
   "outputs": [
    {
     "name": "stdout",
     "output_type": "stream",
     "text": [
      "The string has been replicated three times:  HelloHelloHello\n"
     ]
    }
   ],
   "source": [
    "str = \"Hello\"\n",
    "replicatedStr = str * 3\n",
    "print (\"The string has been replicated three times: \", replicatedStr)"
   ]
  },
  {
   "cell_type": "code",
   "execution_count": 97,
   "metadata": {},
   "outputs": [
    {
     "name": "stdout",
     "output_type": "stream",
     "text": [
      "Guess what time it is? It's Morphin time! It's Morphin time! \n"
     ]
    }
   ],
   "source": [
    "pwr_rngr = 'It\\'s Morphin time! '\n",
    "pwr_rngr3 = pwr_rngr * 2\n",
    "print(\"Guess what time it is?\", pwr_rngr3)"
   ]
  },
  {
   "cell_type": "markdown",
   "metadata": {},
   "source": [
    "### 7.3 Test substrings with \"in\" & \"not in\"\n",
    "\n",
    "### <font color=red> **Run the following 2 code blocks:** </font>"
   ]
  },
  {
   "cell_type": "code",
   "execution_count": 98,
   "metadata": {},
   "outputs": [
    {
     "name": "stdout",
     "output_type": "stream",
     "text": [
      "True\n"
     ]
    }
   ],
   "source": [
    "str1 = \"Welcome\"\n",
    "print(\"come\" in str1)"
   ]
  },
  {
   "cell_type": "code",
   "execution_count": 99,
   "metadata": {},
   "outputs": [
    {
     "name": "stdout",
     "output_type": "stream",
     "text": [
      "True\n"
     ]
    }
   ],
   "source": [
    "gd_brgr = \"Welcome to Good Burger, home of the Good Burger\"\n",
    "print(\"Burger\" in gd_brgr)"
   ]
  },
  {
   "cell_type": "code",
   "execution_count": 100,
   "metadata": {},
   "outputs": [
    {
     "name": "stdout",
     "output_type": "stream",
     "text": [
      "False\n"
     ]
    }
   ],
   "source": [
    "print(\"come\" not in str1)"
   ]
  },
  {
   "cell_type": "code",
   "execution_count": 101,
   "metadata": {},
   "outputs": [
    {
     "name": "stdout",
     "output_type": "stream",
     "text": [
      "True\n"
     ]
    }
   ],
   "source": [
    "print(\"Mondo\" not in gd_brgr)"
   ]
  },
  {
   "cell_type": "markdown",
   "metadata": {},
   "source": [
    "### 7.4 Compare strings: <, >, <=, >=, ==, !=\n",
    "\n",
    "### <font color=red> **Run the following 3 code blocks:** </font>"
   ]
  },
  {
   "cell_type": "code",
   "execution_count": 102,
   "metadata": {},
   "outputs": [
    {
     "name": "stdout",
     "output_type": "stream",
     "text": [
      "True\n"
     ]
    }
   ],
   "source": [
    "# TRUE: \"apple\" comes before \"banana\"\n",
    "print(\"apple\" < \"banana\")"
   ]
  },
  {
   "cell_type": "code",
   "execution_count": 103,
   "metadata": {},
   "outputs": [
    {
     "name": "stdout",
     "output_type": "stream",
     "text": [
      "True\n"
     ]
    }
   ],
   "source": [
    "print('cat' < 'dog') #for all the cat lovers"
   ]
  },
  {
   "cell_type": "code",
   "execution_count": 104,
   "metadata": {},
   "outputs": [
    {
     "name": "stdout",
     "output_type": "stream",
     "text": [
      "False\n"
     ]
    }
   ],
   "source": [
    "print(\"apple\" < \"Apple\")"
   ]
  },
  {
   "cell_type": "code",
   "execution_count": 105,
   "metadata": {},
   "outputs": [
    {
     "name": "stdout",
     "output_type": "stream",
     "text": [
      "False\n"
     ]
    }
   ],
   "source": [
    "print('bill' < 'Bill')"
   ]
  },
  {
   "cell_type": "code",
   "execution_count": 106,
   "metadata": {},
   "outputs": [
    {
     "name": "stdout",
     "output_type": "stream",
     "text": [
      "False\n"
     ]
    }
   ],
   "source": [
    "print(\"apple\" == \"Apple\")"
   ]
  },
  {
   "cell_type": "code",
   "execution_count": 107,
   "metadata": {},
   "outputs": [
    {
     "name": "stdout",
     "output_type": "stream",
     "text": [
      "False\n"
     ]
    }
   ],
   "source": [
    "print('dog' == 'dawg')"
   ]
  },
  {
   "cell_type": "markdown",
   "metadata": {},
   "source": [
    "### 7.5 Iterate strings using for loops\n",
    "\n",
    "### <font color=red> **Run the following 3 code blocks:** </font>"
   ]
  },
  {
   "cell_type": "code",
   "execution_count": 108,
   "metadata": {},
   "outputs": [
    {
     "name": "stdout",
     "output_type": "stream",
     "text": [
      "H\n",
      "e\n",
      "l\n",
      "l\n",
      "o\n"
     ]
    }
   ],
   "source": [
    "aStr = \"Hello\"\n",
    "for i in aStr:\n",
    "    print(i)  "
   ]
  },
  {
   "cell_type": "code",
   "execution_count": 109,
   "metadata": {},
   "outputs": [
    {
     "name": "stdout",
     "output_type": "stream",
     "text": [
      "s\n",
      "t\n",
      "r\n",
      "i\n",
      "n\n",
      "g\n"
     ]
    }
   ],
   "source": [
    "easy_str = \"string\"\n",
    "for i in simple_str:\n",
    "    print(i)"
   ]
  },
  {
   "cell_type": "code",
   "execution_count": 110,
   "metadata": {},
   "outputs": [
    {
     "name": "stdout",
     "output_type": "stream",
     "text": [
      "Hello"
     ]
    }
   ],
   "source": [
    "aStr = \"Hello\"\n",
    "for i in aStr:\n",
    "    print(i, end=\"\")"
   ]
  },
  {
   "cell_type": "code",
   "execution_count": 111,
   "metadata": {},
   "outputs": [
    {
     "name": "stdout",
     "output_type": "stream",
     "text": [
      "s t r i n g   c h e e s e "
     ]
    }
   ],
   "source": [
    "med_str = 'string cheese'\n",
    "for i in med_str:\n",
    "    print(i, end = \" \")"
   ]
  },
  {
   "cell_type": "code",
   "execution_count": 112,
   "metadata": {},
   "outputs": [
    {
     "name": "stdout",
     "output_type": "stream",
     "text": [
      "H\n",
      "e\n",
      "l\n",
      "l\n",
      "o\n"
     ]
    }
   ],
   "source": [
    "aStr = \"Hello\"\n",
    "for i in aStr:\n",
    "    print(i, end=\"\\n\")"
   ]
  },
  {
   "cell_type": "code",
   "execution_count": 113,
   "metadata": {},
   "outputs": [
    {
     "name": "stdout",
     "output_type": "stream",
     "text": [
      "s\n",
      "t\n",
      "r\n",
      "i\n",
      "n\n",
      "g\n",
      " \n",
      "w\n",
      "i\n",
      "r\n",
      "e\n"
     ]
    }
   ],
   "source": [
    "hard_str = \"string wire\"\n",
    "for i in hard_str:\n",
    "    print(i, end=\"\\n\")"
   ]
  },
  {
   "cell_type": "markdown",
   "metadata": {},
   "source": [
    "### 7.6 Test Strings\n",
    "| <font size=4>Method Name</font> | <font size=4>Method Description</font>&nbsp;&nbsp;&nbsp;&nbsp;&nbsp;&nbsp;&nbsp;&nbsp;&nbsp;&nbsp;&nbsp;&nbsp;   |\n",
    "| :----------- | :--| \n",
    "|<font size=4>isalnum()</font>     |<font size=4>Returns \"True\" if string is alpha-numeric</font>        |\n",
    "|<font size=4>isalpha() </font>    |<font size=4>Returns \"True\" if string contains only alphabets</font>&nbsp;&nbsp;&nbsp;&nbsp;&nbsp;&nbsp;&nbsp;&nbsp;&nbsp;&nbsp;&nbsp;&nbsp;      |\n",
    "|<font size=4>isidentifier() &nbsp;&nbsp;&nbsp;&nbsp;&nbsp;&nbsp;&nbsp;&nbsp;&nbsp;&nbsp;&nbsp;&nbsp; </font>    |<font size=4>Returns \"True\" if string is valid identifier</font>  |\n",
    "|<font size=4>isupper()</font>     |<font size=4>Returns \"True\" if string is in uppercase</font>        |\n",
    "|<font size=4>islower()</font>     |<font size=4>Returns \"True\" if string is in lowercase</font>       |\n",
    "|<font size=4>isdigit()</font>    |<font size=4>Returns \"True\" if string only contains digits</font>        |\n",
    "|<font size=4>isspace() </font>   |<font size=4>Returns \"True\" if string only contains whitespace</font> | \n",
    "\n",
    "### <font color=red> **Run the following 7 code blocks:** </font>"
   ]
  },
  {
   "cell_type": "code",
   "execution_count": 114,
   "metadata": {},
   "outputs": [
    {
     "data": {
      "text/plain": [
       "False"
      ]
     },
     "execution_count": 114,
     "metadata": {},
     "output_type": "execute_result"
    }
   ],
   "source": [
    "s = \"welcome to python\"\n",
    "s. isalnum()"
   ]
  },
  {
   "cell_type": "code",
   "execution_count": 129,
   "metadata": {},
   "outputs": [
    {
     "data": {
      "text/plain": [
       "True"
      ]
     },
     "execution_count": 129,
     "metadata": {},
     "output_type": "execute_result"
    }
   ],
   "source": [
    "disarm_str = \"expelliarmus\"\n",
    "disarm_str.isalnum()"
   ]
  },
  {
   "cell_type": "code",
   "execution_count": 116,
   "metadata": {},
   "outputs": [
    {
     "data": {
      "text/plain": [
       "True"
      ]
     },
     "execution_count": 116,
     "metadata": {},
     "output_type": "execute_result"
    }
   ],
   "source": [
    "\"Welcome\".isalpha()"
   ]
  },
  {
   "cell_type": "code",
   "execution_count": 121,
   "metadata": {},
   "outputs": [
    {
     "data": {
      "text/plain": [
       "True"
      ]
     },
     "execution_count": 121,
     "metadata": {},
     "output_type": "execute_result"
    }
   ],
   "source": [
    "\"Alohomora\".isalpha()"
   ]
  },
  {
   "cell_type": "code",
   "execution_count": 122,
   "metadata": {},
   "outputs": [
    {
     "data": {
      "text/plain": [
       "False"
      ]
     },
     "execution_count": 122,
     "metadata": {},
     "output_type": "execute_result"
    }
   ],
   "source": [
    "\"first Number\".isidentifier()"
   ]
  },
  {
   "cell_type": "code",
   "execution_count": 120,
   "metadata": {},
   "outputs": [
    {
     "data": {
      "text/plain": [
       "False"
      ]
     },
     "execution_count": 120,
     "metadata": {},
     "output_type": "execute_result"
    }
   ],
   "source": [
    "\"Ronald Weasley\".isidentifier()"
   ]
  },
  {
   "cell_type": "code",
   "execution_count": 124,
   "metadata": {},
   "outputs": [
    {
     "data": {
      "text/plain": [
       "True"
      ]
     },
     "execution_count": 124,
     "metadata": {},
     "output_type": "execute_result"
    }
   ],
   "source": [
    "\"WELCOME\".isupper()"
   ]
  },
  {
   "cell_type": "code",
   "execution_count": 125,
   "metadata": {},
   "outputs": [
    {
     "data": {
      "text/plain": [
       "True"
      ]
     },
     "execution_count": 125,
     "metadata": {},
     "output_type": "execute_result"
    }
   ],
   "source": [
    "\"DOBBY\".isupper()"
   ]
  },
  {
   "cell_type": "code",
   "execution_count": 126,
   "metadata": {},
   "outputs": [
    {
     "data": {
      "text/plain": [
       "False"
      ]
     },
     "execution_count": 126,
     "metadata": {},
     "output_type": "execute_result"
    }
   ],
   "source": [
    "\"Welcome\".islower()"
   ]
  },
  {
   "cell_type": "code",
   "execution_count": 127,
   "metadata": {},
   "outputs": [
    {
     "data": {
      "text/plain": [
       "False"
      ]
     },
     "execution_count": 127,
     "metadata": {},
     "output_type": "execute_result"
    }
   ],
   "source": [
    "\"Voldemore\".islower()"
   ]
  },
  {
   "cell_type": "code",
   "execution_count": 128,
   "metadata": {},
   "outputs": [
    {
     "data": {
      "text/plain": [
       "True"
      ]
     },
     "execution_count": 128,
     "metadata": {},
     "output_type": "execute_result"
    }
   ],
   "source": [
    "s.islower()"
   ]
  },
  {
   "cell_type": "code",
   "execution_count": 130,
   "metadata": {},
   "outputs": [
    {
     "data": {
      "text/plain": [
       "True"
      ]
     },
     "execution_count": 130,
     "metadata": {},
     "output_type": "execute_result"
    }
   ],
   "source": [
    "disarm_str.islower()"
   ]
  },
  {
   "cell_type": "code",
   "execution_count": 131,
   "metadata": {},
   "outputs": [
    {
     "data": {
      "text/plain": [
       "True"
      ]
     },
     "execution_count": 131,
     "metadata": {},
     "output_type": "execute_result"
    }
   ],
   "source": [
    "\" \\t\". isspace()"
   ]
  },
  {
   "cell_type": "code",
   "execution_count": 132,
   "metadata": {},
   "outputs": [
    {
     "data": {
      "text/plain": [
       "False"
      ]
     },
     "execution_count": 132,
     "metadata": {},
     "output_type": "execute_result"
    }
   ],
   "source": [
    "\"\\b\".isspace()"
   ]
  },
  {
   "cell_type": "markdown",
   "metadata": {},
   "source": [
    "<hr style=\"border:5px solid green\"> </hr>"
   ]
  },
  {
   "cell_type": "markdown",
   "metadata": {},
   "source": [
    "## 8. Class string\n",
    "\n",
    "### 8.1 count (x)\n",
    "#### count(x): return the number of elements of the tuple that are equal to x\n",
    "\n",
    "### <font color=red> **Run the following code block:** </font>"
   ]
  },
  {
   "cell_type": "code",
   "execution_count": 133,
   "metadata": {},
   "outputs": [
    {
     "name": "stdout",
     "output_type": "stream",
     "text": [
      "2\n"
     ]
    }
   ],
   "source": [
    "strl = \"This is a string: Hello . . . Hello Python World!\"\n",
    "print (strl.count(\"Hello\"))"
   ]
  },
  {
   "cell_type": "code",
   "execution_count": 134,
   "metadata": {},
   "outputs": [
    {
     "name": "stdout",
     "output_type": "stream",
     "text": [
      "4\n"
     ]
    }
   ],
   "source": [
    "gd_brgr_song = \"I'm a dude, she's a dude, he's a dude, we're all dudes. Hey!\"\n",
    "print(gd_brgr_song.count(\"dude\"))"
   ]
  },
  {
   "cell_type": "markdown",
   "metadata": {},
   "source": [
    "### 8.2 index (x)\n",
    "#### index(x) returns the index of the first element that is equal to x\n",
    "\n",
    "### <font color=red> **Run the following code block:** </font>"
   ]
  },
  {
   "cell_type": "code",
   "execution_count": 135,
   "metadata": {},
   "outputs": [
    {
     "name": "stdout",
     "output_type": "stream",
     "text": [
      "3\n"
     ]
    }
   ],
   "source": [
    "strl = \"This is a string: Hello ... Hello Python World!\"\n",
    "print (strl.index('s'))"
   ]
  },
  {
   "cell_type": "code",
   "execution_count": 137,
   "metadata": {},
   "outputs": [
    {
     "name": "stdout",
     "output_type": "stream",
     "text": [
      "6\n"
     ]
    }
   ],
   "source": [
    "bad_joke = \"Is it me or did this assignment just string me alone?\"\n",
    "print(bad_joke.index('me'))"
   ]
  },
  {
   "cell_type": "markdown",
   "metadata": {},
   "source": [
    "<hr style=\"border:5px solid green\"> </hr>"
   ]
  },
  {
   "cell_type": "markdown",
   "metadata": {},
   "source": [
    "## 9. Format Strings\n",
    "\n",
    "<font color=red> ***Importatnt Notes:***</font>\n",
    "\n",
    "See the exercises: Formatting Output in Python\n"
   ]
  },
  {
   "cell_type": "markdown",
   "metadata": {},
   "source": [
    "<hr style=\"border:5px solid green\"> </hr>"
   ]
  }
 ],
 "metadata": {
  "kernelspec": {
   "display_name": "Python 3 (ipykernel)",
   "language": "python",
   "name": "python3"
  },
  "language_info": {
   "codemirror_mode": {
    "name": "ipython",
    "version": 3
   },
   "file_extension": ".py",
   "mimetype": "text/x-python",
   "name": "python",
   "nbconvert_exporter": "python",
   "pygments_lexer": "ipython3",
   "version": "3.11.5"
  }
 },
 "nbformat": 4,
 "nbformat_minor": 4
}
