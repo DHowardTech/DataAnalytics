{
 "cells": [
  {
   "cell_type": "markdown",
   "metadata": {},
   "source": [
    "# <center><font color=green>Formatting Output </font> </center>  \n",
    "# <center><font color=green>Programming for Data Science with Python </font> </center>\n",
    "\n",
    "\n",
    "## Overview\n",
    "\n",
    "The user can format output using either of two methods available in Python.\n",
    " - The modulo operator method\n",
    " - The String format method\n",
    " \n",
    "Both the methods are still popular. However, it is strongly encouraged to use the second method, i.e., the String format, now, and going forward. \n",
    "\n",
    "<hr style=\"border:5px solid green\"> </hr>\n",
    "\n",
    "\n",
    "## 1. Formatting output with Modulo Operator\n",
    "### 1.1 Overview\n",
    "\n",
    "In Python, the modulo operator “%” is overloaded by the string class to perform string formatting.\n",
    "· Also called string modulo (or sometimes even called modulus) operator\n",
    "· Another term for it is “string interpolation”: it interpolates various class types (int, float, etc.) into a string.\n",
    "\n",
    "### 1.2 The Format\n",
    " - On the left side of the “string modulo operator” is the format string.\n",
    " - On the right side is a tuple with the contents.\n",
    " - The values can be literals, variables, or arbitrary arithmetic expressions.\n",
    "\n",
    "| <font size=3>Format String</font>  | <font size=3>String Modulo Operator</font> |<font size=3>Tuple with Values</font>\n",
    "| :---     | --:    | ----:  | \n",
    "|<font size=3>print(\"Art:<font color=blue> %5d</font>, Price per Unit:<font color=green>%8.2f\"</font>) </font>  |<font size=3>%</font> |<font size=3><font color=blue>453</font>, <font color=green>59.058</font></font>|\n",
    "\n",
    "\n",
    "### 1.3  Format Placeholder\n",
    "\n",
    "With the print function example: \n",
    "     print(\"Art: <font color=blue>%5d</font>, Price per Unit:<font color=green>%8.2f\"</font> % (<font color=blue>453</font>, <font color=green>59.058</font>)\n",
    "\n",
    "  \n",
    "Let's first deal with the placeholder for \"Art: <font color=blue>%5d</font>\n",
    " - \"The first format placeholder: <font color=blue> “%5d”</font> is a format description for a decimal.\n",
    " - It is introduced with the <font color=blue>“%”</font> character.\n",
    " - Then, it is followed by the total number of digits, <font color=blue>5</font>, the string should contain.\n",
    " - This number does not include any decimal points.\n",
    "The value of the placeholder is a whole number <font color=blue>453</font> is formatted with 5 characters (2 leading blanks or padding). \n",
    "\n",
    "\n",
    "Now, let's deal with the placeholder for \"Price per Unit: <font color=green> “%8.2f”</font>\n",
    " - \"The second format placeholder: <font color=green> “%8.2f”</font> is a format description for a float number.\n",
    " - It is introduced with the <font color=green>“%” </font> character.\n",
    " - Then, it is followed by the total number of digits, <font color=green>8</font>, the string should contain.\n",
    " - This number includes the decimal point and all the digits, i.e. before and after the decimal point:\n",
    "\n",
    "The value of the placeholder is a float number <font color=green>59.058</font> is formatted with 8 characters.\n",
    " - The decimal part of the number or the precision is set to 2 (59).\n",
    " - Finally, the last character “f” of our placeholder stands for “float”.\n",
    " - It is noticeable that the 3 decimal digits have been rounded.\n",
    " - Furthermore, the number has been preceded in the output with 3 leading blanks.\n",
    " \n",
    "<font color=red>***IMPORTANT NOTES:***</font>\n",
    "By default, right adjusted is used.\n",
    "\n",
    "\n",
    "### 1.4 Another Example\n",
    "Using the format placeholder %6.2f for 5 different float numbers:\n",
    "\n",
    "<table style=\"border-collapse:collapse;border-spacing:1;border-color:#bbb\" class=\"tg\"><tr><th style=\"font-family:Arial, sans-serif;font-size:34px;font-weight:normal;padding:20px 8px;border-style:solid;border-width:2px;overflow:hidden;word-break:normal;border-color:inherit;color:#493F3F;background-color:#9DE0AD;text-align:left;vertical-align:top\">#</th><th style=\"font-family:Arial, sans-serif;font-size:34px;font-weight:normal;padding:20px 8px;border-style:solid;border-width:2px;overflow:hidden;word-break:normal;border-color:inherit;color:#493F3F;background-color:#9DE0AD;text-align:left;vertical-align:top\">#</th><th style=\"font-family:Arial, sans-serif;font-size:34px;font-weight:normal;padding:20px 8px;border-style:solid;border-width:2px;overflow:hidden;word-break:normal;border-color:inherit;color:#493F3F;background-color:#9DE0AD;text-align:left;vertical-align:top\">#</th><th style=\"font-family:Arial, sans-serif;font-size:34px;font-weight:normal;padding:20px 8px;border-style:solid;border-width:2px;overflow:hidden;word-break:normal;border-color:inherit;color:#493F3F;background-color:#9DE0AD;text-align:left;vertical-align:top\">#</th><th style=\"font-family:Arial, sans-serif;font-size:34px;font-weight:normal;padding:20px 8px;border-style:solid;border-width:2;overflow:hidden;word-break:normal;border-color:inherit;color:#493F3F;background-color:#9DE0AD;text-align:left;vertical-align:top\">#</th><th style=\"font-family:Arial, sans-serif;font-size:34px;font-weight:normal;padding:20px 8px;border-style:solid;border-width:2px;overflow:hidden;word-break:normal;border-color:inherit;color:#493F3F;background-color:#9DE0AD;text-align:left;vertical-align:top\">#</th></tr><tr><td style=\"font-family:Arial, sans-serif;font-size:34px;padding:20px 8px;border-style:solid;border-width:2px;overflow:hidden;word-break:normal;border-color:inherit;color:#594F4F;background-color:#E0FFEB;text-align:left;vertical-align:top\"></td><td style=\"font-family:Arial, sans-serif;font-size:34px;padding:20px 8px;border-style:solid;border-width:2px;overflow:hidden;word-break:normal;border-color:inherit;color:#594F4F;background-color:#C2FFD6;text-align:left;vertical-align:top\">2</td><td style=\"font-family:Arial, sans-serif;font-size:34px;padding:20px 8px;border-style:solid;border-width:2px;overflow:hidden;word-break:normal;border-color:inherit;color:#594F4F;background-color:#E0FFEB;text-align:left;vertical-align:top\">3</td><td style=\"font-family:Arial, sans-serif;font-size:34px;padding:20px 8px;border-style:solid;border-width:2px;overflow:hidden;word-break:normal;border-color:inherit;color:#594F4F;background-color:#C2FFD6;text-align:left;vertical-align:top\">.</td><td style=\"font-family:Arial, sans-serif;font-size:34px;padding:20px 8px;border-style:solid;border-width:2px;overflow:hidden;word-break:normal;border-color:inherit;color:#594F4F;background-color:#E0FFEB;text-align:left;vertical-align:top\">5</td><td style=\"font-family:Arial, sans-serif;font-size:34px;padding:20px 8px;border-style:solid;border-width:2px;overflow:hidden;word-break:normal;border-color:inherit;color:#594F4F;background-color:#C2FFD6;text-align:left;vertical-align:top\">6</td></tr><tr><td style=\"font-family:Arial, sans-serif;font-size:34px;padding:20px 8px;border-style:solid;border-width:2px;overflow:hidden;word-break:normal;border-color:inherit;color:#594F4F;background-color:#E0FFEB;text-align:left;vertical-align:top\"></td><td style=\"font-family:Arial, sans-serif;font-size:34;padding:20px 8px;border-style:solid;border-width:2px;overflow:hidden;word-break:normal;border-color:inherit;color:#594F4F;background-color:#C2FFD6;text-align:left;vertical-align:top\"></td><td style=\"font-family:Arial, sans-serif;font-size:34px;padding:20px 8px;border-style:solid;border-width:2px;overflow:hidden;word-break:normal;border-color:inherit;color:#594F4F;background-color:#E0FFEB;text-align:left;vertical-align:top\">0</td><td style=\"font-family:Arial, sans-serif;font-size:34px;padding:20px 8px;border-style:solid;border-width:2px;overflow:hidden;word-break:normal;border-color:inherit;color:#594F4F;background-color:#C2FFD6;text-align:left;vertical-align:top\">.</td><td style=\"font-family:Arial, sans-serif;font-size:34px;padding:20px 8px;border-style:solid;border-width:2px;overflow:hidden;word-break:normal;border-color:inherit;color:#594F4F;background-color:#E0FFEB;text-align:left;vertical-align:top\">0</td><td style=\"font-family:Arial, sans-serif;font-size:34px;padding:20px 8px;border-style:solid;border-width:2px;overflow:hidden;word-break:normal;border-color:inherit;color:#594F4F;background-color:#C2FFD6;text-align:left;vertical-align:top\">4</td></tr><tr><td style=\"font-family:Arial, sans-serif;font-size:34px;padding:20px 8px;border-style:solid;border-width:2px;overflow:hidden;word-break:normal;border-color:inherit;color:#594F4F;background-color:#E0FFEB;text-align:left;vertical-align:top\">1</td><td style=\"font-family:Arial, sans-serif;font-size:34px;padding:20px 8px;border-style:solid;border-width:2px;overflow:hidden;word-break:normal;border-color:inherit;color:#594F4F;background-color:#C2FFD6;text-align:left;vertical-align:top\">9</td><td style=\"font-family:Arial, sans-serif;font-size:34px;padding:20px 8px;border-style:solid;border-width:2px;overflow:hidden;word-break:normal;border-color:inherit;color:#594F4F;background-color:#E0FFEB;text-align:left;vertical-align:top\">9</td><td style=\"font-family:Arial, sans-serif;font-size:34px;padding:20px 8px;border-style:solid;border-width:2px;overflow:hidden;word-break:normal;border-color:inherit;color:#594F4F;background-color:#C2FFD6;text-align:left;vertical-align:top\">.</td><td style=\"font-family:Arial, sans-serif;font-size:34px;padding:20px 8px;border-style:solid;border-width:2px;overflow:hidden;word-break:normal;border-color:inherit;color:#594F4F;background-color:#E0FFEB;text-align:left;vertical-align:top\">8</td><td style=\"font-family:Arial, sans-serif;font-size:34px;padding:20px 8px;border-style:solid;border-width:2px;overflow:hidden;word-break:normal;border-color:inherit;color:#594F4F;background-color:#C2FFD6;text-align:left;vertical-align:top\"></td></tr><tr><td style=\"font-family:Arial, sans-serif;font-size:34px;padding:20px 8px;border-style:solid;border-width:2px;overflow:hidden;word-break:normal;border-color:inherit;color:#594F4F;background-color:#E0FFEB;text-align:left;vertical-align:top\">1</td><td style=\"font-family:Arial, sans-serif;font-size:34px;padding:20px 8px;border-style:solid;border-width:2px;overflow:hidden;word-break:normal;border-color:inherit;color:#594F4F;background-color:#C2FFD6;text-align:left;vertical-align:top\">2</td><td style=\"font-family:Arial, sans-serif;font-size:34px;padding:20px 8px;border-style:solid;border-width:2px;overflow:hidden;word-break:normal;border-color:inherit;color:#594F4F;background-color:#E0FFEB;text-align:left;vertical-align:top\">5</td><td style=\"font-family:Arial, sans-serif;font-size:34px;padding:20px 8px;border-style:solid;border-width:2px;overflow:hidden;word-break:normal;border-color:inherit;color:#594F4F;background-color:#C2FFD6;text-align:left;vertical-align:top\">7</td><td style=\"font-family:Arial, sans-serif;font-size:34px;padding:20px 8px;border-style:solid;border-width:2px;overflow:hidden;word-break:normal;border-color:inherit;color:#594F4F;background-color:#E0FFEB;text-align:left;vertical-align:top\">.</td><td style=\"font-family:Arial, sans-serif;font-size:34px;padding:20px 8px;border-style:solid;border-width:2px;overflow:hidden;word-break:normal;border-color:inherit;color:#594F4F;background-color:#C2FFD6;text-align:left;vertical-align:top\">8</td></tr><tr><td style=\"font-family:Arial, sans-serif;font-size:34px;padding:20px 8px;border-style:solid;border-width:2px;overflow:hidden;word-break:normal;border-color:inherit;color:#594F4F;background-color:#E0FFEB;text-align:left;vertical-align:top\"></td><td style=\"font-family:Arial, sans-serif;font-size:34px;padding:20px 8px;border-style:solid;border-width:2px;overflow:hidden;word-break:normal;border-color:inherit;color:#594F4F;background-color:#C2FFD6;text-align:left;vertical-align:top\">7</td><td style=\"font-family:Arial, sans-serif;font-size:34px;padding:20px 8px;border-style:solid;border-width:2px;overflow:hidden;word-break:normal;border-color:inherit;color:#594F4F;background-color:#E0FFEB;text-align:left;vertical-align:top\">8</td><td style=\"font-family:Arial, sans-serif;font-size:34px;padding:20px 8px;border-style:solid;border-width:2px;overflow:hidden;word-break:normal;border-color:inherit;color:#594F4F;background-color:#C2FFD6;text-align:left;vertical-align:top\">3</td><td style=\"font-family:Arial, sans-serif;font-size:34px;padding:20px 8px;border-style:solid;border-width:2px;overflow:hidden;word-break:normal;border-color:inherit;color:#594F4F;background-color:#E0FFEB;text-align:left;vertical-align:top\">9</td><td style=\"font-family:Arial, sans-serif;font-size:34px;padding:20px 8px;border-style:solid;border-width:2px;overflow:hidden;word-break:normal;border-color:inherit;color:#594F4F;background-color:#C2FFD6;text-align:left;vertical-align:top\">9</td></tr></table>"
   ]
  },
  {
   "cell_type": "markdown",
   "metadata": {},
   "source": [
    "### 1.5 List of Data Types\n",
    "The most frequently used types are: d (Decimal), f (Float), and s (String).\n",
    "\n",
    "\n",
    "| <font size= 3> **Conversion** |                                                                                              <font size= 3>**Meaning** |\n",
    "|:------------|----------------------------------------------------------------------------------------------------:|\n",
    "| <font size= 3>d </font>        |                                                                                <font size= 3>Signed inter decimal</font> |\n",
    "| <font size= 3>i </font>         |                                                                                <font size= 3>Signed inter decimal</font> |\n",
    "| <font size= 3>o </font>         |                                                                                      <font size= 3>Unsigned octal</font> |\n",
    "| <font size= 3>u</font>          |                                            <font size= 3>Obsolete and equivalent to \"d\", i.e Signed inter decimal</font> |\n",
    "| <font size= 3>x </font>         |                                                                    <font size= 3>Unsigned hexadecimal (lowercase)</font> |\n",
    "| <font size= 3>X </font>         |                                                                    <font size= 3>Unsigned hexadecimal (uppercase)</font> |\n",
    "| <font size= 3>e</font>          |                                                       <font size= 3>Floating point exponential format (lowercase)</font> |\n",
    "| <font size= 3>E </font>         |                                                       <font size= 3>Floating point exponential format (uppercase)</font> |\n",
    "| <font size= 3>f </font>         |                                                           <font size= 3>Floating point decimal format (lowercase)</font> |\n",
    "| <font size= 3>F </font>         |                                                           <font size= 3>Floating point decimal format (uppercase)</font> |\n",
    "| <font size= 3>g </font>         |                   <font size= 3>Same as \"e\", if exponent is greater than -4 or less than precision, \"f\" otherwise</font> |\n",
    "| <font size= 3>G </font>         |                   <font size= 3>Same as \"E\", if exponent is greater than -4 or less than precision, \"f\" otherwise</font> |\n",
    "| <font size= 3>c</font>          |                                       <font size= 3>Single character (accepts integer or single character string)</font> |\n",
    "| <font size= 3>r</font>          |                                                     <font size= 3>String (converts any Python object using repr()</font> |\n",
    "| <font size= 3>s</font>          |                                                      <font size= 3>String (converts any Python object using str()</font> |\n",
    "| <font size= 3>% </font>         |                                  <font size= 3>No argument is converted, results in a \"%\" character in the result </font> |"
   ]
  },
  {
   "cell_type": "markdown",
   "metadata": {},
   "source": [
    "### 1.6 Flags in Format Placeholder\n",
    "The most frequently used flag is ‘ for left adjusted.\n",
    "\n",
    "| <font size= 3> **Flag** |                                                                                              <font size= 3>**Meaning** |\n",
    "|:------------|----------------------------------------------------------------------------------------------------:|\n",
    "| <font size= 3> # </font>        |                                                                                <font size= 3>Used with o, x, or X specifiers.  The value is preceded with 0, 0o, 0O, or 0X, respectively</font> |\n",
    "| <font size= 3>0 </font>         |                                                                                <font size= 3>The conversion result will be zero padded for numeric values.</font> |\n",
    "| <font size= 3> - </font>         |                                                                                      <font size= 3>The converted value is left adjusted.</font> |\n",
    "| <font size= 3> </font>          |                                            <font size= 3> If no sign (e.g. minus sign is going to be written, a blank space is inserted before the value.</font> |\n",
    "| <font size= 3> + </font>         |                                                                    <font size= 3> A sign character (\"+\" or \"-\") will precede the conversion (overrides a \"space\" flag).</font> |"
   ]
  },
  {
   "cell_type": "markdown",
   "metadata": {},
   "source": [
    "### 1.7 Examples of Formatting Output Using Modulo Operator\n",
    "### <font color=red> **Run the following 7 code blocks:** </font>"
   ]
  },
  {
   "cell_type": "code",
   "execution_count": 1,
   "metadata": {},
   "outputs": [
    {
     "name": "stdout",
     "output_type": "stream",
     "text": [
      " 3.561e+02\n"
     ]
    }
   ],
   "source": [
    "print(\"%10.3e\"%(356.08977))\n"
   ]
  },
  {
   "cell_type": "code",
   "execution_count": 12,
   "metadata": {},
   "outputs": [
    {
     "name": "stdout",
     "output_type": "stream",
     "text": [
      "4.86751e+02\n"
     ]
    }
   ],
   "source": [
    "print(\"%3.5e\"%(486.7508))"
   ]
  },
  {
   "cell_type": "code",
   "execution_count": 2,
   "metadata": {},
   "outputs": [
    {
     "name": "stdout",
     "output_type": "stream",
     "text": [
      "3.561E+02\n"
     ]
    }
   ],
   "source": [
    "print(\"%2.3E\"%(356.08977))\n"
   ]
  },
  {
   "cell_type": "code",
   "execution_count": 16,
   "metadata": {},
   "outputs": [
    {
     "name": "stdout",
     "output_type": "stream",
     "text": [
      "4.89E+09\n"
     ]
    }
   ],
   "source": [
    "print(\"%7.2E\"%(4893631556.089771557))"
   ]
  },
  {
   "cell_type": "code",
   "execution_count": 3,
   "metadata": {},
   "outputs": [
    {
     "name": "stdout",
     "output_type": "stream",
     "text": [
      "        31\n"
     ]
    }
   ],
   "source": [
    "print(\"%10o\"%(25))\n"
   ]
  },
  {
   "cell_type": "code",
   "execution_count": 23,
   "metadata": {},
   "outputs": [
    {
     "name": "stdout",
     "output_type": "stream",
     "text": [
      "151\n"
     ]
    }
   ],
   "source": [
    "print(\"%1o\"%(105))"
   ]
  },
  {
   "cell_type": "code",
   "execution_count": 4,
   "metadata": {},
   "outputs": [
    {
     "name": "stdout",
     "output_type": "stream",
     "text": [
      "     00031\n"
     ]
    }
   ],
   "source": [
    "print(\"%10.5o\"%(25))\n"
   ]
  },
  {
   "cell_type": "code",
   "execution_count": 24,
   "metadata": {},
   "outputs": [
    {
     "name": "stdout",
     "output_type": "stream",
     "text": [
      "        0000101\n"
     ]
    }
   ],
   "source": [
    "print(\"%15.7o\"%(65))"
   ]
  },
  {
   "cell_type": "code",
   "execution_count": 5,
   "metadata": {},
   "outputs": [
    {
     "name": "stdout",
     "output_type": "stream",
     "text": [
      "   2f\n"
     ]
    }
   ],
   "source": [
    "print(\"%5x\"%(47))"
   ]
  },
  {
   "cell_type": "code",
   "execution_count": 27,
   "metadata": {},
   "outputs": [
    {
     "name": "stdout",
     "output_type": "stream",
     "text": [
      "                                                80\n"
     ]
    }
   ],
   "source": [
    "print(\"%50x\"%(128))"
   ]
  },
  {
   "cell_type": "code",
   "execution_count": 6,
   "metadata": {},
   "outputs": [
    {
     "name": "stdout",
     "output_type": "stream",
     "text": [
      " 002F\n"
     ]
    }
   ],
   "source": [
    "print(\"%5.4X\"%(47))"
   ]
  },
  {
   "cell_type": "code",
   "execution_count": 28,
   "metadata": {},
   "outputs": [
    {
     "name": "stdout",
     "output_type": "stream",
     "text": [
      "                                                                        100\n"
     ]
    }
   ],
   "source": [
    "print(\"%75x\"%(256))"
   ]
  },
  {
   "cell_type": "code",
   "execution_count": 7,
   "metadata": {},
   "outputs": [
    {
     "name": "stdout",
     "output_type": "stream",
     "text": [
      "Only one percentage sign: % \n"
     ]
    }
   ],
   "source": [
    "print(\"Only one percentage sign: %% \" %())"
   ]
  },
  {
   "cell_type": "markdown",
   "metadata": {},
   "source": [
    " \n",
    "<hr style=\"border:5px solid green\"> </hr>"
   ]
  },
  {
   "cell_type": "markdown",
   "metadata": {},
   "source": [
    "## 2. Formatting Output Using String Method “format”\n",
    "\n",
    "The general form of this method: template.format (p0, p1, …, k0=v0, k1=v1,…)\n",
    "\n",
    "### 2.1 An Example\n",
    "\n",
    "<font color=red> **IMPORTANT NOTES:**</font>\n",
    " - We **DON’T USE** print() method\n",
    " - We **USE** THE .format() method of the class String to format the output"
   ]
  },
  {
   "cell_type": "markdown",
   "metadata": {},
   "source": [
    "### \"Art:  {<font color=blue>0:5d}</font>, Price per Unit: {<font color=green>1:8.2f}</font>\".format (<font color=blue>453</font>, <font color=green>59.058</font>)\n",
    "\n",
    "<font size=3><b>Result String </b></font>\n",
    "\n",
    "|<font size=3>Variable </font> | <font size=3>Value:  <font color=blue>Argument 0&nbsp;&nbsp;&nbsp;&nbsp;&nbsp;&nbsp;&nbsp;</font> |<font size=3>Variable</font>   |<font size=3> Value: </font> <font size=3 color=green>Argument 1</font>|\n",
    "| :----------|:----------------|:-------------------  |:-----------|\n",
    "|<font size=3>\"Art:&nbsp;&nbsp;&nbsp;&nbsp;&nbsp;&nbsp;&nbsp;&nbsp;&nbsp;</font> |<font size=3 color=blue> 453&nbsp;&nbsp;&nbsp;&nbsp;&nbsp;&nbsp;&nbsp;&nbsp;&nbsp;</font>| <font size=3> Price per Unit:&nbsp;&nbsp;&nbsp;&nbsp;&nbsp;&nbsp;&nbsp;&nbsp;&nbsp;&nbsp;&nbsp;&nbsp; </font> |<font size=3 color=green>59.06&nbsp;&nbsp;&nbsp;&nbsp;&nbsp;&nbsp;&nbsp;&nbsp;&nbsp;</font>  |"
   ]
  },
  {
   "cell_type": "markdown",
   "metadata": {},
   "source": [
    "\n",
    "\n",
    "The template (or format string) is a string that contains one or more **format codes** (fields to be replaced):\n",
    " - The formal codes or “fields to be replaced” are surrounded by **curly braces {}**.\n",
    " - The **curly braces** and the “code” inside will be substituted with a formatted value from one of the arguments.\n",
    " - Anything else will be **literally printed**, i.e. without any changes.\n",
    " - If a brace character has to be printed, it has to be escaped by doubling it: **{{** and **}}**.\n",
    " \n",
    "There are two kinds of arguments for the .**format**() method:\n",
    " - The list of arguments starts with 0 or more **positional arguments** (p0, p1, …).\n",
    " - It may be followed by 0 or more **keyword arguments** (k0, k1, …) of the form **name=value**.\n",
    " \n",
    "A **positional parameter** of the format method can be accessed by placing the index of the parameter after the opening brace, e.g. {0} accesses the first parameter {1} the second one and so on.\n",
    "\n",
    "The **index** inside of the curly braces can be followed by a colon ‘:’ and a format string (Similar to the notation of the string modulo as discussion in Section 2.)\n",
    "\n",
    "<font color=red>***IMPORTANT NOTES:***</font>\n",
    "If the positional parameters are used in the order in which they are written:\n",
    " - The positional argument specifiers inside of the braces can be omitted.\n",
    " - So ‘{} {} {}’ corresponds to ‘{0} {1} {2}’.\n",
    " \n",
    "(But they are needed, if you want to access them in different orders: ‘{2} {1} {0}’).\n"
   ]
  },
  {
   "cell_type": "markdown",
   "metadata": {},
   "source": [
    "### 2.2 Keyword Arguments\n",
    "\n",
    "Look at above example in a different way.\n",
    "Pay attention to how the keyword arguments are used to format the output: a=453, b=590958\n",
    "\n",
    "\n",
    "### \"Art:  {<font color=blue>a:5d}</font>, Price per Unit: {<font color=green>p:8.2f}</font>\".format (<font color=blue>a=453</font>, <font color=green>p=59.058</font>)\n",
    "\n",
    "<font size=4> <b>Result String </b></font>\n",
    "\n",
    "|<font size=3>Variable </font> | <font size=3 color=blue> Keyword Argument 0&nbsp;&nbsp;&nbsp;&nbsp;&nbsp;&nbsp;&nbsp;</font> |<font size=3>Variable</font>   |<font size=3> Keyword: </font> <font size=3 color=green>Argument 1</font>|\n",
    "|:----------|:--------------|:----------|:-----------|\n",
    "|<font size=3>\"Art:&nbsp;&nbsp;&nbsp;&nbsp;&nbsp;&nbsp;&nbsp;&nbsp;&nbsp;</font> |<font size=3 color=blue> 453&nbsp;&nbsp;&nbsp;&nbsp;&nbsp;&nbsp;&nbsp;</font>| <font size=3> Price per Unit:&nbsp;&nbsp;&nbsp;&nbsp;&nbsp;&nbsp;&nbsp;&nbsp;&nbsp; </font> |<font size=3 color=green>59.06&nbsp;&nbsp;&nbsp;&nbsp;&nbsp;&nbsp;&nbsp;&nbsp;&nbsp;</font>  |"
   ]
  },
  {
   "cell_type": "markdown",
   "metadata": {},
   "source": [
    "### 2.3 Options in Format Code\n",
    "\n",
    "| <font size= 3> **Option** |                                                                                              <font size= 3>**Meaning** |\n",
    "|:------------|----------------------------------------------------------------------------------------------------:|\n",
    "| <font size= 3>&lt; </font>        |                                                                                <font size= 3>The field will be left-aligned with the available space.  This is usually the default for strings.</font> |\n",
    "| <font size= 3>&gt; </font>         |                                                                                <font size= 3>The field will be right-aligned with the available space.  This is usually the default for numbers.</font> |\n",
    "| <font size= 3> 0 </font>         |                                                                                      <font size= 3>If the width field is preceded by a zero (0) character, sign-aware zero padding for the numeric types will be enabled. </font> |\n",
    "| <font size= 3>,</font>          |                                            <font size= 3> This option signals the use of a comma for a thousands separator. </font> |\n",
    "| <font size= 3> = </font>         |                                                                    <font size= 3> Forces the padding to be placed after the sign (if any), but before the digits.  This is used for printing fields in the form of \"+000000120\".  This alignment option is only valid for numeric types. </font> |\n",
    "| <font size= 3> ^ </font>         |                                                                    <font size= 3> Forces the field to be centered within the available space.</font> |\n",
    "\n",
    "<font color=red>***IMPORTANT NOTES:***</font>\n",
    "The most frequently used option is ‘&lt;’ and ‘&gt;’ for “left-justify” and “right-justify”, respectively.\n",
    "By default, “left-justify” is used.\n",
    "    \n",
    "### <font color=red> **Run the following 8 code blocks:** </font>"
   ]
  },
  {
   "cell_type": "code",
   "execution_count": 31,
   "metadata": {},
   "outputs": [
    {
     "name": "stdout",
     "output_type": "stream",
     "text": [
      "The value is 000378\n"
     ]
    }
   ],
   "source": [
    "x = 378\n",
    "print (\"The value is {:06d}\".format (x))"
   ]
  },
  {
   "cell_type": "code",
   "execution_count": 33,
   "metadata": {},
   "outputs": [
    {
     "name": "stdout",
     "output_type": "stream",
     "text": [
      "The secret number is 00123\n"
     ]
    }
   ],
   "source": [
    "y = 123\n",
    "print(\"Bond, the secret PIN is {:05d}\".format (y))"
   ]
  },
  {
   "cell_type": "code",
   "execution_count": 37,
   "metadata": {},
   "outputs": [
    {
     "name": "stdout",
     "output_type": "stream",
     "text": [
      "The value is -0000378\n"
     ]
    }
   ],
   "source": [
    "y = -378\n",
    "print(\"The value is {:08d}\".format (y))"
   ]
  },
  {
   "cell_type": "code",
   "execution_count": 36,
   "metadata": {},
   "outputs": [
    {
     "name": "stdout",
     "output_type": "stream",
     "text": [
      "The combination to the safe is 4500000000.000000\n"
     ]
    }
   ],
   "source": [
    "sun_age = (4.5 * (10 ** 9))\n",
    "print(\"The age of the sun is {:02f}\".format (sun_age))"
   ]
  },
  {
   "cell_type": "code",
   "execution_count": 38,
   "metadata": {},
   "outputs": [
    {
     "name": "stdout",
     "output_type": "stream",
     "text": [
      "The value is 78,962,324,245\n"
     ]
    }
   ],
   "source": [
    "a = 78962324245\n",
    "print(\"The value is {:,}\".format (a))"
   ]
  },
  {
   "cell_type": "code",
   "execution_count": 46,
   "metadata": {},
   "outputs": [
    {
     "name": "stdout",
     "output_type": "stream",
     "text": [
      "The combination to the safe is 6,731\n"
     ]
    }
   ],
   "source": [
    "earth_radius_km = 6731\n",
    "print(\"The combination to the safe is {:,}\".format (earth_radius_km))"
   ]
  },
  {
   "cell_type": "code",
   "execution_count": 40,
   "metadata": {},
   "outputs": [
    {
     "name": "stdout",
     "output_type": "stream",
     "text": [
      "The value is 5,897,633,423\n"
     ]
    }
   ],
   "source": [
    "b = 5897633423\n",
    "print(\"The value is {0:6,d}\". format(b))"
   ]
  },
  {
   "cell_type": "code",
   "execution_count": 48,
   "metadata": {},
   "outputs": [
    {
     "name": "stdout",
     "output_type": "stream",
     "text": [
      "The mass of the sun is 8,118,835,999\n"
     ]
    }
   ],
   "source": [
    "earth_pop = 8118835999\n",
    "print(\"The mass of the sun is {:5,d}\".format (earth_pop))"
   ]
  },
  {
   "cell_type": "code",
   "execution_count": 44,
   "metadata": {},
   "outputs": [
    {
     "name": "stdout",
     "output_type": "stream",
     "text": [
      "The value is 5,897,653,423,897.000\n"
     ]
    }
   ],
   "source": [
    "c = 5897653423897\n",
    "print(\"The value is {0:12,.3f}\". format(c))"
   ]
  },
  {
   "cell_type": "code",
   "execution_count": 45,
   "metadata": {},
   "outputs": [
    {
     "name": "stdout",
     "output_type": "stream",
     "text": [
      "The mass of the sun is 1,989,000,000,000,000,183,384,231,903,232.000000\n"
     ]
    }
   ],
   "source": [
    "sun_mass = (1.989 * (10 ** 30))\n",
    "print(\"The mass of the sun is {:5,f}\".format (sun_mass))"
   ]
  },
  {
   "cell_type": "code",
   "execution_count": 49,
   "metadata": {},
   "outputs": [
    {
     "data": {
      "text/plain": [
       "'Spam & Eggs:           6.99'"
      ]
     },
     "execution_count": 49,
     "metadata": {},
     "output_type": "execute_result"
    }
   ],
   "source": [
    "\"{0:<20s} {1:6.2f}\".format('Spam & Eggs:',6.99)\n"
   ]
  },
  {
   "cell_type": "code",
   "execution_count": 54,
   "metadata": {},
   "outputs": [
    {
     "data": {
      "text/plain": [
       "'Dragon Dogma 2: 69.99'"
      ]
     },
     "execution_count": 54,
     "metadata": {},
     "output_type": "execute_result"
    }
   ],
   "source": [
    "\"{0:<10s} {1:3.2f}\".format(\"Dragon Dogma 2:\", 69.99)"
   ]
  },
  {
   "cell_type": "code",
   "execution_count": 55,
   "metadata": {},
   "outputs": [
    {
     "data": {
      "text/plain": [
       "'        Spam & Eggs:   6.99'"
      ]
     },
     "execution_count": 55,
     "metadata": {},
     "output_type": "execute_result"
    }
   ],
   "source": [
    "\"{0:>20s} {1:6.2f}\".format('Spam & Eggs:',6.99)"
   ]
  },
  {
   "cell_type": "code",
   "execution_count": 59,
   "metadata": {},
   "outputs": [
    {
     "data": {
      "text/plain": [
       "'                                         Horizon:Forbidden West : 59.990'"
      ]
     },
     "execution_count": 59,
     "metadata": {},
     "output_type": "execute_result"
    }
   ],
   "source": [
    "\"{0:>65s} {1:2.3f}\".format('Horizon:Forbidden West :', 59.99)"
   ]
  },
  {
   "cell_type": "code",
   "execution_count": 60,
   "metadata": {},
   "outputs": [
    {
     "data": {
      "text/plain": [
       "'Spam & Eggs:   6.99'"
      ]
     },
     "execution_count": 60,
     "metadata": {},
     "output_type": "execute_result"
    }
   ],
   "source": [
    "\"{0:<0s} {1:6.2f}\".format('Spam & Eggs:',6.99)\n"
   ]
  },
  {
   "cell_type": "code",
   "execution_count": 67,
   "metadata": {},
   "outputs": [
    {
     "data": {
      "text/plain": [
       "'                                                                                                 Ghost of Tsushima: 59.99'"
      ]
     },
     "execution_count": 67,
     "metadata": {},
     "output_type": "execute_result"
    }
   ],
   "source": [
    "\"{0:>115} {1:5.2f}\".format('Ghost of Tsushima:', 59.99)"
   ]
  },
  {
   "cell_type": "markdown",
   "metadata": {},
   "source": [
    "\n",
    "> ### 2.3.1 Options: Signs\n",
    "\n",
    "<font color=red>***IMPORTANT NOTES:***</font>\n",
    " The sign options are used only for numeric values.\n",
    "\n",
    "| <font size= 3> **Option** |                                                                                              <font size= 3>**Meaning** |\n",
    "|:------------|----------------------------------------------------------------------------------------------------:|\n",
    "| <font size= 3> + </font>        |                                                                                <font size= 3>Indicates that a sign should be used for both positive as well as negative numbers. </font> |\n",
    "| <font size= 3> - </font>         |                                                                                <font size= 3>Indicates that a sign should be used only for negative numbers, which is the default behavior. </font> |\n",
    "| <font size= 3>  </font>         |                                                                                      <font size= 3>If no sign, this indicates that a leading space should be used on positive numbers, and a minus sign on negative numbers.  </font> |\n",
    "\n",
    "&nbsp;\n",
    "&nbsp;\n",
    "    \n",
    "\n",
    "### 2.4 Examples of Formatting Output Using .format() Method of Class String\n",
    "    \n",
    "### <font color=red> **Run the following 6 code blocks:** </font>"
   ]
  },
  {
   "cell_type": "code",
   "execution_count": 68,
   "metadata": {},
   "outputs": [
    {
     "data": {
      "text/plain": [
       "'First argument :47, second one: 11'"
      ]
     },
     "execution_count": 68,
     "metadata": {},
     "output_type": "execute_result"
    }
   ],
   "source": [
    "\"First argument :{0}, second one: {1}\".format(47,11)"
   ]
  },
  {
   "cell_type": "code",
   "execution_count": 69,
   "metadata": {},
   "outputs": [
    {
     "data": {
      "text/plain": [
       "'First argument :1, Last argument: 100'"
      ]
     },
     "execution_count": 69,
     "metadata": {},
     "output_type": "execute_result"
    }
   ],
   "source": [
    "\"First argument :{0}, Last argument: {1}\".format(1,100)"
   ]
  },
  {
   "cell_type": "code",
   "execution_count": null,
   "metadata": {},
   "outputs": [],
   "source": [
    "\"Second argument :{1}, first one: {0}\".format(47,11)"
   ]
  },
  {
   "cell_type": "code",
   "execution_count": 70,
   "metadata": {},
   "outputs": [
    {
     "data": {
      "text/plain": [
       "'Last argument :100, first argument: 1'"
      ]
     },
     "execution_count": 70,
     "metadata": {},
     "output_type": "execute_result"
    }
   ],
   "source": [
    "\"Last argument :{1}, first argument: {0}\".format(1,100)"
   ]
  },
  {
   "cell_type": "code",
   "execution_count": null,
   "metadata": {},
   "outputs": [],
   "source": [
    "\"Second argument :{1:3d}, first one: {0:7.2f}\".format(47.42,11)"
   ]
  },
  {
   "cell_type": "code",
   "execution_count": 74,
   "metadata": {},
   "outputs": [
    {
     "data": {
      "text/plain": [
       "'Last argument :975,318,642, first argument: 13579.246800'"
      ]
     },
     "execution_count": 74,
     "metadata": {},
     "output_type": "execute_result"
    }
   ],
   "source": [
    "\"Last argument :{1:5,d}, first argument: {0:3.6f}\".format(13579.2468, 975318642)"
   ]
  },
  {
   "cell_type": "code",
   "execution_count": 75,
   "metadata": {},
   "outputs": [
    {
     "data": {
      "text/plain": [
       "'First argument :47, second one: 11'"
      ]
     },
     "execution_count": 75,
     "metadata": {},
     "output_type": "execute_result"
    }
   ],
   "source": [
    "\"First argument :{}, second one: {}\".format(47,11)"
   ]
  },
  {
   "cell_type": "code",
   "execution_count": 76,
   "metadata": {},
   "outputs": [
    {
     "data": {
      "text/plain": [
       "'First argument :50, second one: 150'"
      ]
     },
     "execution_count": 76,
     "metadata": {},
     "output_type": "execute_result"
    }
   ],
   "source": [
    "\"First argument :{}, second one: {}\".format(50,150)"
   ]
  },
  {
   "cell_type": "code",
   "execution_count": 79,
   "metadata": {},
   "outputs": [
    {
     "data": {
      "text/plain": [
       "'various precisions :  1.41 or  1.415'"
      ]
     },
     "execution_count": 79,
     "metadata": {},
     "output_type": "execute_result"
    }
   ],
   "source": [
    "\"various precisions :{0:6.2f} or {0:6.3f}\".format(1.4148)"
   ]
  },
  {
   "cell_type": "code",
   "execution_count": 82,
   "metadata": {},
   "outputs": [
    {
     "data": {
      "text/plain": [
       "'various precisions :3.142 or 3.141593'"
      ]
     },
     "execution_count": 82,
     "metadata": {},
     "output_type": "execute_result"
    }
   ],
   "source": [
    "\"various precisions :{0:5.3f} or {0:6.6f}\".format(3.14159265)"
   ]
  },
  {
   "cell_type": "code",
   "execution_count": 78,
   "metadata": {},
   "outputs": [
    {
     "data": {
      "text/plain": [
       "'first argument :1.4148, second one: 2.1678'"
      ]
     },
     "execution_count": 78,
     "metadata": {},
     "output_type": "execute_result"
    }
   ],
   "source": [
    "\"first argument :{}, second one: {}\".format(1.4148, 2.1678)"
   ]
  },
  {
   "cell_type": "code",
   "execution_count": 83,
   "metadata": {},
   "outputs": [
    {
     "data": {
      "text/plain": [
       "'first argument :3.14159265, second one: 4.66920160910299'"
      ]
     },
     "execution_count": 83,
     "metadata": {},
     "output_type": "execute_result"
    }
   ],
   "source": [
    "\"first argument :{}, second one: {}\".format(3.14159265, 4.669201609102990671853203820466)"
   ]
  },
  {
   "cell_type": "code",
   "execution_count": null,
   "metadata": {},
   "outputs": [],
   "source": []
  }
 ],
 "metadata": {
  "kernelspec": {
   "display_name": "Python 3 (ipykernel)",
   "language": "python",
   "name": "python3"
  },
  "language_info": {
   "codemirror_mode": {
    "name": "ipython",
    "version": 3
   },
   "file_extension": ".py",
   "mimetype": "text/x-python",
   "name": "python",
   "nbconvert_exporter": "python",
   "pygments_lexer": "ipython3",
   "version": "3.11.5"
  }
 },
 "nbformat": 4,
 "nbformat_minor": 4
}
