{
 "cells": [
  {
   "cell_type": "markdown",
   "metadata": {},
   "source": [
    "# <center><font color=green>Basic Techniques of Programming Part 1: Programming for Data Science with Python </font> </center>\n",
    "\n",
    "\n",
    "## Overview\n",
    "To write a useful program, the developer needs to use various techniques of programming.  Basic Techniques of Programming Part 1 and 2 cover the techniques below.\n",
    "\n",
    "Some of these techniques are considered as the core of programming to create interactive software applications:\n",
    "\n",
    " - Input and output\n",
    "\n",
    " - Selections\n",
    "\n",
    " - Loops\n",
    " \n",
    " \n",
    "<hr style=\"border:5px solid green\"> </hr>\n",
    "\n",
    "\n",
    "## 1. Read Data from Console\n",
    "\n",
    "### Scenario\n",
    "\n",
    "Write a short Python program that reads an integer value from the console and then print out the value.\n",
    "\n",
    "<font color=red> **IMPORTANT NOTES:** </font> It is assumed that the user would not make any mistake while entering the value. Therefore, it is not necessary to check the input after reading it.\n",
    "\n",
    "\n",
    "### Syntax\n",
    "To read data from the console in Python, use the built-in function:\n",
    "\n",
    " - input(prompt_string)\n",
    "\n",
    "Where prompt_string is the text used to prompt the user to enter the data.\n",
    "\n",
    "<font color=red> **IMPORTANT NOTES:**</font> Need to declare a new variable to store the text read from the console.\n",
    "\n",
    "\n",
    "### <font color=red> **Run the following code:** </font>\n"
   ]
  },
  {
   "cell_type": "code",
   "execution_count": 1,
   "metadata": {},
   "outputs": [
    {
     "name": "stdout",
     "output_type": "stream",
     "text": [
      "Enter an integer value:35\n",
      "The user has entered this value:  35\n"
     ]
    }
   ],
   "source": [
    "anIntValue = input(\"Enter an integer value:\")\n",
    "print (\"The user has entered this value: \", anIntValue)\n"
   ]
  },
  {
   "cell_type": "code",
   "execution_count": 2,
   "metadata": {},
   "outputs": [
    {
     "name": "stdout",
     "output_type": "stream",
     "text": [
      "Enter your favorite TV Show:Demon Slayer\n",
      "The user's favorite show is:  Demon Slayer\n"
     ]
    }
   ],
   "source": [
    "fav_Show = input(\"Enter your favorite TV Show:\")\n",
    "print (\"The user's favorite show is: \", fav_Show)"
   ]
  },
  {
   "cell_type": "markdown",
   "metadata": {},
   "source": [
    "<hr style=\"border:5px solid green\"> </hr>"
   ]
  },
  {
   "cell_type": "markdown",
   "metadata": {},
   "source": [
    "## 2. Print Data to the Console\n",
    "\n",
    " - To print data to the console, use the built-in function:\n",
    "\n",
    " >print(a_string)\n",
    "\n",
    " - Where a string can be only one string, or multiple sub-strings and values seperated by commas','.\n",
    " \n",
    "- To print the values in one line, using the end-of-line character'\\n':\n",
    "\n",
    " >print (...,'\\n')\n",
    "\n",
    "\n",
    "### <font color=red> **Run the following code:** </font>"
   ]
  },
  {
   "cell_type": "code",
   "execution_count": 3,
   "metadata": {},
   "outputs": [
    {
     "name": "stdout",
     "output_type": "stream",
     "text": [
      "Examples of using print() function \n",
      "\n",
      "This is the value of x: 15 \n",
      "\n",
      "This is the value of x: 15 ; This is the value of y: 25 . \n",
      "\n"
     ]
    }
   ],
   "source": [
    "print (\"Examples of using print() function\", \"\\n\")\n",
    "\n",
    "x = 15\n",
    "\n",
    "print (\"This is the value of x:\", x, \"\\n\")\n",
    "\n",
    "y = 25\n",
    "\n",
    "print (\"This is the value of x:\", x, \"; This is the value of y:\", y, \". \\n\")"
   ]
  },
  {
   "cell_type": "code",
   "execution_count": 4,
   "metadata": {},
   "outputs": [
    {
     "name": "stdout",
     "output_type": "stream",
     "text": [
      "What is your favorite hobby?\n",
      "What is your favorite color\n",
      "I enjoy sleeping and my favorite color is purple\n"
     ]
    }
   ],
   "source": [
    "print(\"What is your favorite hobby?\")\n",
    "\n",
    "hobby = \"sleeping\"\n",
    "\n",
    "print (\"What is your favorite color\")\n",
    "\n",
    "color = \"purple\"\n",
    "\n",
    "print (\"I enjoy\", hobby, \"and my favorite color is\", color)"
   ]
  },
  {
   "cell_type": "markdown",
   "metadata": {},
   "source": [
    "<hr style=\"border:5px solid green\"> </hr>"
   ]
  },
  {
   "cell_type": "markdown",
   "metadata": {},
   "source": [
    "## 3.  Selections\n",
    "### Scenario: A Problem\n",
    " - Let's review the problem of calculating the diameter and circumference of a circle\n",
    "\n",
    " - It is assumed that a software developer is asked to write a Python program that can calculate and print out the diameter and the circumference of a circle. The user enters data of the radius and its measurement unit (in, ft, cm, or m) from the console.\n",
    "\n",
    "### Let's imagine this scenario:\n",
    "The user inadvertently enters a negative value of the radius, which raises the following question:\n",
    "\n",
    " - Should we let the program ignore this error?\n",
    "\n",
    " - The answer is definitely \"NO.\"\n",
    "\n",
    " - So, what should we do?\n",
    "\n",
    " - We should add selections into our program to check the sign of the input.\n",
    "\n",
    "Let's write a better pseudo-code:\n",
    "\n",
    "1. Start\n",
    "\n",
    "2. Read the input of the radius from the console\n",
    "\n",
    "    if(radius<0): ←selection\n",
    "\n",
    "    inform the user about the error\n",
    "\n",
    "    request to read again\n",
    "\n",
    "3. Read the measurement unit of the radius (in, ft, cm, m)\n",
    "\n",
    "4. Calculate the diameter of the circle\n",
    "\n",
    "    diameter = 2 * radius\n",
    "\n",
    "5. Calculate the circumference of the circle\n",
    "\n",
    "    Circumference =  diameter * PI (3.14159)\n",
    "\n",
    "6. Print out the diameter\n",
    "\n",
    "7. Print out the circumference\n",
    "\n",
    "8. End\n"
   ]
  },
  {
   "cell_type": "markdown",
   "metadata": {},
   "source": [
    "<hr style=\"border:5px solid green\"> </hr>"
   ]
  },
  {
   "cell_type": "markdown",
   "metadata": {},
   "source": [
    "## 4. if Statements\n",
    "### 1. Simple if:\n",
    "if(boolean expression):\n",
    "\n",
    ">//... ... ... statement(s)\n",
    "    \n",
    "\n",
    "#### Example:\n",
    "\n",
    "numCredits = ... # number of credits an undergaduate student completed\n",
    "\n",
    "if (numCredits >=90):\n",
    "\n",
    ">studentLevel = \"Senior\"\n",
    "\n",
    "### 2.  if Statements: if...else:\n",
    "\n",
    "if(boolean expression):\n",
    "> //... ... ... statement(s)\n",
    "\n",
    "else:\n",
    "\n",
    "                     //... ... ... statement(s)\n",
    "\n",
    "#### Example:\n",
    "\n",
    "if(numCredits >= 120):\n",
    "\n",
    "                 readyToGraduate = True;\n",
    "\n",
    "else:\n",
    "\n",
    "                 readyToGraduate = False;\n",
    "\n",
    "### 3.  if ... elif ... elif ... else\n",
    "if(boolean expression):\n",
    "\n",
    "            // ... ... ... statement(s)\n",
    "\n",
    "elif (boolean expression):\n",
    "\n",
    "          // ... ... ..... statement(s)\n",
    "\n",
    "elif (boolean expression):\n",
    "\n",
    "          // ... ... ..... statement(s)\n",
    "\n",
    "else:\n",
    "\n",
    "          // ... ... ..... statement(s)\n",
    "    \n",
    "\n",
    "#### Example:\n",
    "It is assumed that the Registrar Office of a university asks one analyst to provide a solution to the following problem:\n",
    "\n",
    "Write a Python program that can read input from the console. The user enters a student's name and his/her level (freshmen, ..., senior). The program is expected to assign a numeric code that represents his/her priority to register courses. Students who have higher priority are allowed to register courses before those with lower priority. The code starts from 1 (highest) that is assigned to seniors and increments by 1 for each lower level. Finally, the program prints out the student name, his/her level, and the code of priority to register courses in the same line.\n",
    "\n",
    "##### Pseudo-Code with if ... elif ... elif ... else:\n",
    "1. START\n",
    "\n",
    "2. ... more code here ...\n",
    "\n",
    "3. Perform the selection\n",
    "\n",
    " - If \"senior\", priorityToRegister = 1 // highest\n",
    "\n",
    " - If \"junior\", priorityToRegister = 2\n",
    "\n",
    " - If \"sophmore\", priorityToRegister = 3\n",
    "\n",
    " - If \"freshman\" , priorityToRegister = 4\n",
    "\n",
    " - If (not any above), print out warning of errors\n",
    "\n",
    "4. ... more code here ...\n",
    "\n",
    "5. END\n",
    "\n",
    "##### Code:\n",
    "\n",
    "studentLevel = ... #level: freshman, sophmore, junior, senior\n",
    "\n",
    "if(studentLevel == \"Senior\")\n",
    "\n",
    "     priorityToRegister = 1\n",
    "\n",
    "if(studentLevel == \"Junior\")\n",
    "\n",
    "     priorityToRegister = 2\n",
    "\n",
    "if(studentLevel == \"Sophmore\")\n",
    "\n",
    "     priorityToRegister = 1\n",
    "\n",
    "### <font color=red> **Run the following code:** </font>"
   ]
  },
  {
   "cell_type": "code",
   "execution_count": 5,
   "metadata": {},
   "outputs": [
    {
     "name": "stdout",
     "output_type": "stream",
     "text": [
      "studentLevel: Senior ; Priority to register 1 \n",
      "\n"
     ]
    }
   ],
   "source": [
    "studentLevel= \"Senior\" # level: freshman, sophomore, junior, senior\n",
    "if(studentLevel ==\"Senior\"):\n",
    "    prioritytoRegister = 1\n",
    "elif(studentLevel ==\"Junior\"):\n",
    "    prioritytoRegister = 2\n",
    "elif(studentLevel ==\"Sophomore\"):\n",
    "    prioritytoRegister = 3\n",
    "elif(studentLevel ==\"Freshman\"):\n",
    "    prioritytoRegister = 4\n",
    "else:\n",
    "    print(\"Invalid studentLevel!!!\")\n",
    "    \n",
    "print(\"studentLevel:\", studentLevel, \"; Priority to register\",prioritytoRegister, \"\\n\") "
   ]
  },
  {
   "cell_type": "code",
   "execution_count": 6,
   "metadata": {},
   "outputs": [
    {
     "name": "stdout",
     "output_type": "stream",
     "text": [
      "You are getting up there. Be careful.\n",
      "Age is 43 ; Priority of Health Insurance 3\n"
     ]
    }
   ],
   "source": [
    "age = 43\n",
    "\n",
    "if (age <= 18):\n",
    "    print (\"You are not an adult\")\n",
    "    priorityofSSI = 0\n",
    "elif (19 <= age <=25):\n",
    "    print (\"You are a young adult\")\n",
    "    priorityofSSI = 1\n",
    "elif (26 <= age <= 40):\n",
    "    print (\"Welcome the pains of adulthood\")\n",
    "    priorityofSSI = 2\n",
    "elif (40 <= age < 65):\n",
    "    print (\"You are getting up there. Be careful.\")\n",
    "    priorityofSSI = 3\n",
    "else:\n",
    "    print(\"You are old!\")\n",
    "    priorityofSSI = 4\n",
    "\n",
    "print(\"Age is\", age, \"; Priority of Health Insurance\", priorityofSSI)"
   ]
  },
  {
   "cell_type": "markdown",
   "metadata": {},
   "source": [
    "<hr style=\"border:5px solid green\"> </hr>"
   ]
  },
  {
   "cell_type": "code",
   "execution_count": null,
   "metadata": {},
   "outputs": [],
   "source": []
  }
 ],
 "metadata": {
  "kernelspec": {
   "display_name": "Python 3 (ipykernel)",
   "language": "python",
   "name": "python3"
  },
  "language_info": {
   "codemirror_mode": {
    "name": "ipython",
    "version": 3
   },
   "file_extension": ".py",
   "mimetype": "text/x-python",
   "name": "python",
   "nbconvert_exporter": "python",
   "pygments_lexer": "ipython3",
   "version": "3.11.5"
  }
 },
 "nbformat": 4,
 "nbformat_minor": 4
}
