{
 "cells": [
  {
   "cell_type": "markdown",
   "metadata": {},
   "source": [
    "# <center><font color=green>Basic Techniques of Programming Part 2: Programming for Data Science with Python </font></center>\n",
    "\n",
    "\n",
    "## 5. Loops\n",
    "### Scenario: A Problem\n",
    "\n",
    "Let's review the problem of calculating the diameter and circumference of a circle\n",
    "\n",
    "    It is assumed that a software developer is asked to write a Python program that can calculate and print out the diameter and the circumference of a circle. The user enters data of the radius and its measurement unit (in, ft, cm, or m) from the console.\n",
    "\n",
    "Let's write a Pseudo-Code:\n",
    "\n",
    "1.  Start\n",
    "\n",
    "2.  Read the input of the radius from the console\n",
    " - if (radius<0),\n",
    "      - inform the user about the error\n",
    "\n",
    "      - request to read again\n",
    "\n",
    "3.  Read the measurement unit of the radius (in, ft, cm, m)\n",
    " - if (unit is not among (in, ft, cm, m)),\n",
    "      - inform the user about the error\n",
    "      - request to read again\n",
    "\n",
    "4. Calculate the diameter of the circle\n",
    " - diameter = 2 * radius\n",
    "\n",
    "5. Calculate the circumference of the circle\n",
    " - Circumference + diameter * PI (3.14159)\n",
    "\n",
    "6. Print out the diameter\n",
    "\n",
    "7. Print out the circumference\n",
    "\n",
    "8. End\n",
    "\n",
    "\n",
    "Let's focus on this piece of pseudo-code:\n",
    "\n",
    "Read the input of the radius from the console\n",
    " - if (radius < 0),\n",
    "      - inform the user about the error\n",
    "\n",
    "      - request to read again\n",
    "\n",
    "What happens if the user makes mistakes while entering the radius data again and again?\n",
    "\n",
    "    The program must perform the checking again and again until it can read a valid piece of data._\n",
    "\n",
    "In other words, the program must repeatedly check the input until it gets the correct one → the program uses <font color= blue>LOOPS.</font>\n",
    "\n",
    "### 1. while Loop\n",
    "\n",
    "#### Syntax\n",
    "\n",
    "while (<loop-continuation condition.):\n",
    "\n",
    "    // ... ... ... statements(s)\n",
    "\n",
    "#### Example:\n",
    "\n",
    "radius = ... # radius of the circle\n",
    "\n",
    "while (radius < 0):\n",
    "\n",
    "    print (\"Radius cannot be negative!!!\")\n",
    "\n",
    "    print (\"Enter radius:\")\n",
    "\n",
    "radius = input(\"Enter radius: \")\n",
    "\n",
    "<font color=red> **IMPORTANT NOTES:**</font>\n",
    "\n",
    " - In Python, WHILE loop also has an \"ELSE\" statement as IF does.\n",
    "\n",
    " - However, it is strongly discouraged from using the ELSE statement of WHILE because it causes confusion and can make the code too complicated.\n",
    "\n",
    " - For more details, see the example in the following section of FOR loop.\n",
    "\n",
    "### 2.  for Loop\n",
    "\n",
    "The Python for loop is an iterator based for loop.\n",
    "\n",
    "It steps through the items of lists, tuples, strings, the keys of dictionaries, and other iterables.\n",
    "\n",
    "The Python for loop starts with the keyword for followed by an arbitrary variable name, which will hold the values of the following sequence object, which is stepped through.\n",
    "\n",
    "#### Syntax\n",
    "\n",
    "for (variable) in (sequence):\n",
    "\n",
    "    // ... ... ... statement(s)\n",
    "\n",
    "### <font color=red> **Run the following code:** </font>"
   ]
  },
  {
   "cell_type": "code",
   "execution_count": 1,
   "metadata": {},
   "outputs": [
    {
     "name": "stdout",
     "output_type": "stream",
     "text": [
      "C\n",
      "C++\n",
      "Java\n",
      "Python\n",
      "Perl\n",
      "Ruby\n",
      "Scala\n"
     ]
    }
   ],
   "source": [
    "language = [\"C\", \"C++\", \"Java\", \"Python\", \"Perl\", \"Ruby\", \"Scala\"]\n",
    "for x in language:\n",
    "    print (x)"
   ]
  },
  {
   "cell_type": "code",
   "execution_count": 1,
   "metadata": {},
   "outputs": [
    {
     "name": "stdout",
     "output_type": "stream",
     "text": [
      "Elden Ring\n",
      "Baldur Gate 3\n",
      "Overwatch 1 & 2\n",
      "Mortal Kombat\n",
      "Street Fighter\n",
      "Super Mario 64\n"
     ]
    }
   ],
   "source": [
    "fav_Games = [\"Elden Ring\", \"Baldur Gate 3\", \"Overwatch 1 & 2\", \"Mortal Kombat\", \"Street Fighter\", \"Super Mario 64\"]\n",
    "for games in fav_Games:\n",
    "    print (games)"
   ]
  },
  {
   "cell_type": "markdown",
   "metadata": {},
   "source": [
    "<font color=red> **IMPORTANT NOTES:**</font>\n",
    "\n",
    "In Python, FOR loop also has an optional \"ELSE\" statement as IF statement does.\n",
    "\n",
    "***However, it is strongly discouraged from using the ELSE statement of FOR loop because it causes confusion and makes the code too complicated.***\n",
    "\n",
    "(Remember the Zen of Python: ... ***Simple is better than complex! Complex is better than complicated!***)\n",
    "\n",
    "Semantically, the optional ELSE of FOR loop works exactly as the optional ELSE of a WHILE loop:\n",
    "\n",
    " - It will be executed only if the loop hasn't been \"broken\" by a BREAK statement.\n",
    "\n",
    " - So it will only be executed, after all the items of the sequence in the header have been interated through.\n",
    "\n",
    "If a BREAK statement has to be executed in the program flow of the for loop:\n",
    "\n",
    " - The loop will be exited\n",
    "\n",
    " - The program flow will continue with the first statement following the FOR loop, if there is any at all.\n",
    "\n",
    "Usually, BREAK statements are wrapped into conditional statements.\n",
    "\n",
    "### <font color=red> **Run the following code:** </font>"
   ]
  },
  {
   "cell_type": "code",
   "execution_count": 2,
   "metadata": {},
   "outputs": [
    {
     "name": "stdout",
     "output_type": "stream",
     "text": [
      "I am so glad: No spam!\n",
      "Finally, I finished stuffing myself\n",
      "I am so glad: No spam!\n",
      "Finally, I finished stuffing myself\n",
      "I am so glad: No spam!\n",
      "Finally, I finished stuffing myself\n",
      "I am so glad: No spam!\n",
      "Finally, I finished stuffing myself\n"
     ]
    }
   ],
   "source": [
    "edibles = [\"ham\", \"Spam\", \"eggs\", \"nuts\"]\n",
    "\n",
    "for food in edibles:\n",
    "    if food == \"spam\":\n",
    "        print(\"No more spam please!\")\n",
    "        break\n",
    "        print (\"reat, delicious \" + food)\n",
    "    else:\n",
    "        print(\"I am so glad: No spam!\")\n",
    "        print (\"Finally, I finished stuffing myself\")"
   ]
  },
  {
   "cell_type": "code",
   "execution_count": 4,
   "metadata": {},
   "outputs": [
    {
     "name": "stdout",
     "output_type": "stream",
     "text": [
      "Yawn. I can't wait  study\n",
      "Hmm, I wonder what I should do...\n",
      "Yawn. I can't wait  watch tv\n",
      "Hmm, I wonder what I should do...\n",
      "Yawn. I can't wait  read\n",
      "Hmm, I wonder what I should do...\n",
      "Yawn. I can't wait  play video games\n",
      "Hmm, I wonder what I should do...\n",
      "Snooze! One more wink wouldn't hurt.\n"
     ]
    }
   ],
   "source": [
    "fav_hobbies = [\"study\", \"watch tv\", \"read\", \"play video games\",\"sleep\"]\n",
    "\n",
    "for hobby in fav_hobbies:\n",
    "    if hobby == \"sleep\":\n",
    "        print(\"Snooze! One more wink wouldn't hurt.\")\n",
    "        break\n",
    "    else:\n",
    "        print(\"Yawn. I can't wait \", hobby)\n",
    "        print(\"Hmm, I wonder what I should do...\")"
   ]
  },
  {
   "cell_type": "markdown",
   "metadata": {},
   "source": [
    "#### Let's consider the \"else\" statement in the FOR loop\n",
    "\n",
    "for (variable) in (sequence):\n",
    "    #statements ...\n",
    "else:\n",
    "    #statements ...\n",
    "    \n",
    "    \n",
    "What does it mean by the \"ELSE\" statement?\n",
    "\n",
    "Based on the syntax, it seems that the execution of the ELSE block is only based on the state of the conditional expression of the FOR statement - no other conditions.\n",
    "\n",
    "However, semantically, it is not true!\n",
    "\n",
    "The execution of the ELSE block only becomes meaningful due to the existence of a BREAK statement embedded inside another conditional statement like IF.\n",
    "\n",
    "In the above piece of code, intuitively, the ELSE block would be executed if the conditional expression of FOR statement, i.e., \"food is edibles\", gets a \"False\" vaue - when the FOR loop has iterated through the whole sequence.\n",
    "\n",
    "Let's execute the following piece of code that let the FOR loop iterate through its sequence:\n",
    "\n",
    "### <font color=red> **Run the following code:** </font>"
   ]
  },
  {
   "cell_type": "code",
   "execution_count": 3,
   "metadata": {},
   "outputs": [
    {
     "name": "stdout",
     "output_type": "stream",
     "text": [
      "No break in FOR loop statements\n",
      "No break in FOR loop statements\n",
      "No break in FOR loop statements\n",
      "No break in FOR loop statements\n",
      "I am so glad: No spam!\n",
      "Finally, I finished stuffing myself\n"
     ]
    }
   ],
   "source": [
    "edibles = [\"ham\", \"spam\", \"eggs\", \"nuts\"]\n",
    "for food in edibles:\n",
    "    print(\"No break in FOR loop statements\")\n",
    "else:\n",
    "    print (\"I am so glad: No spam!\")\n",
    "print (\"Finally, I finished stuffing myself\")"
   ]
  },
  {
   "cell_type": "code",
   "execution_count": 9,
   "metadata": {},
   "outputs": [
    {
     "name": "stdout",
     "output_type": "stream",
     "text": [
      "brrr\n",
      "rain, rain, go away!\n",
      "Who let the sun out?\n",
      "The only thing falling this season are the leaves.\n",
      "Is this else really necessary after all that?\n"
     ]
    }
   ],
   "source": [
    "seasons = [\"winter\", \"spring\", \"summer\", \"autumn\"]\n",
    "for season in seasons:\n",
    "    if season == \"winter\":\n",
    "        print(\"brrr\")\n",
    "    elif season == \"spring\":\n",
    "        print(\"rain, rain, go away!\")\n",
    "    elif season == \"summer\":\n",
    "        print(\"Who let the sun out?\")\n",
    "    elif season == \"autumn\":\n",
    "        print(\"The only thing falling this season are the leaves.\")\n",
    "    else:\n",
    "        print(\"Change is evitable.\")\n",
    "else:\n",
    "    print(\"Is this else really necessary after all that?\")"
   ]
  },
  {
   "cell_type": "markdown",
   "metadata": {},
   "source": [
    "<div class=\"alert alert-block alert-success\">\n",
    "<b> NOTES:</b>\n",
    "From the results of the above piece of code, the FOR loop iterated through the whole sequence.\n",
    "Therefore, the ELSE block is executed.\n",
    "\n",
    "However, the output of the ELSE block is not only meaningless but also misleading!\n",
    "\n",
    "There is \"Spam\" in the sequence!\n",
    "    \n",
    "Let's find out what the developer really wants to achieve with the above ELSE statement\n",
    "    \n",
    " - He/she wants to find out if \"spam\" is listed in the list of edibles by using FOR loop to iterate through the sequence.\n",
    " - If \"spam\" is found, he/she prints out a dialog to inform that.\n",
    " - Otherwise, he/she is so happy to print out that there is no \"spam\" in the list.\n",
    "\n",
    "Let's write another much simpler piece of code to achieve what he/she wants </div>\n",
    "\n",
    "### <font color=red> **Run the following 2 blocks of code:** </font>"
   ]
  },
  {
   "cell_type": "code",
   "execution_count": 4,
   "metadata": {},
   "outputs": [
    {
     "name": "stdout",
     "output_type": "stream",
     "text": [
      "Great, delicious ham\n",
      "No more spam please!\n",
      "Finally, I finished stuffing myself\n"
     ]
    }
   ],
   "source": [
    "edibles = [\"ham\", \"spam\", \"eggs\",\"nuts\"]\n",
    "spam=False\n",
    "\n",
    "for food in edibles:\n",
    "    if food == \"spam\":\n",
    "        spam = True\n",
    "        print(\"No more spam please!\")\n",
    "        break\n",
    "    print (\"Great, delicious \" + food)\n",
    "    \n",
    "if (not spam):\n",
    "    print(\"I am so glad: No spam!\")\n",
    "            \n",
    "print(\"Finally, I finished stuffing myself\")\n"
   ]
  },
  {
   "cell_type": "code",
   "execution_count": 22,
   "metadata": {},
   "outputs": [
    {
     "name": "stdout",
     "output_type": "stream",
     "text": [
      "I picked up  Peanut Butter\n",
      "I picked up  Bread\n",
      "I picked up  Almond Milk\n",
      "I picked up  Jelly\n",
      "I picked up  Detergent\n",
      "I picked up  Trash Bags\n",
      "Yay, you got cereal. Now, we need milk.\n",
      "How can you forget cereal?!\n",
      "Finally, I finished grocery shopping.\n"
     ]
    }
   ],
   "source": [
    "groceries = [\"Peanut Butter\", \"Bread\", \"Almond Milk\", \"Jelly\", \"Detergent\", \"Trash Bags\", \"Cereal\"]\n",
    "cereal = False\n",
    "\n",
    "for grocery in groceries:\n",
    "    if grocery == \"Cereal\":\n",
    "        cereal == True\n",
    "        print(\"Yay, you got cereal. Now, we need milk.\")\n",
    "        break\n",
    "    print(\"I picked up \", grocery)\n",
    "    \n",
    "if (not cereal):\n",
    "    print(\"How can you forget cereal?!\")\n",
    "print(\"Finally, I finished grocery shopping.\")"
   ]
  },
  {
   "cell_type": "code",
   "execution_count": 5,
   "metadata": {},
   "outputs": [
    {
     "name": "stdout",
     "output_type": "stream",
     "text": [
      "Great, delicious ham\n",
      "Great, delicious eggs\n",
      "Great, delicious nuts\n",
      "I am so glad: No spam!\n",
      "Finally, I finished stuffing myself\n"
     ]
    }
   ],
   "source": [
    "#NO spam\n",
    "\n",
    "edibles =[\"ham\",\"eggs\",\"nuts\"]\n",
    "spam = False\n",
    "\n",
    "for food in edibles:\n",
    "    if food == \"spam\":\n",
    "        spam = True\n",
    "        print(\"No more spam please!\")\n",
    "        break\n",
    "    print(\"Great, delicious \" + food)\n",
    "if (not spam):\n",
    "        print(\"I am so glad: No spam!\")\n",
    "print(\"Finally, I finished stuffing myself\")"
   ]
  },
  {
   "cell_type": "code",
   "execution_count": 28,
   "metadata": {},
   "outputs": [
    {
     "name": "stdout",
     "output_type": "stream",
     "text": [
      "All you got was cereal? We can't live on cereal.\n",
      "How could you forget  Peanut Butter ?!\n",
      "How could you forget  Bread ?!\n",
      "How could you forget  Almond Milk ?!\n",
      "How could you forget  Jelly ?!\n",
      "How could you forget  Detergent ?!\n",
      "How could you forget  Trash Bags ?!\n",
      "Next time, I am going shopping.\n"
     ]
    }
   ],
   "source": [
    "groceries = [\"Cereal\"]\n",
    "cereal = False\n",
    "\n",
    "for grocery in groceries:\n",
    "    if grocery == \"Cereal\":\n",
    "        cereal == False\n",
    "        print(\"All you got was cereal? We can't live on cereal.\")\n",
    "        break\n",
    "    print(\"I picked up \", grocery)\n",
    "\n",
    "shopping_list = [\"Peanut Butter\", \"Bread\", \"Almond Milk\", \"Jelly\", \"Detergent\", \"Trash Bags\"]\n",
    "for item in shopping_list:\n",
    "    if (not cereal):\n",
    "        print(\"How could you forget \", item, \"?!\")\n",
    "    else:\n",
    "        print(\"Finally, I finished grocery shopping.\")\n",
    "else:\n",
    "    print(\"Next time, I am going shopping.\")"
   ]
  },
  {
   "cell_type": "markdown",
   "metadata": {},
   "source": [
    "<font color=red> **IMPORTANT NOTES:**</font>\n",
    "\n",
    "By not using the ELSE statement, the code is much easier to understand, much cleaner, and much simpler - following the Zen of Python:\n",
    "\n",
    "> ***Simple is better than complex!***\n",
    "\n",
    "> ***Complex is better than complicated!***"
   ]
  },
  {
   "cell_type": "markdown",
   "metadata": {},
   "source": [
    "### 3.  Break  \n",
    "\n",
    "\"Break\" is used to terminate a loop, i.e. completely get out of the loop, immediately.\n",
    "\n",
    "### <font color=red> **Run the following 4 blocks of code:** </font>"
   ]
  },
  {
   "cell_type": "code",
   "execution_count": 6,
   "metadata": {},
   "outputs": [
    {
     "name": "stdout",
     "output_type": "stream",
     "text": [
      "10\n",
      "11\n",
      "12\n",
      "13\n",
      "14\n"
     ]
    }
   ],
   "source": [
    "for x in range (10,20):\n",
    "       if (x == 15): break\n",
    "       print (x)"
   ]
  },
  {
   "cell_type": "code",
   "execution_count": 29,
   "metadata": {},
   "outputs": [
    {
     "name": "stdout",
     "output_type": "stream",
     "text": [
      "100\n",
      "105\n",
      "110\n",
      "115\n",
      "120\n",
      "125\n",
      "130\n"
     ]
    }
   ],
   "source": [
    "for x in range (100,150,5):\n",
    "       if (x == 135): break\n",
    "       print (x)"
   ]
  },
  {
   "cell_type": "code",
   "execution_count": 7,
   "metadata": {},
   "outputs": [
    {
     "name": "stdout",
     "output_type": "stream",
     "text": [
      "s\n",
      "t\n",
      "r\n",
      "The end\n"
     ]
    }
   ],
   "source": [
    "for val in \"string\":\n",
    "    if val == \"i\":\n",
    "        break\n",
    "    print(val)\n",
    "\n",
    "print(\"The end\")"
   ]
  },
  {
   "cell_type": "code",
   "execution_count": 32,
   "metadata": {},
   "outputs": [
    {
     "name": "stdout",
     "output_type": "stream",
     "text": [
      "D\n",
      "e\n",
      "A\n",
      "u\n",
      "n\n",
      "d\n",
      "r\n",
      "i\n",
      "e\n",
      " \n",
      "H\n",
      "o\n",
      "w\n",
      "The end\n"
     ]
    }
   ],
   "source": [
    "for val in \"DeAundrie Howard\":\n",
    "    if val == \"a\":\n",
    "        break\n",
    "    print(val)\n",
    "\n",
    "print(\"The end\")"
   ]
  },
  {
   "cell_type": "code",
   "execution_count": 8,
   "metadata": {},
   "outputs": [
    {
     "name": "stdout",
     "output_type": "stream",
     "text": [
      "Current Letter : P\n",
      "Current Letter : y\n",
      "Current Letter : t\n",
      "Good bye!\n"
     ]
    }
   ],
   "source": [
    "for letter in 'Python':     \n",
    "   if letter == 'h':\n",
    "      break\n",
    "   print ('Current Letter :', letter)\n",
    "print (\"Good bye!\")"
   ]
  },
  {
   "cell_type": "code",
   "execution_count": 34,
   "metadata": {},
   "outputs": [
    {
     "name": "stdout",
     "output_type": "stream",
     "text": [
      "Current Letter : D\n",
      "Current Letter : e\n",
      "Current Letter : A\n",
      "Current Letter : u\n",
      "Current Letter : n\n",
      "Current Letter : d\n",
      "Current Letter : r\n",
      "Current Letter : i\n",
      "Current Letter : e\n",
      "Current Letter :  \n",
      "Current Letter : H\n",
      "Current Letter : o\n",
      "Current Letter : w\n",
      "Good bye!\n"
     ]
    }
   ],
   "source": [
    "for letter in 'DeAundrie Howard':     \n",
    "   if letter == 'a':\n",
    "      break\n",
    "   print ('Current Letter :', letter)\n",
    "print (\"Good bye!\")"
   ]
  },
  {
   "cell_type": "code",
   "execution_count": 9,
   "metadata": {},
   "outputs": [
    {
     "name": "stdout",
     "output_type": "stream",
     "text": [
      "Enter the price of the next sold item: 3000000000\n",
      "3000000000\n"
     ]
    }
   ],
   "source": [
    "# You will need to enter a price once you run the code.  Use high numbers, since the break is at $1M\n",
    "#  Hit return once you enter an amount\n",
    "\n",
    "numItems=0\n",
    "totalSales=0\n",
    "totalSoldItems=5000\n",
    "\n",
    "while(numItems<totalSoldItems):\n",
    "    price=int(input(\"Enter the price of the next sold item: \"))\n",
    "    totalSales=totalSales+price\n",
    "    if(totalSales>=1000000):\n",
    "        break;\n",
    "    numItems=numItems+1 \n",
    "print(totalSales) "
   ]
  },
  {
   "cell_type": "code",
   "execution_count": null,
   "metadata": {},
   "outputs": [],
   "source": [
    "# Enter intial current bank account balance followed by a projected number of weeks to save.\n",
    "\n",
    "curr_balance = float(input(\"Enter current savings balance:\"))\n",
    "savings_goal = float(input(\"Enter savings goal\"))\n",
    "mnthly_inc = float(input(\"Enter monthly income\"))\n",
    "\n",
    "\n",
    "while(curr_balance < savings_goal):\n",
    "    wkly_income = float(input(\"Enter this weeks savings:\"))\n",
    "    savings = savings +500\n",
    "    if (savings_goal >= dwn_pymt):\n",
    "        break;\n",
    "print(savings)"
   ]
  },
  {
   "cell_type": "markdown",
   "metadata": {},
   "source": [
    "### 4. Continue\n",
    "\n",
    "\"Continue\" is used to skip the rest of an itinerary and start a new one.\n",
    "\n",
    "### <font color=red> **Run the following 2 blocks of code:** </font>"
   ]
  },
  {
   "cell_type": "code",
   "execution_count": 10,
   "metadata": {},
   "outputs": [
    {
     "name": "stdout",
     "output_type": "stream",
     "text": [
      "s\n",
      "t\n",
      "r\n",
      "n\n",
      "g\n",
      "The end\n"
     ]
    }
   ],
   "source": [
    "for val in \"string\":\n",
    "    if val == \"i\":\n",
    "        continue\n",
    "    print(val)\n",
    "\n",
    "print(\"The end\")"
   ]
  },
  {
   "cell_type": "code",
   "execution_count": 1,
   "metadata": {},
   "outputs": [
    {
     "name": "stdout",
     "output_type": "stream",
     "text": [
      "Current variable value : 9\n",
      "Current variable value : 8\n",
      "Current variable value : 7\n",
      "Current variable value : 6\n",
      "Current variable value : 4\n",
      "Current variable value : 3\n",
      "Current variable value : 2\n",
      "Current variable value : 1\n",
      "Current variable value : 0\n",
      "Good bye!\n"
     ]
    }
   ],
   "source": [
    "var = 10                   \n",
    "while var > 0:              \n",
    "   var = var -1\n",
    "   if var == 5:\n",
    "      continue\n",
    "   print ('Current variable value :', var)\n",
    "print (\"Good bye!\")"
   ]
  },
  {
   "cell_type": "code",
   "execution_count": 9,
   "metadata": {},
   "outputs": [
    {
     "name": "stdout",
     "output_type": "stream",
     "text": [
      "Happy 14 birthday\n",
      "Happy 13 birthday\n",
      "Happy 12 birthday\n",
      "Happy 11 birthday\n",
      "Happy 10 birthday\n",
      "Happy 9 birthday\n",
      "Happy 8 birthday\n",
      "Happy 6 birthday\n",
      "Happy 5 birthday\n",
      "Happy 4 birthday\n",
      "Happy 3 birthday\n",
      "Happy 2 birthday\n",
      "Happy 1 birthday\n",
      "Happy 0 birthday\n",
      "So...what's next?\n"
     ]
    }
   ],
   "source": [
    "age = 15\n",
    "while age > 0:\n",
    "    age = age -1\n",
    "    if age == 7:\n",
    "        continue\n",
    "    print(\"Happy\", age, \"birthday\")\n",
    "print(\"So...what's next?\")"
   ]
  },
  {
   "cell_type": "code",
   "execution_count": null,
   "metadata": {},
   "outputs": [],
   "source": []
  }
 ],
 "metadata": {
  "kernelspec": {
   "display_name": "Python 3 (ipykernel)",
   "language": "python",
   "name": "python3"
  },
  "language_info": {
   "codemirror_mode": {
    "name": "ipython",
    "version": 3
   },
   "file_extension": ".py",
   "mimetype": "text/x-python",
   "name": "python",
   "nbconvert_exporter": "python",
   "pygments_lexer": "ipython3",
   "version": "3.11.5"
  }
 },
 "nbformat": 4,
 "nbformat_minor": 4
}
