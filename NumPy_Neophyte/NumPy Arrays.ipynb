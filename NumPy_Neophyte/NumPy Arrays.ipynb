{
 "cells": [
  {
   "cell_type": "markdown",
   "metadata": {},
   "source": [
    "# <center><font color=green>NumPy Arrays </font> </center>  \n",
    "# <center><font color=green>Programming for Data Science with Python </font> </center>\n",
    "\n",
    "\n",
    "## 1.  Introduction\n",
    "\n",
    "NumPy is the fundamental package for **scientific computing** in Python.\n",
    "\n",
    "It is a **Python library** that provides:\n",
    " - a multidimensional array object\n",
    " - various derived objects (such as masked arrays and matrices)\n",
    " - an assortment of routines for fast operations on arrays (including mathematical, logical, shape manipulation, sorting, selecting, I/O, discrete Fourier transforms, basic linear algebra, basic statistical operations, random simulation and much more.)  \n",
    "\n",
    "At the **core** of the **NumPy** package, is the ndarray object.\n",
    " -  This encapsulates **n-dimensional arrays** of homogeneous data types   - with many operations being performed in compiled code for performance.\n",
    " \n",
    "There are several **important differences** between **NumPy arrays** and the **standard Python sequences:**\n",
    " - **NumPy arrays** have a **fixed size** at creation, unlike Python lists (which can grow dynamically).\n",
    " - Changing the size of a ndarray will create a new array and delete the original.\n",
    "\n",
    "The **elements** in a **NumPy array** are all required to be of the same data type, thus will be the same size in memory.\n",
    "\n",
    "The exception: one can have arrays of (Python, including NumPy) objects, thereby allowing for arrays of different sized elements.\n",
    "\n",
    "NumPy arrays facilitate advanced mathematical and other types of operations on large numbers of data.  Typically, such operations are executed more efficiently and with less code than is possible using Python's built-in sequences.\n",
    "\n",
    "A growing plethora of scientific and mathematical Python-based packages are using NumPy arrays; though these typically support Python-sequence input, they convert such input to NumPy arrays prior to processing, and they often output NumPy arrays.\n",
    "\n",
    "In other words, in order to efficiently use much (perhaps even most) of today's scientific/mathematical Python-based software, just knowing how to use Python's built-in sequence types is insufficient - one also needs to know how to use NumPy arrays.\n",
    "\n",
    "<hr style=\"border:5px solid green\"> </hr>\n",
    "\n",
    "## 2. NumPy: Class ndarray\n",
    "\n",
    "### 2.1 Overview\n",
    "In NumPy, an array object represents a multidimensional, homogeneous array offixed-size items.\n",
    "\n",
    "An associated data-type object describes the format of each element in the array: \n",
    " - its byte-order \n",
    " - how many bytes it occupies in memory, \n",
    " - whether it is an integer,  a floating point number, or something else.\n",
    "\n",
    "### 2.2 Fundamental Concepts\n",
    "\n",
    "#### 2.2.1 NumPy Arrays: Dimension & Axis\n",
    "\n",
    "NumPy's main object is the ***homogeneous multidimensional array.**\n",
    "\n",
    "It is a table of elements (usually numbers), all of the same type, indexed by a **tuple of positive integers.**\n",
    "\n",
    "In NumPy, **dimensions** are called **axes**. The number of axes is rank.\n",
    "\n",
    "**EXAMPLE:**\n",
    "\n",
    "The coordinates of a point in 3D space [1, 2, 1] is an array of rank 1, because it has one axis. \n",
    " - This axis has a length of 3.\n",
    " \n",
    "\n",
    " \n",
    "This array, [[ 1., 0., 0.], [ 0., 1., 2.)) has rank 2, i.e., 2 dimensions (it is 2-dimensional). \n",
    " - Let's see this array as a table of **2 rows and 3 columns**. \n",
    "  - The first dimension (axis 0) has a length of 2 (2 rows), the second dimension (axis 1) has a length of 3 (3 columns).\n",
    "\n",
    "A 2-dimensional array has two corresponding axes: \n",
    " - the first running vertically downwards across rows (axis 0)\n",
    " - the second running horizontally across columns (axis 1 )\n",
    "\n",
    "Many operation can take place along one of these axes.\n",
    "For example, we can sum each row of an array, in which case we operate along columns, or axis 1.\n",
    "\n",
    "### <font color=red> **Run the following 4 code blocks:** </font>"
   ]
  },
  {
   "cell_type": "code",
   "execution_count": 1,
   "metadata": {},
   "outputs": [
    {
     "data": {
      "text/plain": [
       "array([[ 0,  1,  2,  3],\n",
       "       [ 4,  5,  6,  7],\n",
       "       [ 8,  9, 10, 11]])"
      ]
     },
     "execution_count": 1,
     "metadata": {},
     "output_type": "execute_result"
    }
   ],
   "source": [
    "import numpy as np\n",
    "x = np.arange(12).reshape((3,4))\n",
    "x"
   ]
  },
  {
   "cell_type": "code",
   "execution_count": 3,
   "metadata": {},
   "outputs": [
    {
     "name": "stdout",
     "output_type": "stream",
     "text": [
      "[[ 0  1  2  3  4  5]\n",
      " [ 6  7  8  9 10 11]\n",
      " [12 13 14 15 16 17]]\n"
     ]
    }
   ],
   "source": [
    "import numpy as np\n",
    "y = np.arange(18).reshape((3, 6))\n",
    "print(y)"
   ]
  },
  {
   "cell_type": "code",
   "execution_count": 4,
   "metadata": {},
   "outputs": [
    {
     "data": {
      "text/plain": [
       "66"
      ]
     },
     "execution_count": 4,
     "metadata": {},
     "output_type": "execute_result"
    }
   ],
   "source": [
    "# Sum up all the elements\n",
    "x.sum()"
   ]
  },
  {
   "cell_type": "code",
   "execution_count": 5,
   "metadata": {},
   "outputs": [
    {
     "data": {
      "text/plain": [
       "153"
      ]
     },
     "execution_count": 5,
     "metadata": {},
     "output_type": "execute_result"
    }
   ],
   "source": [
    "y.sum()"
   ]
  },
  {
   "cell_type": "code",
   "execution_count": 6,
   "metadata": {},
   "outputs": [
    {
     "data": {
      "text/plain": [
       "array([ 6, 22, 38])"
      ]
     },
     "execution_count": 6,
     "metadata": {},
     "output_type": "execute_result"
    }
   ],
   "source": [
    "# Sum up elements along the horizontal axis\n",
    "x.sum(axis = 1)"
   ]
  },
  {
   "cell_type": "code",
   "execution_count": 8,
   "metadata": {},
   "outputs": [
    {
     "data": {
      "text/plain": [
       "array([15, 51, 87])"
      ]
     },
     "execution_count": 8,
     "metadata": {},
     "output_type": "execute_result"
    }
   ],
   "source": [
    "y.sum(axis = 1)"
   ]
  },
  {
   "cell_type": "code",
   "execution_count": 9,
   "metadata": {},
   "outputs": [
    {
     "data": {
      "text/plain": [
       "array([12, 15, 18, 21])"
      ]
     },
     "execution_count": 9,
     "metadata": {},
     "output_type": "execute_result"
    }
   ],
   "source": [
    "# Sum up elements along the vertical axis\n",
    "x.sum(axis = 0)"
   ]
  },
  {
   "cell_type": "code",
   "execution_count": 10,
   "metadata": {},
   "outputs": [
    {
     "data": {
      "text/plain": [
       "array([18, 21, 24, 27, 30, 33])"
      ]
     },
     "execution_count": 10,
     "metadata": {},
     "output_type": "execute_result"
    }
   ],
   "source": [
    "y.sum(axis = 0)"
   ]
  },
  {
   "cell_type": "markdown",
   "metadata": {},
   "source": [
    "<font color=red>***IMPORTANT NOTES:***</font> **axis = 0**\n",
    "**axis= 0**: Actions occur vertically, i.e., moving along vertically\n",
    "actions on the rows, e.g., drop rows, add rows\n",
    "\n",
    "<font color=red>***IMPORTANT NOTES:***</font> **axis = 1**\n",
    "**axis = 1**: Actions occur horizontally, i.e., moving along horizontally\n",
    "actions on the columns, e.g., add columns, drop columns\n",
    "\n",
    "\n",
    "<hr style=\"border:5px solid green\"> </hr>\n",
    "\n",
    "\n",
    "## 3. Numpy Arrays: Creation\n",
    "\n",
    "### 3.1 Overview\n",
    "\n",
    "NumPy arrays can be created in different ways, with default initial values or manually specified ones.\n",
    "\n",
    "\n",
    "### 3.2 NumPy Arrays: Creation: Empty, Ones, Zeros, Full Arrays\n",
    "\n",
    "**empty(shape[, dtype, order])**\n",
    "Returns a new array of given shape and type, without initializing entries.\n",
    "\n",
    "**empty_like(a[, dtype, order, subok])**\n",
    "Returns a new array with the same shape and type as a given array.\n",
    "\n",
    "**eye(N[, M, k, dtype])**\n",
    "Returns a 2-D array with ones on the diagonal and zeros elsewhere.\n",
    "\n",
    "**identity(n[, dtype])**\n",
    "Returns the identity array.\n",
    "\n",
    "**ones(shape[, dtype, order])**\n",
    "Returns a new array of given shape and type, filled with ones.\n",
    "\n",
    "**ones_like(a[, dtype, order, subok])**\n",
    "Returns an array of ones with the same shape and type as a given array.\n",
    "\n",
    "**zeros(shape[, dtype, order])**\n",
    "Returns a new array of given shape and type, filled with zeros.\n",
    "\n",
    "**zeros_like(a[, dtype, order, subok])**\n",
    "Returns an array of zeros with the same shape and type as a given array.\n",
    "\n",
    "**full(shape, fill_value[, dtype, order])**\n",
    "Returns a new array of given shape and type, filled with fill_value.\n",
    "\n",
    "**full_like(a, fill_value[, dtype, order, subok])**\n",
    "Returns a full array with the same shape and type as a given array.\n",
    "\n",
    "\n",
    "### 3.2.1 empty(shape[, dtype, order])\n",
    "\n",
    "Returns a new array of given shape and type, without initializing entries.\n",
    "\n",
    "**Parameters:**\n",
    "\n",
    "**shape:** int or tuple of int &rarr; Shape of the empty array\n",
    "\n",
    "**dtype:** data-type, optional &rarr; Desired output data-type.\n",
    "\n",
    "**order:** {'C', 'F'}, optional\n",
    "\n",
    "Whether to store multi-dimensional data in row-major (C-style) or column-major (Fortran-style) order in memory.\n",
    "\n",
    "**Returns:**\n",
    "\n",
    "**out:** ndarray\n",
    "\n",
    "Array of uninitialized (arbitrary) data of the given shape, dtype, and order. \n",
    "\n",
    "Object arrays will be initialized to None.\n",
    "\n",
    "### <font color=red> **Run the following 5 code blocks:** </font>"
   ]
  },
  {
   "cell_type": "code",
   "execution_count": 11,
   "metadata": {},
   "outputs": [
    {
     "data": {
      "text/plain": [
       "array([0.000e+000, 0.000e+000, 0.000e+000, 0.000e+000, 0.000e+000,\n",
       "       8.577e-321, 0.000e+000, 0.000e+000])"
      ]
     },
     "execution_count": 11,
     "metadata": {},
     "output_type": "execute_result"
    }
   ],
   "source": [
    "import numpy as np\n",
    "\n",
    "# An empty 1D array: shape = 8 (1D, 8 elements)\n",
    "np.empty(8)"
   ]
  },
  {
   "cell_type": "code",
   "execution_count": 12,
   "metadata": {},
   "outputs": [
    {
     "data": {
      "text/plain": [
       "array([6.23042070e-307, 4.67296746e-307, 1.69121096e-306, 7.56593696e-307,\n",
       "       8.34441742e-308, 1.78022342e-306, 6.23058028e-307, 9.79107872e-307,\n",
       "       6.89807188e-307, 7.56594375e-307, 6.23060065e-307, 1.78021527e-306,\n",
       "       8.34454050e-308, 1.11261027e-306, 1.15706896e-306, 1.33512173e-306])"
      ]
     },
     "execution_count": 12,
     "metadata": {},
     "output_type": "execute_result"
    }
   ],
   "source": [
    "import numpy as np\n",
    "np.empty(16)"
   ]
  },
  {
   "cell_type": "code",
   "execution_count": 13,
   "metadata": {},
   "outputs": [
    {
     "data": {
      "text/plain": [
       "array([   0,    1,    0,  654, 1240,    0,  768,  654])"
      ]
     },
     "execution_count": 13,
     "metadata": {},
     "output_type": "execute_result"
    }
   ],
   "source": [
    "import numpy as np\n",
    "\n",
    "# An empty 1D array of integers: shape = 8 \n",
    "np.empty(8, dtype=int)"
   ]
  },
  {
   "cell_type": "code",
   "execution_count": 15,
   "metadata": {},
   "outputs": [
    {
     "data": {
      "text/plain": [
       "array([-786324352,        654,          0,          0,          1])"
      ]
     },
     "execution_count": 15,
     "metadata": {},
     "output_type": "execute_result"
    }
   ],
   "source": [
    "import numpy as np\n",
    "np.empty(5, dtype = int)"
   ]
  },
  {
   "cell_type": "code",
   "execution_count": 16,
   "metadata": {},
   "outputs": [
    {
     "data": {
      "text/plain": [
       "array([-785502816,        654, -785502896,        654, -785500656,\n",
       "              654,    4390944,    7471215])"
      ]
     },
     "execution_count": 16,
     "metadata": {},
     "output_type": "execute_result"
    }
   ],
   "source": [
    "import numpy as np\n",
    "\n",
    "# Store values in rows as \"C\" style\n",
    "np.empty(8, dtype=int, order= 'C')"
   ]
  },
  {
   "cell_type": "code",
   "execution_count": 17,
   "metadata": {},
   "outputs": [
    {
     "data": {
      "text/plain": [
       "array([0.00000000e+000, 1.38951915e-311, 1.38951915e-311, 1.38951915e-311,\n",
       "       1.60220393e-306])"
      ]
     },
     "execution_count": 17,
     "metadata": {},
     "output_type": "execute_result"
    }
   ],
   "source": [
    "import numpy as np\n",
    "np.empty(5, dtype = float, order= 'F')"
   ]
  },
  {
   "cell_type": "code",
   "execution_count": 18,
   "metadata": {},
   "outputs": [
    {
     "data": {
      "text/plain": [
       "array([[-824141936,        654,          0],\n",
       "       [         0,          1,          0]])"
      ]
     },
     "execution_count": 18,
     "metadata": {},
     "output_type": "execute_result"
    }
   ],
   "source": [
    "import numpy as np\n",
    "\n",
    "# An empty 1D array of integers: shape (a tuple)\n",
    "np.empty([2, 3], dtype = int)"
   ]
  },
  {
   "cell_type": "code",
   "execution_count": 19,
   "metadata": {},
   "outputs": [
    {
     "data": {
      "text/plain": [
       "array([[       50,        48,        50,        52,        45],\n",
       "       [       48,        52,        45,        48,        50],\n",
       "       [       84,        50,        50,        58,        52],\n",
       "       [       51,        58,        50,        49,        46],\n",
       "       [       54,        56,        55,        90, 862335286]])"
      ]
     },
     "execution_count": 19,
     "metadata": {},
     "output_type": "execute_result"
    }
   ],
   "source": [
    "import numpy as np\n",
    "np.empty([5,5], dtype = int)"
   ]
  },
  {
   "cell_type": "code",
   "execution_count": 20,
   "metadata": {},
   "outputs": [
    {
     "data": {
      "text/plain": [
       "array(['', '', '', '', '', '', '', ''], dtype='<U1')"
      ]
     },
     "execution_count": 20,
     "metadata": {},
     "output_type": "execute_result"
    }
   ],
   "source": [
    "import numpy as np\n",
    "\n",
    "# an 1D array of strings\n",
    "np.empty(8, dtype=str)"
   ]
  },
  {
   "cell_type": "markdown",
   "metadata": {},
   "source": [
    "### 3.2.2 empty_like(a[, dtype, order, subok])\n",
    "\n",
    "Returns a new array with the same shape and type as a given array.\n",
    "\n",
    "**Parameters:**\n",
    "\n",
    "**a: array like** &rarr; The shape and data-type of a define these same attributes of the returned array.\n",
    "\n",
    "**dtype: data-type, optional;** &rarr; Overrides the data type of the result.\n",
    "\n",
    "**…subok: bool, optional**\n",
    " - If True, then the newly created array will use the sub-class type of 'a' \n",
    "  - Otherwise it will be a base-class array. Defaults to True.\n",
    "\n",
    "**Returns:**\n",
    "\n",
    "**out:** ndarray\n",
    "\n",
    "Array of uninitialized (arbitrary) data with the same shape and type as 'a'.\n",
    "\n",
    "### <font color=red> **Run the following 2 code blocks:** </font>"
   ]
  },
  {
   "cell_type": "code",
   "execution_count": 21,
   "metadata": {},
   "outputs": [
    {
     "data": {
      "text/plain": [
       "array([[-824141936,        654,          0],\n",
       "       [         0,     131074,          0]])"
      ]
     },
     "execution_count": 21,
     "metadata": {},
     "output_type": "execute_result"
    }
   ],
   "source": [
    "import numpy as np\n",
    "\n",
    "a= ([1,2,3], [4,5,6]) # a is array-like\n",
    "\n",
    "np.empty_like(a)"
   ]
  },
  {
   "cell_type": "code",
   "execution_count": 23,
   "metadata": {},
   "outputs": [
    {
     "data": {
      "text/plain": [
       "array([['', '', '', ''],\n",
       "       ['', '', '', '']], dtype='<U7')"
      ]
     },
     "execution_count": 23,
     "metadata": {},
     "output_type": "execute_result"
    }
   ],
   "source": [
    "import numpy as np \n",
    "chicken = ([\"why\", 'did','the', 'chicken'], ['cross', 'the', 'road', '?'])\n",
    "np.empty_like(chicken)"
   ]
  },
  {
   "cell_type": "code",
   "execution_count": 24,
   "metadata": {},
   "outputs": [
    {
     "data": {
      "text/plain": [
       "array([[7.74860419e-304, 7.74860419e-304, 7.74860419e-304],\n",
       "       [7.74860419e-304, 7.74860419e-304, 7.74860419e-304]])"
      ]
     },
     "execution_count": 24,
     "metadata": {},
     "output_type": "execute_result"
    }
   ],
   "source": [
    "import numpy as np\n",
    "\n",
    "a= np .array([[1., 2., 3.],[4.,5.,6.]])\n",
    "\n",
    "np.empty_like(a)"
   ]
  },
  {
   "cell_type": "code",
   "execution_count": 25,
   "metadata": {},
   "outputs": [
    {
     "data": {
      "text/plain": [
       "array([[      0,       1,       0, 5570652],\n",
       "       [   1532,       0,     768,     654]])"
      ]
     },
     "execution_count": 25,
     "metadata": {},
     "output_type": "execute_result"
    }
   ],
   "source": [
    "import numpy as np\n",
    "\n",
    "b = np.array([[9,8,7,6],[4,3,2,1]])\n",
    "np.empty_like(b)"
   ]
  },
  {
   "cell_type": "markdown",
   "metadata": {},
   "source": [
    "### 3.2.3 identity(n[, dtype])\n",
    "\n",
    "Returns the identity array.\n",
    "\n",
    "### <font color=red> **Run the following code block:** </font>"
   ]
  },
  {
   "cell_type": "code",
   "execution_count": 26,
   "metadata": {},
   "outputs": [
    {
     "data": {
      "text/plain": [
       "array([[1, 0, 0, 0, 0, 0, 0, 0],\n",
       "       [0, 1, 0, 0, 0, 0, 0, 0],\n",
       "       [0, 0, 1, 0, 0, 0, 0, 0],\n",
       "       [0, 0, 0, 1, 0, 0, 0, 0],\n",
       "       [0, 0, 0, 0, 1, 0, 0, 0],\n",
       "       [0, 0, 0, 0, 0, 1, 0, 0],\n",
       "       [0, 0, 0, 0, 0, 0, 1, 0],\n",
       "       [0, 0, 0, 0, 0, 0, 0, 1]])"
      ]
     },
     "execution_count": 26,
     "metadata": {},
     "output_type": "execute_result"
    }
   ],
   "source": [
    "import numpy as np\n",
    "\n",
    "np.identity(8, dtype=int)"
   ]
  },
  {
   "cell_type": "code",
   "execution_count": 27,
   "metadata": {},
   "outputs": [
    {
     "data": {
      "text/plain": [
       "array([[1., 0., 0., 0.],\n",
       "       [0., 1., 0., 0.],\n",
       "       [0., 0., 1., 0.],\n",
       "       [0., 0., 0., 1.]])"
      ]
     },
     "execution_count": 27,
     "metadata": {},
     "output_type": "execute_result"
    }
   ],
   "source": [
    "import numpy as np\n",
    "np.identity(4)"
   ]
  },
  {
   "cell_type": "markdown",
   "metadata": {},
   "source": [
    "### 3.2.4 eye(N[, M, k, dtype])\n",
    "\n",
    "Returns a 2-D array with ones on the diagonal and zeros elsewhere.\n",
    "\n",
    "**Parameters:**\n",
    "\n",
    "**N:** int &rarr; Number of rows in the output.\n",
    "\n",
    "**M:** int, optional &rarr; Number of columns in the output. If None, defaults to N.\n",
    "\n",
    "**k:** int, optional &rarr; Index of the diagonal\n",
    "\n",
    "**0 (the default):** &rarr; to the main diagonal; a positive value refers to an upper diagonal; and a negative value to a lower diagonal.\n",
    "\n",
    "**dtype:** data-type, optional &rarr; Data-type of the returned array.\n",
    "\n",
    "**Returns:**\n",
    "\n",
    "**I:** ndarray of shape (N,M)\n",
    "\n",
    "An array where all elements are equal to zero, except for the k-th diagonal, whose values are equal to one.\n",
    "\n",
    "### <font color=red> **Run the following 2 code blocks:** </font>"
   ]
  },
  {
   "cell_type": "code",
   "execution_count": 28,
   "metadata": {},
   "outputs": [
    {
     "data": {
      "text/plain": [
       "array([[1, 0, 0, 0, 0, 0, 0, 0],\n",
       "       [0, 1, 0, 0, 0, 0, 0, 0],\n",
       "       [0, 0, 1, 0, 0, 0, 0, 0],\n",
       "       [0, 0, 0, 1, 0, 0, 0, 0],\n",
       "       [0, 0, 0, 0, 1, 0, 0, 0],\n",
       "       [0, 0, 0, 0, 0, 1, 0, 0],\n",
       "       [0, 0, 0, 0, 0, 0, 1, 0],\n",
       "       [0, 0, 0, 0, 0, 0, 0, 1]])"
      ]
     },
     "execution_count": 28,
     "metadata": {},
     "output_type": "execute_result"
    }
   ],
   "source": [
    "import numpy as np\n",
    "np.eye (8, dtype = int)"
   ]
  },
  {
   "cell_type": "code",
   "execution_count": 35,
   "metadata": {},
   "outputs": [
    {
     "data": {
      "text/plain": [
       "array([[1., 0., 0., 0.],\n",
       "       [0., 1., 0., 0.],\n",
       "       [0., 0., 1., 0.],\n",
       "       [0., 0., 0., 1.]])"
      ]
     },
     "execution_count": 35,
     "metadata": {},
     "output_type": "execute_result"
    }
   ],
   "source": [
    "import numpy as np\n",
    "np.eye(4, dtype=float)"
   ]
  },
  {
   "cell_type": "code",
   "execution_count": 36,
   "metadata": {},
   "outputs": [
    {
     "data": {
      "text/plain": [
       "array([[0., 0., 1., 0., 0., 0., 0., 0.],\n",
       "       [0., 0., 0., 1., 0., 0., 0., 0.],\n",
       "       [0., 0., 0., 0., 1., 0., 0., 0.],\n",
       "       [0., 0., 0., 0., 0., 1., 0., 0.],\n",
       "       [0., 0., 0., 0., 0., 0., 1., 0.],\n",
       "       [0., 0., 0., 0., 0., 0., 0., 1.],\n",
       "       [0., 0., 0., 0., 0., 0., 0., 0.],\n",
       "       [0., 0., 0., 0., 0., 0., 0., 0.]])"
      ]
     },
     "execution_count": 36,
     "metadata": {},
     "output_type": "execute_result"
    }
   ],
   "source": [
    "import numpy as np\n",
    "np.eye (8, k=2)"
   ]
  },
  {
   "cell_type": "code",
   "execution_count": 43,
   "metadata": {},
   "outputs": [
    {
     "data": {
      "text/plain": [
       "array([[0., 0., 1., 0., 0., 0., 0., 0., 0., 0., 0., 0., 0., 0., 0., 0.,\n",
       "        0., 0.],\n",
       "       [0., 0., 0., 1., 0., 0., 0., 0., 0., 0., 0., 0., 0., 0., 0., 0.,\n",
       "        0., 0.],\n",
       "       [0., 0., 0., 0., 1., 0., 0., 0., 0., 0., 0., 0., 0., 0., 0., 0.,\n",
       "        0., 0.],\n",
       "       [0., 0., 0., 0., 0., 1., 0., 0., 0., 0., 0., 0., 0., 0., 0., 0.,\n",
       "        0., 0.],\n",
       "       [0., 0., 0., 0., 0., 0., 1., 0., 0., 0., 0., 0., 0., 0., 0., 0.,\n",
       "        0., 0.],\n",
       "       [0., 0., 0., 0., 0., 0., 0., 1., 0., 0., 0., 0., 0., 0., 0., 0.,\n",
       "        0., 0.],\n",
       "       [0., 0., 0., 0., 0., 0., 0., 0., 1., 0., 0., 0., 0., 0., 0., 0.,\n",
       "        0., 0.],\n",
       "       [0., 0., 0., 0., 0., 0., 0., 0., 0., 1., 0., 0., 0., 0., 0., 0.,\n",
       "        0., 0.],\n",
       "       [0., 0., 0., 0., 0., 0., 0., 0., 0., 0., 1., 0., 0., 0., 0., 0.,\n",
       "        0., 0.],\n",
       "       [0., 0., 0., 0., 0., 0., 0., 0., 0., 0., 0., 1., 0., 0., 0., 0.,\n",
       "        0., 0.],\n",
       "       [0., 0., 0., 0., 0., 0., 0., 0., 0., 0., 0., 0., 1., 0., 0., 0.,\n",
       "        0., 0.],\n",
       "       [0., 0., 0., 0., 0., 0., 0., 0., 0., 0., 0., 0., 0., 1., 0., 0.,\n",
       "        0., 0.],\n",
       "       [0., 0., 0., 0., 0., 0., 0., 0., 0., 0., 0., 0., 0., 0., 1., 0.,\n",
       "        0., 0.],\n",
       "       [0., 0., 0., 0., 0., 0., 0., 0., 0., 0., 0., 0., 0., 0., 0., 1.,\n",
       "        0., 0.],\n",
       "       [0., 0., 0., 0., 0., 0., 0., 0., 0., 0., 0., 0., 0., 0., 0., 0.,\n",
       "        1., 0.],\n",
       "       [0., 0., 0., 0., 0., 0., 0., 0., 0., 0., 0., 0., 0., 0., 0., 0.,\n",
       "        0., 1.],\n",
       "       [0., 0., 0., 0., 0., 0., 0., 0., 0., 0., 0., 0., 0., 0., 0., 0.,\n",
       "        0., 0.],\n",
       "       [0., 0., 0., 0., 0., 0., 0., 0., 0., 0., 0., 0., 0., 0., 0., 0.,\n",
       "        0., 0.]])"
      ]
     },
     "execution_count": 43,
     "metadata": {},
     "output_type": "execute_result"
    }
   ],
   "source": [
    "import numpy as np\n",
    "np.eye (18, k=2)"
   ]
  },
  {
   "cell_type": "markdown",
   "metadata": {},
   "source": [
    "### 3.2.5 ones(shape[, dtype, order])\n",
    "\n",
    "Returns a new array of given shape and type, filled with ones.\n",
    "\n",
    "**Parameters:**\n",
    "\n",
    "**shape:** int or sequence of ints &rarr; Shape of the new array, e.g., (2, 3) or 2.\n",
    "\n",
    "**dtype:** data-type, optiona &rarr; The desired data-type for the array, e.g., numpy.int8. Default is numpy.float64.\n",
    "\n",
    "**order:** {'C', 'F'}, optional &rarr; ...\n",
    "\n",
    "**Returns:**\n",
    "\n",
    "**out:** ndarray\n",
    "\n",
    "Array of ones with the given shape, dtype, and order.\n",
    "\n",
    "### <font color=red> **Run the following 2 code blocks:** </font>"
   ]
  },
  {
   "cell_type": "code",
   "execution_count": 44,
   "metadata": {},
   "outputs": [
    {
     "data": {
      "text/plain": [
       "array([1., 1., 1., 1., 1., 1., 1., 1.])"
      ]
     },
     "execution_count": 44,
     "metadata": {},
     "output_type": "execute_result"
    }
   ],
   "source": [
    "import numpy as np\n",
    "np.ones(8)"
   ]
  },
  {
   "cell_type": "code",
   "execution_count": 46,
   "metadata": {},
   "outputs": [
    {
     "data": {
      "text/plain": [
       "array([1., 1., 1.])"
      ]
     },
     "execution_count": 46,
     "metadata": {},
     "output_type": "execute_result"
    }
   ],
   "source": [
    "import numpy as np\n",
    "np.ones(3)"
   ]
  },
  {
   "cell_type": "code",
   "execution_count": 47,
   "metadata": {},
   "outputs": [
    {
     "data": {
      "text/plain": [
       "array([1, 1, 1, 1, 1, 1, 1, 1])"
      ]
     },
     "execution_count": 47,
     "metadata": {},
     "output_type": "execute_result"
    }
   ],
   "source": [
    "import numpy as np\n",
    "np.ones(8, dtype=int)"
   ]
  },
  {
   "cell_type": "code",
   "execution_count": 48,
   "metadata": {},
   "outputs": [
    {
     "data": {
      "text/plain": [
       "array([1, 1, 1, 1, 1])"
      ]
     },
     "execution_count": 48,
     "metadata": {},
     "output_type": "execute_result"
    }
   ],
   "source": [
    "import numpy as np\n",
    "np.ones(5, dtype=int)"
   ]
  },
  {
   "cell_type": "markdown",
   "metadata": {},
   "source": [
    "### 3.2.6 zeros(shape[, dtype, order])\n",
    "\n",
    "Returns a new array of given shape and type, filled with zeros.\n",
    "\n",
    "### <font color=red> **Run the following code block:** </font>"
   ]
  },
  {
   "cell_type": "code",
   "execution_count": 49,
   "metadata": {},
   "outputs": [
    {
     "data": {
      "text/plain": [
       "array([0., 0., 0., 0., 0., 0., 0., 0.])"
      ]
     },
     "execution_count": 49,
     "metadata": {},
     "output_type": "execute_result"
    }
   ],
   "source": [
    "import numpy as np\n",
    "np.zeros(8)"
   ]
  },
  {
   "cell_type": "code",
   "execution_count": 50,
   "metadata": {},
   "outputs": [
    {
     "data": {
      "text/plain": [
       "array([0., 0., 0., 0., 0.])"
      ]
     },
     "execution_count": 50,
     "metadata": {},
     "output_type": "execute_result"
    }
   ],
   "source": [
    "import numpy as np\n",
    "np.zeros(5)"
   ]
  },
  {
   "cell_type": "markdown",
   "metadata": {},
   "source": [
    "### 3.2.7 full(shape, fill_value[, dtype, order])\n",
    "\n",
    "Returns a new array of given shape and type, filled with fill_value.\n",
    "\n",
    "### <font color=red> **Run the following 2 code blocks:** </font>"
   ]
  },
  {
   "cell_type": "code",
   "execution_count": 51,
   "metadata": {},
   "outputs": [
    {
     "data": {
      "text/plain": [
       "array([2, 2, 2, 2, 2, 2, 2, 2])"
      ]
     },
     "execution_count": 51,
     "metadata": {},
     "output_type": "execute_result"
    }
   ],
   "source": [
    "import numpy as np\n",
    "np.full(8, 2)"
   ]
  },
  {
   "cell_type": "code",
   "execution_count": 52,
   "metadata": {},
   "outputs": [
    {
     "data": {
      "text/plain": [
       "array([3, 3, 3, 3, 3])"
      ]
     },
     "execution_count": 52,
     "metadata": {},
     "output_type": "execute_result"
    }
   ],
   "source": [
    "import numpy as np\n",
    "np.full(5,3)"
   ]
  },
  {
   "cell_type": "code",
   "execution_count": 53,
   "metadata": {},
   "outputs": [
    {
     "data": {
      "text/plain": [
       "array(['Hello', 'Hello', 'Hello', 'Hello', 'Hello', 'Hello', 'Hello',\n",
       "       'Hello'], dtype='<U5')"
      ]
     },
     "execution_count": 53,
     "metadata": {},
     "output_type": "execute_result"
    }
   ],
   "source": [
    "import numpy as np\n",
    "np.full(8, \"Hello\")"
   ]
  },
  {
   "cell_type": "code",
   "execution_count": 54,
   "metadata": {},
   "outputs": [
    {
     "data": {
      "text/plain": [
       "array(['Who?', 'Who?', 'Who?'], dtype='<U4')"
      ]
     },
     "execution_count": 54,
     "metadata": {},
     "output_type": "execute_result"
    }
   ],
   "source": [
    "import numpy as np\n",
    "np.full(3, \"Who?\")"
   ]
  },
  {
   "cell_type": "markdown",
   "metadata": {},
   "source": [
    "### 3.2.8 arange([start, ]stop, [step, ]dtype=None)\n",
    "\n",
    "Returns evenly spaced values within a given interval.\n",
    "\n",
    "Values are generated within the half-open interval [start, stop) (in other words, the interval including start but excluding stop). For integer arguments the function is equivalent to the Python built-in range function, but returns an ndarray rather than a list.\n",
    "When using a non-integer step, such as 0.1, the results will often not be consistent. It is better to use linspace for these cases.\n",
    "\n",
    "**Parameters:**\n",
    "\n",
    "**start:** number, optional &rarr; Start of interval. The interval includes this value. The default start value is 0.\n",
    "\n",
    "**stop:** number &rarr; End of interval. The interval does **not include** this value (except in some cases where step is not an integer and floating point round-off affects the length of out).\n",
    "\n",
    "**step:** number, optional &rarr; Spacing between values. \n",
    " - For any output out, this is the distance between two adjacent values, out[i+1] - out[i].\n",
    " - The default step size is 1. If step is specified, start must also be given.\n",
    "\n",
    "**dtype:** dtype &rarr; The type of the output array. \n",
    " - If dtype is not given, infer the data type from the other input arguments.\n",
    "\n",
    "**Returns:**\n",
    "\n",
    "**arange:** ndarray &rarr; Array of evenly spaced values.\n",
    "\n",
    " - For floating point arguments, the length of the result is ceil((stop - start)/step).\n",
    " - Because of floating point overflow, this rule may result in the last element of out being greater than stop.\n",
    "\n",
    "### <font color=red> **Run the following 3 code blocks:** </font>"
   ]
  },
  {
   "cell_type": "code",
   "execution_count": 55,
   "metadata": {},
   "outputs": [
    {
     "data": {
      "text/plain": [
       "array([0, 1, 2, 3, 4, 5, 6, 7])"
      ]
     },
     "execution_count": 55,
     "metadata": {},
     "output_type": "execute_result"
    }
   ],
   "source": [
    "import numpy as np\n",
    "np.arange(8)"
   ]
  },
  {
   "cell_type": "code",
   "execution_count": 57,
   "metadata": {},
   "outputs": [
    {
     "data": {
      "text/plain": [
       "array([ 0,  1,  2,  3,  4,  5,  6,  7,  8,  9, 10, 11, 12, 13, 14])"
      ]
     },
     "execution_count": 57,
     "metadata": {},
     "output_type": "execute_result"
    }
   ],
   "source": [
    "import numpy as np\n",
    "np.arange(15)"
   ]
  },
  {
   "cell_type": "code",
   "execution_count": 58,
   "metadata": {},
   "outputs": [
    {
     "data": {
      "text/plain": [
       "array([3, 4, 5, 6, 7])"
      ]
     },
     "execution_count": 58,
     "metadata": {},
     "output_type": "execute_result"
    }
   ],
   "source": [
    "import numpy as np\n",
    "np.arange(3, 8)"
   ]
  },
  {
   "cell_type": "code",
   "execution_count": 60,
   "metadata": {},
   "outputs": [
    {
     "data": {
      "text/plain": [
       "array([ 5,  6,  7,  8,  9, 10, 11, 12])"
      ]
     },
     "execution_count": 60,
     "metadata": {},
     "output_type": "execute_result"
    }
   ],
   "source": [
    "import numpy as np\n",
    "np.arange(5, 13)"
   ]
  },
  {
   "cell_type": "code",
   "execution_count": 61,
   "metadata": {},
   "outputs": [
    {
     "data": {
      "text/plain": [
       "array([ 3,  5,  7,  9, 11, 13, 15, 17])"
      ]
     },
     "execution_count": 61,
     "metadata": {},
     "output_type": "execute_result"
    }
   ],
   "source": [
    "import numpy as np\n",
    "np.arange(3, 19, 2)"
   ]
  },
  {
   "cell_type": "code",
   "execution_count": 62,
   "metadata": {},
   "outputs": [
    {
     "data": {
      "text/plain": [
       "array([ 5, 10, 15, 20, 25, 30, 35, 40, 45])"
      ]
     },
     "execution_count": 62,
     "metadata": {},
     "output_type": "execute_result"
    }
   ],
   "source": [
    "import numpy as np\n",
    "np.arange(5, 50, 5)"
   ]
  },
  {
   "cell_type": "markdown",
   "metadata": {},
   "source": [
    "### 3.2.9 linspace(start, stop, num=50, endpoint=True, retstep=False, dtype=None)\n",
    "\n",
    "Returns **evenly spaced** numbers over a specified interval.\n",
    "\n",
    "Returns **num evenly spaced samples**, calculated over the interval [start, stop].\n",
    "\n",
    "The endpoint of the interval can optionally be excluded.\n",
    "\n",
    "**Parameters:**\n",
    "\n",
    "**start:** scalar &rarr; The starting value of the sequence.\n",
    "\n",
    "**stop:** scalar &rarr; The end value of the sequence, unless the endpoint is set to False.\n",
    " - In that case, the sequence consists of all but the last of num + 1 evenly spaced samples, so that stop is excluded. **Note:** the step size changes when endpoint is False.\n",
    "\n",
    "**num:** int, optional &rarr; Number of samples to generate. Default is 50. Must be non-negative.\n",
    "\n",
    "**endpoint:** bool, optional\n",
    " - If True, stop is the last sample. \n",
    "  - Otherwise, it is not included. Default is True.\n",
    "\n",
    "**Retstep:** bool, optional\n",
    " - If True, return (samples, step), where step is the spacing between samples.\n",
    "\n",
    "**dtype:** dtype, optional &rarr; The type of the output array.\n",
    " - If dtype is not given, infers the data type from the other input arguments.\n",
    "\n",
    "**Returns:**\n",
    "samples : ndarray \n",
    " - There are num equally spaced samples in the closed interval [start, stop] or the half-open interval [start, stop) (depending on whether endpoint is True or False)\n",
    "\n",
    "**step:** float, optional\n",
    " - Only returned if retstep is True\n",
    " - Size of spacing between samples.\n",
    " \n",
    " ### <font color=red> **Run the following 4 code blocks:** </font>"
   ]
  },
  {
   "cell_type": "code",
   "execution_count": 63,
   "metadata": {},
   "outputs": [
    {
     "data": {
      "text/plain": [
       "array([2.  , 2.25, 2.5 , 2.75, 3.  ])"
      ]
     },
     "execution_count": 63,
     "metadata": {},
     "output_type": "execute_result"
    }
   ],
   "source": [
    "import numpy as np\n",
    "np.linspace(2.0, 3.0, num=5)"
   ]
  },
  {
   "cell_type": "code",
   "execution_count": 71,
   "metadata": {},
   "outputs": [
    {
     "data": {
      "text/plain": [
       "array([ 5.        ,  9.09090909, 13.18181818, 17.27272727, 21.36363636,\n",
       "       25.45454545, 29.54545455, 33.63636364, 37.72727273, 41.81818182,\n",
       "       45.90909091, 50.        ])"
      ]
     },
     "execution_count": 71,
     "metadata": {},
     "output_type": "execute_result"
    }
   ],
   "source": [
    "import numpy as np\n",
    "np.linspace(5.0, 50, num=12)"
   ]
  },
  {
   "cell_type": "code",
   "execution_count": 66,
   "metadata": {},
   "outputs": [
    {
     "data": {
      "text/plain": [
       "array([2. , 2.2, 2.4, 2.6, 2.8])"
      ]
     },
     "execution_count": 66,
     "metadata": {},
     "output_type": "execute_result"
    }
   ],
   "source": [
    "import numpy as np\n",
    "np.linspace(2.0, 3.0, num=5 , endpoint=False)"
   ]
  },
  {
   "cell_type": "code",
   "execution_count": 69,
   "metadata": {},
   "outputs": [
    {
     "data": {
      "text/plain": [
       "array([1.  , 3.25, 5.5 , 7.75])"
      ]
     },
     "execution_count": 69,
     "metadata": {},
     "output_type": "execute_result"
    }
   ],
   "source": [
    "import numpy as np\n",
    "np.linspace(1.0, 10.0, num=4, endpoint=False)"
   ]
  },
  {
   "cell_type": "code",
   "execution_count": 72,
   "metadata": {},
   "outputs": [
    {
     "data": {
      "text/plain": [
       "(array([2.  , 2.25, 2.5 , 2.75, 3.  ]), 0.25)"
      ]
     },
     "execution_count": 72,
     "metadata": {},
     "output_type": "execute_result"
    }
   ],
   "source": [
    "import numpy as np\n",
    "np.linspace(2.0, 3.0, num=5, retstep=True)"
   ]
  },
  {
   "cell_type": "code",
   "execution_count": 73,
   "metadata": {},
   "outputs": [
    {
     "data": {
      "text/plain": [
       "(array([ 3. ,  5.4,  7.8, 10.2, 12.6, 15. ]), 2.4)"
      ]
     },
     "execution_count": 73,
     "metadata": {},
     "output_type": "execute_result"
    }
   ],
   "source": [
    "import numpy as np\n",
    "np.linspace(3.0, 15.0, num=6, retstep = True)"
   ]
  },
  {
   "cell_type": "code",
   "execution_count": 74,
   "metadata": {},
   "outputs": [
    {
     "data": {
      "image/png": "[encoded data removed]",
      "text/plain": [
       "<Figure size 640x480 with 1 Axes>"
      ]
     },
     "metadata": {},
     "output_type": "display_data"
    }
   ],
   "source": [
    "import numpy as np\n",
    "import matplotlib.pyplot as plt\n",
    "N = 8\n",
    "y = np.zeros(N)\n",
    "xl = np.linspace(0, 10, N, endpoint=True)\n",
    "x2 = np.linspace(0, 10, N, endpoint=False)\n",
    "plt.plot(xl, y, 'o') # [<matplotlib.lines.Line2D object at 0x… >]\n",
    "plt.plot(x2, y + 0.5, 'o') #[<matplotlib.lines.Line2D object at 0x… >]\n",
    "plt.ylim([-0.5, 1])\n",
    "(-0.5, 1)\n",
    "plt.show()"
   ]
  },
  {
   "cell_type": "code",
   "execution_count": 76,
   "metadata": {},
   "outputs": [
    {
     "data": {
      "image/png": "[encoded data removed]",
      "text/plain": [
       "<Figure size 640x480 with 1 Axes>"
      ]
     },
     "metadata": {},
     "output_type": "display_data"
    }
   ],
   "source": [
    "import numpy as np\n",
    "import matplotlib.pyplot as plt\n",
    "N = 15\n",
    "y = np.zeros(N)\n",
    "xl = np.linspace(0, 15, N, endpoint=True)\n",
    "x2 = np.linspace(0, 15, N, endpoint=False)\n",
    "plt.plot(xl, y, 'o') \n",
    "plt.plot(x2, y + 2.5, 'o') \n",
    "plt.ylim([-1.5, 3])\n",
    "(3.5, 6)\n",
    "plt.show()"
   ]
  },
  {
   "cell_type": "markdown",
   "metadata": {},
   "source": [
    "### 3.3 NumPy Arrays: Creation: from Existing Data\n",
    "\n",
    "### 3.3.1 array(object, dtype=None, copy=True, order='K', subok=False, ndmin=O)\n",
    "\n",
    "Create an array from existing data\n",
    "\n",
    "**Parameters:**\n",
    "\n",
    "**object:** array_like &rarr; An array, any object exposing the array interface, an object whose array method returns an array, or any (nested) sequence.\n",
    "\n",
    "**dtype:** data-type, optional &rarr; The desired data-type for the array. \n",
    " - If not given, then the type will be determined as the minimum type required to hold the objects in the sequence.\n",
    " - This argument can only be used to 'upcast' the array. For downcasting, use the .astype(t) method.\n",
    "\n",
    "**copy:** bool, optional\n",
    " - If true (default), then the object is copied.\n",
    " - Otherwise, a copy will only be made if **array** returns a copy, if obj is a nested sequence, or if a copy is needed to satisfy any of the other requirements (dtype, order, etc.).\n",
    "\n",
    "**order:** {'K', 'A', 'C', 'F'}, optional\n",
    " - Specify the memory layout of the array. If object is not an array, the newly created array will be in C order (row major) unless 'F' is specified, in which case it will be in Fortran order (column major). \n",
    " - If object is an array the following holds.\n",
    "\n",
    "**Order:** **no copy copy** = True\n",
    "\n",
    "**K**' unchanged F & C order preserved, otherwise most similar order\n",
    "\n",
    "**A**' unchanged F order if input is F and not C, otherwise Corder\n",
    "\n",
    "**C**' C order C order\n",
    "\n",
    "**F**' F order F order\n",
    "\n",
    "When copy=False and a copy is made for other reasons, the result is the same as if copy=True, with some exceptions for A, see the Notes section.\n",
    "\n",
    "The default order is 'K'.\n",
    "\n",
    "**subok**: bool, optional\n",
    " - If True, then sub-classes will be passed-through, \n",
    "  - otherwise the returned array will be forced to be a base-class array (default).\n",
    "\n",
    "**ndmin:** int, optional\n",
    " - Specifies the minimum number of dimensions that the resulting array should have.\n",
    " - Ones will be pre-pended to the shape as needed to meet this requirement.\n",
    "\n",
    "**Returns:**\n",
    "\n",
    "**out:** ndarray\n",
    "\n",
    "An array object satisfying the specified requirements.\n",
    "\n",
    "### <font color=red> **Run the following 3 code blocks:** </font>"
   ]
  },
  {
   "cell_type": "code",
   "execution_count": 77,
   "metadata": {},
   "outputs": [
    {
     "data": {
      "text/plain": [
       "array([1, 2, 3])"
      ]
     },
     "execution_count": 77,
     "metadata": {},
     "output_type": "execute_result"
    }
   ],
   "source": [
    "import numpy as np\n",
    "np.array([1, 2, 3])"
   ]
  },
  {
   "cell_type": "code",
   "execution_count": 78,
   "metadata": {},
   "outputs": [
    {
     "data": {
      "text/plain": [
       "array([12, 23, 34, 45])"
      ]
     },
     "execution_count": 78,
     "metadata": {},
     "output_type": "execute_result"
    }
   ],
   "source": [
    "import numpy as np\n",
    "np.array([12,23,34,45])"
   ]
  },
  {
   "cell_type": "code",
   "execution_count": 79,
   "metadata": {},
   "outputs": [
    {
     "data": {
      "text/plain": [
       "array([[1, 2],\n",
       "       [3, 4]])"
      ]
     },
     "execution_count": 79,
     "metadata": {},
     "output_type": "execute_result"
    }
   ],
   "source": [
    "import numpy as np\n",
    "np.array([[1, 2], [3, 4]])"
   ]
  },
  {
   "cell_type": "code",
   "execution_count": 80,
   "metadata": {},
   "outputs": [
    {
     "data": {
      "text/plain": [
       "array([[56, 67],\n",
       "       [78, 89]])"
      ]
     },
     "execution_count": 80,
     "metadata": {},
     "output_type": "execute_result"
    }
   ],
   "source": [
    "import numpy as np\n",
    "np.array([[56,67,],[78,89]])"
   ]
  },
  {
   "cell_type": "code",
   "execution_count": 81,
   "metadata": {},
   "outputs": [
    {
     "data": {
      "text/plain": [
       "array([[1, 2, 3, 4, 5]])"
      ]
     },
     "execution_count": 81,
     "metadata": {},
     "output_type": "execute_result"
    }
   ],
   "source": [
    "np.array([1, 2, 3, 4, 5], ndmin=2)"
   ]
  },
  {
   "cell_type": "code",
   "execution_count": 82,
   "metadata": {},
   "outputs": [
    {
     "data": {
      "text/plain": [
       "array([5, 4, 3, 2, 1])"
      ]
     },
     "execution_count": 82,
     "metadata": {},
     "output_type": "execute_result"
    }
   ],
   "source": [
    "np.array([5,4,3,2,1], ndmin=1)"
   ]
  },
  {
   "cell_type": "markdown",
   "metadata": {},
   "source": [
    "### 3.3.2 asarray(a, dtype=None, order=None)\n",
    "\n",
    "Convert the input a into an array\n",
    "\n",
    "**Parameters:**\n",
    "\n",
    "**a:** array_like &rarr; Input data, in any form that can be converted to an array.\n",
    " - (This includes lists, lists of tuples, tuples, tuples of tuples, tuples of lists and ndarrays.)\n",
    "\n",
    "**dtype:** data-type, optional&rarr; By default, the data-type is inferred from the input data.\n",
    "\n",
    "**order:** {'C', 'F'}, optional\n",
    " - Whether to use row-major (C-style) or column-major (Fortran-style) memory representation. Defaults to 'C'.\n",
    "\n",
    "**Returns:**\n",
    "\n",
    "**out:** ndarray\n",
    "\n",
    "Array interpretation of a. \n",
    "No copy is performed if the input is already an ndarray with matching dtype and order.\n",
    "If a is a subclass of ndarray, a base class ndarray is returned.\n",
    "\n",
    "### <font color=red> **Run the following code block:** </font>"
   ]
  },
  {
   "cell_type": "code",
   "execution_count": 83,
   "metadata": {},
   "outputs": [
    {
     "name": "stdout",
     "output_type": "stream",
     "text": [
      "[1 2 3 4 5]\n",
      "[1 2 3 4 5]\n"
     ]
    }
   ],
   "source": [
    "import numpy as np\n",
    "a = [1, 2, 3, 4, 5]\n",
    "b = np.asarray([1, 2, 3, 4, 5])\n",
    "print (b)\n",
    "c = np.asarray(a)\n",
    "print (c)"
   ]
  },
  {
   "cell_type": "code",
   "execution_count": 84,
   "metadata": {},
   "outputs": [
    {
     "name": "stdout",
     "output_type": "stream",
     "text": [
      "[10  9  8  7  6]\n",
      "[10  9  8  7  6]\n"
     ]
    }
   ],
   "source": [
    "import numpy as np\n",
    "x = [10, 9, 8, 7, 6]\n",
    "y = np.asarray([10, 9, 8, 7, 6])\n",
    "print(y)\n",
    "z = np.asarray(x)\n",
    "print(z)"
   ]
  },
  {
   "cell_type": "markdown",
   "metadata": {},
   "source": [
    "### 3.3.3 fromstring(string, dtype=float, count=-1, sep=\")\n",
    "\n",
    "A new 1-D array initialized from raw binary or text data in a string.\n",
    "\n",
    "**Parameters:**\n",
    "\n",
    "**string:** sir &rarr; A string containing the data.\n",
    "\n",
    "**dtype:** data-type, optional &rarr; The data type of the array; default: float.\n",
    " - For binary input data, the data must be in exactly this format.\n",
    " \n",
    "**count:** int, optional &rarr; Read this number of dtype elements from the data. \n",
    " - If this is negative (the default), the count will be determined from the length of the data.)\n",
    " \n",
    "**sep:** str, optional  \n",
    " - If not provided or, equivalently, the empty string, the data will be interpreted as binary data. \n",
    " - Otherwise, as ASCII text with decimal numbers.\n",
    " - Also in this latter case, this argument is interpreted as the string separating numbers in the data; extra whitespace between elements is also ignored.\n",
    "\n",
    "**Returns:**\n",
    "**arr:** ndarray\n",
    "\n",
    "### <font color=red> **Run the following 2 code blocks:** </font>"
   ]
  },
  {
   "cell_type": "code",
   "execution_count": 102,
   "metadata": {},
   "outputs": [
    {
     "name": "stderr",
     "output_type": "stream",
     "text": [
      "C:\\Users\\deaun\\AppData\\Local\\Temp\\ipykernel_26168\\830202303.py:3: DeprecationWarning: The binary mode of fromstring is deprecated, as it behaves surprisingly on unicode inputs. Use frombuffer instead\n",
      "  np.fromstring(aStr, dtype=np.uint8)\n"
     ]
    },
    {
     "data": {
      "text/plain": [
       "array([ 84, 104, 105, 115,  32, 105, 115,  32,  97,  32, 115, 101, 110,\n",
       "       116, 101, 110,  99, 101,  46], dtype=uint8)"
      ]
     },
     "execution_count": 102,
     "metadata": {},
     "output_type": "execute_result"
    }
   ],
   "source": [
    "import numpy as np\n",
    "aStr = \"This is a sentence.\"\n",
    "np.fromstring(aStr, dtype=np.uint8)\n"
   ]
  },
  {
   "cell_type": "code",
   "execution_count": 94,
   "metadata": {},
   "outputs": [
    {
     "name": "stderr",
     "output_type": "stream",
     "text": [
      "C:\\Users\\deaun\\AppData\\Local\\Temp\\ipykernel_26168\\1057859692.py:3: DeprecationWarning: The binary mode of fromstring is deprecated, as it behaves surprisingly on unicode inputs. Use frombuffer instead\n",
      "  np.fromstring(stringster, dtype=np.uint8)\n"
     ]
    },
    {
     "data": {
      "text/plain": [
       "array([ 73, 115,  32, 116, 104, 105, 115,  32, 114, 101,  97, 108, 108,\n",
       "       121,  32,  97,  32, 115, 101, 110, 116, 101, 110,  99, 101,  63],\n",
       "      dtype=uint8)"
      ]
     },
     "execution_count": 94,
     "metadata": {},
     "output_type": "execute_result"
    }
   ],
   "source": [
    "import numpy as np\n",
    "stringster = 'Is this really a sentence?'\n",
    "np.fromstring(stringster, dtype=np.uint8)"
   ]
  },
  {
   "cell_type": "code",
   "execution_count": 95,
   "metadata": {},
   "outputs": [
    {
     "name": "stdout",
     "output_type": "stream",
     "text": [
      "[ 84 104 105 115  32 105 115  32  97  32 115 101 110 116 101 110  99 101\n",
      "  46]\n"
     ]
    },
    {
     "name": "stderr",
     "output_type": "stream",
     "text": [
      "C:\\Users\\deaun\\AppData\\Local\\Temp\\ipykernel_26168\\2038893667.py:3: DeprecationWarning: The binary mode of fromstring is deprecated, as it behaves surprisingly on unicode inputs. Use frombuffer instead\n",
      "  anArray = np.fromstring(aStr, dtype=np.uint8)\n"
     ]
    }
   ],
   "source": [
    "import numpy as np\n",
    "aStr = \"This is a sentence.\"\n",
    "anArray = np.fromstring(aStr, dtype=np.uint8)\n",
    "print(anArray)"
   ]
  },
  {
   "cell_type": "code",
   "execution_count": 97,
   "metadata": {},
   "outputs": [
    {
     "name": "stderr",
     "output_type": "stream",
     "text": [
      "C:\\Users\\deaun\\AppData\\Local\\Temp\\ipykernel_26168\\400706221.py:3: DeprecationWarning: The binary mode of fromstring is deprecated, as it behaves surprisingly on unicode inputs. Use frombuffer instead\n",
      "  np.fromstring(reString, dtype=np.uint8)\n"
     ]
    },
    {
     "data": {
      "text/plain": [
       "array([ 73,  32, 103, 117, 101, 115, 115,  32, 105, 116,  32, 105, 115,\n",
       "        32,  97,  32, 115, 116, 114, 105, 110, 103,  46], dtype=uint8)"
      ]
     },
     "execution_count": 97,
     "metadata": {},
     "output_type": "execute_result"
    }
   ],
   "source": [
    "import numpy as np\n",
    "reString = 'I guess it is a string.'\n",
    "np.fromstring(reString, dtype=np.uint8)"
   ]
  },
  {
   "cell_type": "markdown",
   "metadata": {},
   "source": [
    "### 3.3.4 diag(v, k=0)\n",
    "\n",
    "**Extract a diagonal or construct a diagonal array.**\n",
    "\n",
    "See the more detailed documentation for numpy.diagonal if you use this function to extract a diagonal and wish to write to the resulting array; whether it returns a copy or a view depends on what version of numpy you are using.\n",
    "\n",
    "**Parameters:**\n",
    "\n",
    "**v:** array_like\n",
    " - If v is a 2-D array, returns a copy of its k-th diagonal.\n",
    " - If v is a 1-D array, return a 2-D array with v on the k-th diagonal.\n",
    "\n",
    "**k:** int, optional\n",
    " - Diagonal in question. The default is 0. \n",
    " - Use k>0 for diagonals above the main diagonal.\n",
    " - k<0 for diagonals below the main diagonal.\n",
    "\n",
    "**Returns:**\n",
    "\n",
    "**out:** ndarray\n",
    "\n",
    "The extracted diagonal or constructed diagonal array.\n",
    "\n",
    "### <font color=red> **Run the following 4 code blocks:** </font>"
   ]
  },
  {
   "cell_type": "code",
   "execution_count": 103,
   "metadata": {},
   "outputs": [
    {
     "name": "stdout",
     "output_type": "stream",
     "text": [
      "[[0 1 2]\n",
      " [3 4 5]\n",
      " [6 7 8]]\n"
     ]
    }
   ],
   "source": [
    "import numpy as np\n",
    "x = np.arange(9).reshape((3, 3))\n",
    "print(x)"
   ]
  },
  {
   "cell_type": "code",
   "execution_count": 107,
   "metadata": {},
   "outputs": [
    {
     "name": "stdout",
     "output_type": "stream",
     "text": [
      "[[ 0  1  2  3]\n",
      " [ 4  5  6  7]\n",
      " [ 8  9 10 11]\n",
      " [12 13 14 15]]\n"
     ]
    }
   ],
   "source": [
    "import numpy as np\n",
    "a = np.arange(16).reshape((4, 4))\n",
    "print(a)"
   ]
  },
  {
   "cell_type": "code",
   "execution_count": 105,
   "metadata": {},
   "outputs": [
    {
     "data": {
      "text/plain": [
       "array([[0, 1, 2],\n",
       "       [3, 4, 5],\n",
       "       [6, 7, 8]])"
      ]
     },
     "execution_count": 105,
     "metadata": {},
     "output_type": "execute_result"
    }
   ],
   "source": [
    "import numpy as np\n",
    "x = np.arange(9).reshape((3,3))\n",
    "x"
   ]
  },
  {
   "cell_type": "code",
   "execution_count": 108,
   "metadata": {},
   "outputs": [
    {
     "data": {
      "text/plain": [
       "array([[ 0,  1,  2,  3,  4],\n",
       "       [ 5,  6,  7,  8,  9],\n",
       "       [10, 11, 12, 13, 14],\n",
       "       [15, 16, 17, 18, 19],\n",
       "       [20, 21, 22, 23, 24]])"
      ]
     },
     "execution_count": 108,
     "metadata": {},
     "output_type": "execute_result"
    }
   ],
   "source": [
    "import numpy as np\n",
    "b = np.arange(25).reshape((5,5))\n",
    "b"
   ]
  },
  {
   "cell_type": "code",
   "execution_count": 111,
   "metadata": {},
   "outputs": [
    {
     "data": {
      "text/plain": [
       "array([0, 4, 8])"
      ]
     },
     "execution_count": 111,
     "metadata": {},
     "output_type": "execute_result"
    }
   ],
   "source": [
    "import numpy as np\n",
    "x = np.arange(9).reshape((3,3))\n",
    "np.diag(x)"
   ]
  },
  {
   "cell_type": "code",
   "execution_count": 112,
   "metadata": {},
   "outputs": [
    {
     "data": {
      "text/plain": [
       "array([ 0,  5, 10, 15])"
      ]
     },
     "execution_count": 112,
     "metadata": {},
     "output_type": "execute_result"
    }
   ],
   "source": [
    "import numpy as np\n",
    "z = np.arange(16).reshape((4,4))\n",
    "np.diag(z)"
   ]
  },
  {
   "cell_type": "code",
   "execution_count": 113,
   "metadata": {},
   "outputs": [
    {
     "data": {
      "text/plain": [
       "array([1, 5])"
      ]
     },
     "execution_count": 113,
     "metadata": {},
     "output_type": "execute_result"
    }
   ],
   "source": [
    "import numpy as np\n",
    "x = np.arange(9).reshape((3,3))\n",
    "np.diag(x, k = 1)"
   ]
  },
  {
   "cell_type": "code",
   "execution_count": 117,
   "metadata": {},
   "outputs": [
    {
     "data": {
      "text/plain": [
       "array([ 2,  8, 14])"
      ]
     },
     "execution_count": 117,
     "metadata": {},
     "output_type": "execute_result"
    }
   ],
   "source": [
    "import numpy as np\n",
    "last = np.arange(25).reshape((5,5))\n",
    "np.diag(last, k = 2)"
   ]
  },
  {
   "cell_type": "markdown",
   "metadata": {},
   "source": [
    "<hr style=\"border:5px solid green\"> </hr>"
   ]
  },
  {
   "cell_type": "markdown",
   "metadata": {},
   "source": [
    "## 4. Creation of NumPy Arrays: Simple Methods\n",
    "\n",
    "### 4.1. 1-D Arrays\n",
    "\n",
    "### 4.1.1 Using ndarray.arange()\n",
    "\n",
    "### <font color=red> **Run the following code block:** </font>"
   ]
  },
  {
   "cell_type": "code",
   "execution_count": 118,
   "metadata": {},
   "outputs": [
    {
     "data": {
      "text/plain": [
       "array([0, 1, 2, 3, 4, 5, 6, 7])"
      ]
     },
     "execution_count": 118,
     "metadata": {},
     "output_type": "execute_result"
    }
   ],
   "source": [
    "import numpy as np\n",
    "np.arange(8)"
   ]
  },
  {
   "cell_type": "code",
   "execution_count": 119,
   "metadata": {},
   "outputs": [
    {
     "data": {
      "text/plain": [
       "array([ 0,  1,  2,  3,  4,  5,  6,  7,  8,  9, 10, 11, 12, 13, 14, 15, 16,\n",
       "       17, 18, 19])"
      ]
     },
     "execution_count": 119,
     "metadata": {},
     "output_type": "execute_result"
    }
   ],
   "source": [
    "import numpy as np\n",
    "np.arange(20)"
   ]
  },
  {
   "cell_type": "markdown",
   "metadata": {},
   "source": [
    "### 4.2  2-D Arrays\n",
    "\n",
    "### 4.2.1 Using ndarray.arange().reshape(a, b)\n",
    "\n",
    "### <font color=red> **Run the following 4 code blocks:** </font>"
   ]
  },
  {
   "cell_type": "code",
   "execution_count": 120,
   "metadata": {},
   "outputs": [
    {
     "data": {
      "text/plain": [
       "array([[ 0,  1,  2,  3],\n",
       "       [ 4,  5,  6,  7],\n",
       "       [ 8,  9, 10, 11]])"
      ]
     },
     "execution_count": 120,
     "metadata": {},
     "output_type": "execute_result"
    }
   ],
   "source": [
    "x = np.arange(12).reshape((3,4))\n",
    "x"
   ]
  },
  {
   "cell_type": "code",
   "execution_count": 121,
   "metadata": {},
   "outputs": [
    {
     "name": "stdout",
     "output_type": "stream",
     "text": [
      "[[ 0  1  2  3  4]\n",
      " [ 5  6  7  8  9]\n",
      " [10 11 12 13 14]\n",
      " [15 16 17 18 19]]\n"
     ]
    }
   ],
   "source": [
    "y = np.arange(20).reshape((4,5))\n",
    "print(y)"
   ]
  },
  {
   "cell_type": "markdown",
   "metadata": {},
   "source": [
    "<hr style=\"border:5px solid green\"> </hr>"
   ]
  },
  {
   "cell_type": "markdown",
   "metadata": {},
   "source": [
    "## 5. Numpy: Built-In Functions: Array Manipulation\n",
    "\n",
    "#### 5.1 Overview\n",
    "\n",
    "**reshape(a, newshape, order='C')**\n",
    "Gives a new shape to an array without changing its data.\n",
    "\n",
    "**flat()**\n",
    "A 1-D iterator over the array.\n",
    "\n",
    "**flatten(order='C')**\n",
    "Return a copy of the array collapsed into one dimension.\n",
    "\n",
    "**transpose(a, axes=None)**\n",
    "Permute the dimensions of an array.\n",
    "\n",
    "**concatenate((a1, a2, ... ), axis=0)**\n",
    "Join a sequence of arrays along an existing axis.\n",
    "\n",
    "**split(ary, indices_or_sections, axis=0)**\n",
    "Split an array into multiple sub-arrays.\n",
    "\n",
    "**delete(arr, obj, axis=None)**\n",
    "Returns a new array with sub-arrays along an axis deleted.\n",
    "For a one dimensional array, this returns those entries not returned by arr[obj].\n",
    "\n",
    "**insert(arr, obj, values, axis=None)**\n",
    "Insert values along the given axis before the given indices.\n",
    "\n",
    "**append(arr, values, axis=None)**\n",
    "Append values to the end of an array.\n",
    "\n",
    "**resize (a, new_shape)**\n",
    "Returns a new array with the specified shape.\n",
    "If the new array is larger than the original array, \n",
    " - then the new array is filled with repeated copies of a.\n",
    "**NOTE:** this behavior is different from a.resize(new_shape), \n",
    " - which fills with zeros instead of repeated copies of a.\n",
    "\n",
    "**trim_zeros(filt, trim='fb')**\n",
    "Trims the leading and/or trailing zeros from a 1-D array or sequence.\n",
    "\n",
    "**unique(ar, return_index=False, return_inverse=False, return_counts=False, axis=None)**\n",
    "Finds the unique elements of an array.\n",
    "Returns the sorted unique elements of an array.\n",
    "There are three optional outputs in addition to the unique elements:\n",
    " - the indices of the input array that give the unique values,\n",
    " - the indices of the unique array that reconstruct the input array,\n",
    " - the number of times each unique value comes up in the input array.\n",
    "\n",
    "**flip(m, axis)**\n",
    "Reverse the order of elements in an array along the given axis.\n",
    "The shape of the array is preserved, but the elements are reordered .\n",
    "\n",
    "**fliplr(m)**\n",
    "Flips array in the left/right direction.\n",
    "Flips the entries in each row in the left/right direction.\n",
    "Columns are preserved but appear in a different order than before.\n",
    "\n",
    "**flipud (m)**\n",
    "Flips array in the up/down direction.\n",
    "Flips the entries in each column in the up/down direction.\n",
    "Rows are preserved, but appear in a different order than before.\n",
    "\n",
    "**tile(A, reps)**\n",
    "Construct an array by repeating A the number of times given by reps.\n",
    "If reps has length d, the result will have dimension of max(d, A.ndim).\n",
    "\n",
    "**repeat(a, repeats, axis=None)**\n",
    "\n",
    "Repeats elements of an array\n"
   ]
  },
  {
   "cell_type": "markdown",
   "metadata": {},
   "source": [
    "<hr style=\"border:5px solid green\"> </hr>"
   ]
  }
 ],
 "metadata": {
  "kernelspec": {
   "display_name": "Python 3 (ipykernel)",
   "language": "python",
   "name": "python3"
  },
  "language_info": {
   "codemirror_mode": {
    "name": "ipython",
    "version": 3
   },
   "file_extension": ".py",
   "mimetype": "text/x-python",
   "name": "python",
   "nbconvert_exporter": "python",
   "pygments_lexer": "ipython3",
   "version": "3.11.5"
  }
 },
 "nbformat": 4,
 "nbformat_minor": 4
}
