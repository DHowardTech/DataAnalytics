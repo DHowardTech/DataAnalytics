{
 "cells": [
  {
   "cell_type": "markdown",
   "metadata": {},
   "source": [
    "# <center><font color=green>Python Data Structures:  Series </font> </center>  \n",
    "# <center><font color=green>Programming for Data Science with Python </font> </center>\n",
    "\n",
    "## Overview\n",
    "**Series** is a **one-dimensional labeled NumPy array**\n",
    " - capable of holding any data type (integers, strings, floating point numbers, Python objects, etc.)\n",
    "  - The axis labels are collectively referred to as the index.\n",
    "   - All of the values have the same data type, similar to Numpy ndarrays\n",
    "   \n",
    "   The basic method to create a series is to call:\n",
    "   **s = pandas.Series(data, index=index)\n",
    "   \n",
    "   Here \"data\" can de a ndarray, or a dictionary, or a scalar value, etc.\n",
    "   \n",
    "## 1.  Create Series\n",
    "   \n",
    "### 1.1 Series Constructor\n",
    "   \n",
    "A pandas Series can be created with the following constructor:\n",
    "**pandas.Series(data, Index, dtype, copy)**\n",
    "   \n",
    "**data:** constants, ndarray, list, dictionary, etc\n",
    "**index:** Index values must be unique and hashable, same length as data.\n",
    "     \n",
    "   - index:passed parameter is a list of axis label\n",
    "   - Default: np.arrange(n) if no index is passed.\n",
    "   \n",
    "**dtype:** dtype is for data type. If None, data type will be inferred.\n",
    "   - copy: Copy data. Default: False\n",
    "   \n",
    "### 1.2  Create empty series\n",
    "### <font color=red> **Run the following code block:** </font> "
   ]
  },
  {
   "cell_type": "code",
   "execution_count": 1,
   "metadata": {},
   "outputs": [
    {
     "name": "stdout",
     "output_type": "stream",
     "text": [
      "Series([], dtype: object)\n"
     ]
    }
   ],
   "source": [
    "# Create an empty series\n",
    "\n",
    "import pandas as pd\n",
    "s=pd.Series()\n",
    "print(s)"
   ]
  },
  {
   "cell_type": "code",
   "execution_count": 2,
   "metadata": {},
   "outputs": [
    {
     "name": "stdout",
     "output_type": "stream",
     "text": [
      "Series([], dtype: object)\n"
     ]
    }
   ],
   "source": [
    "import pandas as pd\n",
    "world_series = pd.Series()\n",
    "print(world_series)"
   ]
  },
  {
   "cell_type": "markdown",
   "metadata": {},
   "source": [
    "### 1.3 Create a series from an ndarray\n",
    "\n",
    "If data is an ndarray, then index passed must be of the same length.\n",
    " - If no index is passed, then by default index will be range(n)\n",
    " where n is array length, i.e., [0, 1, 2, 3 ... range (len(array))-1].\n",
    " \n",
    "### <font color=red> **Run the following 2 code blocks:** </font>  "
   ]
  },
  {
   "cell_type": "code",
   "execution_count": 3,
   "metadata": {},
   "outputs": [
    {
     "name": "stdout",
     "output_type": "stream",
     "text": [
      "0    a\n",
      "1    b\n",
      "2    c\n",
      "3    d\n",
      "dtype: object\n"
     ]
    }
   ],
   "source": [
    "# Example 1: Create a series from an ndarray\n",
    "import pandas as pd\n",
    "import numpy as np\n",
    "# Array is created from a list\n",
    "data = np.array(['a','b','c','d'])\n",
    "# A series is created from the array with the default index\n",
    "s = pd.Series(data)\n",
    "print(s)"
   ]
  },
  {
   "cell_type": "code",
   "execution_count": 7,
   "metadata": {},
   "outputs": [
    {
     "name": "stdout",
     "output_type": "stream",
     "text": [
      "0          Texas Rangers\n",
      "1         Houston Astros\n",
      "2         Atlanta Braves\n",
      "3    Los Angeles Dodgers\n",
      "dtype: object\n"
     ]
    }
   ],
   "source": [
    "import pandas as pd\n",
    "import numpy as np\n",
    "series_data = np.array(['Texas Rangers', 'Houston Astros', 'Atlanta Braves', 'Los Angeles Dodgers', ])\n",
    "world_series = pd.Series(series_data)\n",
    "print(world_series)"
   ]
  },
  {
   "cell_type": "code",
   "execution_count": 8,
   "metadata": {},
   "outputs": [
    {
     "name": "stdout",
     "output_type": "stream",
     "text": [
      "100    a\n",
      "101    b\n",
      "102    c\n",
      "103    d\n",
      "dtype: object\n"
     ]
    }
   ],
   "source": [
    "#Example 2: Create a series from an ndarray\n",
    "import pandas as pd\n",
    "import numpy as np\n",
    "#Array is created from a list\n",
    "data = np.array(['a','b','c','d'])\n",
    "# A sereis is created from the array with specific indices\n",
    "s = pd.Series(data, index=[100,101,102,103])\n",
    "print(s)"
   ]
  },
  {
   "cell_type": "code",
   "execution_count": 11,
   "metadata": {},
   "outputs": [
    {
     "name": "stdout",
     "output_type": "stream",
     "text": [
      "2023          Texas Rangers\n",
      "2022         Houston Astros\n",
      "2021         Atlanta Braves\n",
      "2020    Los Angeles Dodgers\n",
      "dtype: object\n"
     ]
    }
   ],
   "source": [
    "import pandas as pd\n",
    "import numpy as np\n",
    "series_data = np.array(['Texas Rangers', 'Houston Astros', 'Atlanta Braves', 'Los Angeles Dodgers', ])\n",
    "world_series = pd.Series(series_data, index=[2023, 2022, 2021, 2020])\n",
    "print(world_series)"
   ]
  },
  {
   "cell_type": "markdown",
   "metadata": {},
   "source": [
    "### 1.4 Create a series from a dictionary\n",
    "\n",
    "A dict can be passed as input.\n",
    " - If no index is specified, then the dictionary keys are taken in a sorted order to construct the index.\n",
    " - If index is passed, the values in data corresponding to the labels in the index will be pulled out.\n",
    "  \n",
    "### <font color=red> **Run the following 2 code blocks:** </font>  "
   ]
  },
  {
   "cell_type": "code",
   "execution_count": 12,
   "metadata": {},
   "outputs": [
    {
     "name": "stdout",
     "output_type": "stream",
     "text": [
      "a    0.0\n",
      "b    1.0\n",
      "c    2.0\n",
      "dtype: float64\n"
     ]
    }
   ],
   "source": [
    "# Create a series from a dictionary\n",
    "import pandas as pd\n",
    "import numpy as np\n",
    "\n",
    "# Declare a dicctionary with keys: 'a', 'b', 'c'\n",
    "aDict = {'a': 0., 'b' : 1., 'c' :2.}\n",
    "\n",
    "#Create a series from this dictionary\n",
    "s = pd.Series(aDict)\n",
    "print(s)"
   ]
  },
  {
   "cell_type": "code",
   "execution_count": 15,
   "metadata": {},
   "outputs": [
    {
     "name": "stdout",
     "output_type": "stream",
     "text": [
      "Season                    2023\n",
      "Winner           Texas Rangers\n",
      "Losers    Arizona Diamondbacks\n",
      "dtype: object\n"
     ]
    }
   ],
   "source": [
    "import pandas as pd\n",
    "import numpy as np\n",
    "\n",
    "series_Dict = {'Season': 2023, 'Winner': 'Texas Rangers', 'Losers': 'Arizona Diamondbacks'}\n",
    "world_series = pd.Series(series_Dict)\n",
    "print(world_series)"
   ]
  },
  {
   "cell_type": "code",
   "execution_count": 16,
   "metadata": {},
   "outputs": [
    {
     "name": "stdout",
     "output_type": "stream",
     "text": [
      "b    1.0\n",
      "c    2.0\n",
      "d    NaN\n",
      "a    0.0\n",
      "dtype: float64\n"
     ]
    }
   ],
   "source": [
    "# Create a series from a dictionary\n",
    "\n",
    "import pandas as pd\n",
    "import numpy as np\n",
    "\n",
    "# Declare a dicctionary with keys: 'a', 'b', 'c'\n",
    "data = {'a': 0., 'b' : 1., 'c' :2.}\n",
    "\n",
    "# Create a series from this dictionary with specific indices\n",
    "# The dict has only three items\n",
    "s = pd.Series(data, index=['b','c','d','a'])\n",
    "print(s)"
   ]
  },
  {
   "cell_type": "code",
   "execution_count": 17,
   "metadata": {},
   "outputs": [
    {
     "name": "stdout",
     "output_type": "stream",
     "text": [
      "Season                          2023\n",
      "Winner                 Texas Rangers\n",
      "Losers          Arizona Diamondbacks\n",
      "Series/Score                     NaN\n",
      "dtype: object\n"
     ]
    }
   ],
   "source": [
    "import pandas as pd\n",
    "import numpy as np\n",
    "\n",
    "series_Dict = {'Season': 2023, 'Winner': 'Texas Rangers', 'Losers': 'Arizona Diamondbacks'}\n",
    "world_series = pd.Series(series_Dict, index=['Season','Winner', 'Losers','Series/Score'])\n",
    "print(world_series)"
   ]
  },
  {
   "cell_type": "markdown",
   "metadata": {},
   "source": [
    "### 1.5 Create a sereis from scalar values\n",
    "\n",
    "If data is a **scalar** value, an **index must be provided**.\n",
    " - The value will be repeated to match the length of index.\n",
    " \n",
    " ### <font color=red> **Run the following code block:** </font> "
   ]
  },
  {
   "cell_type": "code",
   "execution_count": 18,
   "metadata": {},
   "outputs": [
    {
     "name": "stdout",
     "output_type": "stream",
     "text": [
      "0    5\n",
      "1    5\n",
      "2    5\n",
      "3    5\n",
      "dtype: int64\n"
     ]
    }
   ],
   "source": [
    "# Create a series from scalar values\n",
    "import pandas as pd\n",
    "import numpy as np\n",
    "# Create a series\n",
    "s = pd.Series(5, index=[0, 1, 2, 3])\n",
    "print(s)"
   ]
  },
  {
   "cell_type": "code",
   "execution_count": 22,
   "metadata": {},
   "outputs": [
    {
     "name": "stdout",
     "output_type": "stream",
     "text": [
      "0    10\n",
      "1    10\n",
      "2    10\n",
      "3    10\n",
      "dtype: int64\n"
     ]
    }
   ],
   "source": [
    "import pandas as pd\n",
    "import numpy as np\n",
    "\n",
    "world_series = pd.Series(10, index=[0,1,2,3])\n",
    "print(world_series)"
   ]
  },
  {
   "cell_type": "markdown",
   "metadata": {},
   "source": [
    "### 1.6 Accessing Data from Series with Position\n",
    "\n",
    "Data in the series can be accessed similar to that ndarray.\n",
    "\n",
    "### <font color=red> **Run the following code block:** </font> "
   ]
  },
  {
   "cell_type": "code",
   "execution_count": 23,
   "metadata": {},
   "outputs": [
    {
     "name": "stdout",
     "output_type": "stream",
     "text": [
      "1\n"
     ]
    }
   ],
   "source": [
    "import pandas as pd\n",
    "s = pd.Series([1,2,3,4,5], index = ['a','b','c','d','e'])\n",
    "\n",
    "#retrieve the first element\n",
    "print(s[0])                                                                       "
   ]
  },
  {
   "cell_type": "code",
   "execution_count": 32,
   "metadata": {},
   "outputs": [
    {
     "name": "stdout",
     "output_type": "stream",
     "text": [
      "2020\n"
     ]
    }
   ],
   "source": [
    "import pandas as pd\n",
    "world_series = pd.Series([2023,2022,2021,2020], index = ['Texas Rangers', 'Houston Astros', 'Atlanta Braves', 'Los Angeles Dodgers'])\n",
    "print(world_series[3])"
   ]
  },
  {
   "cell_type": "code",
   "execution_count": 33,
   "metadata": {},
   "outputs": [
    {
     "name": "stdout",
     "output_type": "stream",
     "text": [
      "a    1\n",
      "b    2\n",
      "c    3\n",
      "dtype: int64\n"
     ]
    }
   ],
   "source": [
    "import pandas as pd\n",
    "s = pd.Series([1,2,3,4,5],index = ['a','b','c','d','e'])\n",
    "\n",
    "# Retrieve the first 3 elements:  from 0 - 3, not including 3\n",
    "# i.e., retrieve 0,1,2\n",
    "print(s[:3])"
   ]
  },
  {
   "cell_type": "code",
   "execution_count": 34,
   "metadata": {},
   "outputs": [
    {
     "name": "stdout",
     "output_type": "stream",
     "text": [
      "Texas Rangers     2023\n",
      "Houston Astros    2022\n",
      "Atlanta Braves    2021\n",
      "dtype: int64\n"
     ]
    }
   ],
   "source": [
    "import pandas as pd\n",
    "world_series = pd.Series([2023,2022,2021,2020], index = ['Texas Rangers', 'Houston Astros', 'Atlanta Braves', 'Los Angeles Dodgers'])\n",
    "print(world_series[:3])"
   ]
  },
  {
   "cell_type": "code",
   "execution_count": 35,
   "metadata": {},
   "outputs": [
    {
     "name": "stdout",
     "output_type": "stream",
     "text": [
      "c    3\n",
      "d    4\n",
      "e    5\n",
      "dtype: int64\n"
     ]
    }
   ],
   "source": [
    "import pandas as pd\n",
    "s = pd.Series([1,2,3,4,5],index = ['a','b','c','d','e'])\n",
    "\n",
    "# Retrieve the last 3 elements:\n",
    "print(s[-3:])"
   ]
  },
  {
   "cell_type": "code",
   "execution_count": 36,
   "metadata": {},
   "outputs": [
    {
     "name": "stdout",
     "output_type": "stream",
     "text": [
      "Houston Astros         2022\n",
      "Atlanta Braves         2021\n",
      "Los Angeles Dodgers    2020\n",
      "dtype: int64\n"
     ]
    }
   ],
   "source": [
    "import pandas as pd\n",
    "world_series = pd.Series([2023,2022,2021,2020], index = ['Texas Rangers', 'Houston Astros', 'Atlanta Braves', 'Los Angeles Dodgers'])\n",
    "print(world_series[-3:])"
   ]
  },
  {
   "cell_type": "code",
   "execution_count": 37,
   "metadata": {},
   "outputs": [
    {
     "name": "stdout",
     "output_type": "stream",
     "text": [
      "1\n"
     ]
    }
   ],
   "source": [
    "import pandas as pd\n",
    "s = pd.Series([1,2,3,4,5],index = ['a','b','c','d','e'])\n",
    "\n",
    "# Retrieve a single element at a specific index\n",
    "print(s['a'])"
   ]
  },
  {
   "cell_type": "code",
   "execution_count": 38,
   "metadata": {},
   "outputs": [
    {
     "name": "stdout",
     "output_type": "stream",
     "text": [
      "2023\n"
     ]
    }
   ],
   "source": [
    "import pandas as pd\n",
    "world_series = pd.Series([2023,2022,2021,2020], index = ['Texas Rangers', 'Houston Astros', 'Atlanta Braves', 'Los Angeles Dodgers'])\n",
    "print(world_series['Texas Rangers'])"
   ]
  },
  {
   "cell_type": "code",
   "execution_count": 39,
   "metadata": {},
   "outputs": [
    {
     "name": "stdout",
     "output_type": "stream",
     "text": [
      "a    1\n",
      "c    3\n",
      "d    4\n",
      "dtype: int64\n"
     ]
    }
   ],
   "source": [
    "import pandas as pd\n",
    "s = pd.Series([1,2,3,4,5],index = ['a','b','c','d','e'])\n",
    "\n",
    "# Retrieve multiple elements using a list of index label values\n",
    "print(s[['a','c','d']])"
   ]
  },
  {
   "cell_type": "code",
   "execution_count": 40,
   "metadata": {},
   "outputs": [
    {
     "name": "stdout",
     "output_type": "stream",
     "text": [
      "Texas Rangers          2023\n",
      "Houston Astros         2022\n",
      "Los Angeles Dodgers    2020\n",
      "dtype: int64\n"
     ]
    }
   ],
   "source": [
    "import pandas as pd\n",
    "world_series = pd.Series([2023,2022,2021,2020], index = ['Texas Rangers', 'Houston Astros', 'Atlanta Braves', 'Los Angeles Dodgers'])\n",
    "print(world_series[['Texas Rangers', 'Houston Astros', 'Los Angeles Dodgers']])"
   ]
  },
  {
   "cell_type": "markdown",
   "metadata": {},
   "source": [
    "<hr style=\"border:5px solid green\"> </hr>"
   ]
  }
 ],
 "metadata": {
  "kernelspec": {
   "display_name": "Python 3 (ipykernel)",
   "language": "python",
   "name": "python3"
  },
  "language_info": {
   "codemirror_mode": {
    "name": "ipython",
    "version": 3
   },
   "file_extension": ".py",
   "mimetype": "text/x-python",
   "name": "python",
   "nbconvert_exporter": "python",
   "pygments_lexer": "ipython3",
   "version": "3.11.5"
  }
 },
 "nbformat": 4,
 "nbformat_minor": 4
}
