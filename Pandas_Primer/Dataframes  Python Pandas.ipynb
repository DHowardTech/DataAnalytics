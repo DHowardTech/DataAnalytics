{
 "cells": [
  {
   "cell_type": "markdown",
   "metadata": {},
   "source": [
    "# <center><font color=green>Python Pandas: Dataframes </font> </center>  \n",
    "# <center><font color=green>Programming for Data Science with Python </font> </center>\n",
    "\n",
    "\n",
    "\n",
    "## Overview\n",
    "\n",
    "### What is NDFrame?\n",
    "\n",
    "N-dimensional analogue of DataFrame. Store multi-dimensional in a size-mutable, labeled data structure.\n",
    "\n",
    "### What's a DataFrame?\n",
    "\n",
    "class DataFrame(NDFrame): **Two-dimensional** size-mutable, potentially heterogeneous tabular data structure with labeled axes (**rows and columns**). Arithmetic operations align on both row and column labels. Can be thought of as a **dict-like** container for **Series** objects.\n",
    "\n",
    " - DataFrame is a subclass (i.e., special case) of NDFrame.\n",
    " - In Pandas programs generally, DataFrame is used a lot and NDFrame is used rarely.\n",
    " - In fact, Pandas has Series for 1D, DataFrame for 2D, and for most people that's the end(even though half of Pandas' name is for Panel which Pandas also has, but most people do not use).\n",
    "\n",
    "**FUN FACT:** There is/was even a 4D thing in Pandas, (but truly no one uses it (this being the internet, someone will now appear to say they do!). \n",
    "\n",
    "For higher dimensions than two or maybe three, some people have shifted their efforts to **xarray**. \n",
    "\n",
    "That's probably where it's at if your ambitions cannot be contained in 2D.\n",
    "\n",
    "<hr style=\"border:5px solid green\"> </hr>\n",
    "\n",
    "\n",
    "### 1.1 Definition\n",
    "\n",
    "A Data frame is a two-dimensional data structure, i.e., data is aligned in a tabular fashion in rows and columns.\n",
    "\n",
    "\n",
    "\n",
    "<table style=\"border-collapse:collapse;border-color:#bbb;border-spacing:0;margin:0px auto\" class=\"tg\"><thead><tr><th style=\"background-color:#9DE0AD;border-color:inherit;border-style:solid;border-width:1px;color:#493F3F;font-family:Arial, sans-serif;font-size:14px;font-weight:normal;overflow:hidden;padding:10px 15px;text-align:left;vertical-align:top;word-break:normal\"></th><th style=\"background-color:#9DE0AD;border-color:inherit;border-style:solid;border-width:1px;color:#493F3F;font-family:Arial, sans-serif;font-size:22px;font-weight:normal;overflow:hidden;padding:10px 15px;text-align:center;vertical-align:top;word-break:normal\" colspan=\"6\"><span style=\"font-weight:bold\">Column Index (df.columns)</span></th></tr></thead><tbody><tr><td style=\"background-color:#C2FFD6;border-color:inherit;border-style:solid;border-width:1px;color:#594F4F;font-family:Arial, sans-serif;font-size:22px;overflow:hidden;padding:10px 15px;text-align:left;vertical-align:top;word-break:normal\"><span style=\"font-weight:bold\">Row of Index</span><br><span style=\"font-weight:bold\">(df. index)</span></td><td style=\"background-color:#C2FFD6;border-color:inherit;border-style:solid;border-width:1px;color:#594F4F;font-family:Arial, sans-serif;font-size:18px;overflow:hidden;padding:10px 15px;text-align:left;vertical-align:top;word-break:normal\">Series of data</td><td style=\"background-color:#C2FFD6;border-color:inherit;border-style:solid;border-width:1px;color:#594F4F;font-family:Arial, sans-serif;font-size:18px;overflow:hidden;padding:10px 15px;text-align:left;vertical-align:top;word-break:normal\">Series of data</td><td style=\"background-color:#C2FFD6;border-color:inherit;border-style:solid;border-width:1px;color:#594F4F;font-family:Arial, sans-serif;font-size:18px;overflow:hidden;padding:10px 15px;text-align:left;vertical-align:top;word-break:normal\">Series of data</td><td style=\"background-color:#C2FFD6;border-color:inherit;border-style:solid;border-width:1px;color:#594F4F;font-family:Arial, sans-serif;font-size:18px;overflow:hidden;padding:10px 15px;text-align:left;vertical-align:top;word-break:normal\">Series of data</td><td style=\"background-color:#C2FFD6;border-color:inherit;border-style:solid;border-width:1px;color:#594F4F;font-family:Arial, sans-serif;font-size:18px;overflow:hidden;padding:10px 15px;text-align:left;vertical-align:top;word-break:normal\">Series of data</td><td style=\"background-color:#C2FFD6;border-color:inherit;border-style:solid;border-width:1px;color:#594F4F;font-family:Arial, sans-serif;font-size:18px;overflow:hidden;padding:10px 15px;text-align:left;vertical-align:top;word-break:normal\">Series of data</td></tr></tbody></table>"
   ]
  },
  {
   "cell_type": "markdown",
   "metadata": {},
   "source": [
    "### 1.2 pandas.DataFrame:  Attributes\n",
    "\n",
    "T &rarr; Transpose index and columns\n",
    "\n",
    "at &rarr; Fast label-based scalar accessor\n",
    "\n",
    "axes &rarr; Return a list with the row axis labels and column axis labels as the only members.\n",
    "\n",
    "blocks &rarr; Internal property, property synonym for as_blocks()\n",
    "\n",
    "dtypes &rarr; Return the dtypes in this object.\n",
    "\n",
    "empty &rarr; True if NDFrame is entirely empty [no items], meaning any of the axes are of length 0.\n",
    "\n",
    "Ftypes &rarr; Return the ftypes (indication of sparse/dense and dtype) in this object.\n",
    "\n",
    "iat &rarr; Fast integer location scalar accessor.\n",
    "\n",
    "iloc &rarr; Purely integer-location based indexing for selection by position.\n",
    "\n",
    "ix &rarr; A primarily label-location based indexer, with integer position fallback.\n",
    "\n",
    "loc &rarr; Purely label-location based indexer for selection by label.\n",
    "\n",
    "ndim &rarr; Number of axes/array dimensions.\n",
    "\n",
    "shape &rarr; Return a tuple representing the dimensionality of the DataFrame.\n",
    "\n",
    "size &rarr; number of elements in the NDFrame\n",
    "\n",
    "style &rarr; Property returning a Styler object containing methods for building a styled HTML representation for the DataFrame.\n",
    "\n",
    "values &rarr; Numpy representation of NDFrame."
   ]
  },
  {
   "cell_type": "markdown",
   "metadata": {},
   "source": [
    "<hr style=\"border:5px solid green\"> </hr>"
   ]
  },
  {
   "cell_type": "markdown",
   "metadata": {},
   "source": [
    "## 2.  Create Dataframes\n",
    "\n",
    "### 2.1DataFrame Constructor\n",
    "\n",
    "##### pandas.DataFrame( data, index, columns, dtype, copy)\n",
    "\n",
    "**Data:** \n",
    " - can be ndarray, series, map, lists, diet, constants, and another DataFrame.\n",
    "\n",
    "**Index:**\n",
    " - For the row labels, the index to be used for the resulting frame is Optional Default np.arrange(n),if no index is passed.\n",
    " \n",
    "**Columns:**\n",
    " - For column labels, the Optional Default syntax is - np.arrange(n). This is only true if no index is passed.\n",
    "\n",
    "**dtype:** \n",
    " - Data type of each column\n",
    "\n",
    "**Copy:** \n",
    " - This command (or whatever it is) is used for copying of the data.\n",
    "\n",
    "**Default:** False\n",
    "\n",
    "### 2.2 Create an Empty Dataframe\n",
    "### <font color=red> **Run the following code block:** </font>"
   ]
  },
  {
   "cell_type": "code",
   "execution_count": 1,
   "metadata": {},
   "outputs": [
    {
     "name": "stdout",
     "output_type": "stream",
     "text": [
      "Empty DataFrame\n",
      "Columns: []\n",
      "Index: []\n"
     ]
    }
   ],
   "source": [
    "# Create an empty dataframe\n",
    "\n",
    "import pandas as pd\n",
    "\n",
    "df = pd.DataFrame()\n",
    "print(df)"
   ]
  },
  {
   "cell_type": "code",
   "execution_count": 2,
   "metadata": {},
   "outputs": [
    {
     "name": "stdout",
     "output_type": "stream",
     "text": [
      "Empty DataFrame\n",
      "Columns: []\n",
      "Index: []\n"
     ]
    }
   ],
   "source": [
    "import pandas as pd\n",
    "\n",
    "df = pd.DataFrame()\n",
    "print(df)"
   ]
  },
  {
   "cell_type": "markdown",
   "metadata": {},
   "source": [
    "### 2.3 Create a Dataframe from lists\n",
    "\n",
    "### <font color=red> **Run the following 2 code blocks:** </font>"
   ]
  },
  {
   "cell_type": "code",
   "execution_count": 3,
   "metadata": {},
   "outputs": [
    {
     "name": "stdout",
     "output_type": "stream",
     "text": [
      "   0\n",
      "0  1\n",
      "1  2\n",
      "2  3\n",
      "3  4\n",
      "4  5\n"
     ]
    }
   ],
   "source": [
    "# Create a dataframe from a list\n",
    "import pandas as pd\n",
    "\n",
    "# Declare a list\n",
    "alist = [1,2,3,4,5]\n",
    "\n",
    "# Create a dataframe from the list\n",
    "df = pd.DataFrame(alist)\n",
    "\n",
    "print(df)"
   ]
  },
  {
   "cell_type": "code",
   "execution_count": 4,
   "metadata": {},
   "outputs": [
    {
     "name": "stdout",
     "output_type": "stream",
     "text": [
      "            0\n",
      "0      Python\n",
      "1          C#\n",
      "2        Java\n",
      "3         C++\n",
      "4  Javascript\n"
     ]
    }
   ],
   "source": [
    "import pandas as pd\n",
    "\n",
    "prog_Lang = ['Python', 'C#', 'Java', 'C++', 'Javascript']\n",
    "df = pd.DataFrame(prog_Lang)\n",
    "print(df)"
   ]
  },
  {
   "cell_type": "code",
   "execution_count": 5,
   "metadata": {},
   "outputs": [
    {
     "name": "stdout",
     "output_type": "stream",
     "text": [
      "     Name  Age\n",
      "0    Alex   10\n",
      "1     Bob   12\n",
      "2  Clarke   13\n"
     ]
    }
   ],
   "source": [
    "# Create a dataframe from a list of lists\n",
    "\n",
    "import pandas as pd\n",
    "\n",
    "# Declare a list of lists - each list element has two elements [string, number]\n",
    "alistOflists = [['Alex',10],['Bob',12],['Clarke',13]]\n",
    "\n",
    "# Create a dataframe from this list, naming the columns as 'Name' and 'Age'\n",
    "df = pd.DataFrame(alistOflists, columns=['Name', 'Age'])\n",
    "\n",
    "print(df)"
   ]
  },
  {
   "cell_type": "code",
   "execution_count": 6,
   "metadata": {},
   "outputs": [
    {
     "name": "stdout",
     "output_type": "stream",
     "text": [
      "  Course Name  Course Number\n",
      "0        IPAC           4340\n",
      "1        PSCI           2606\n",
      "2        BAAS           4100\n"
     ]
    }
   ],
   "source": [
    "import pandas as pd\n",
    "\n",
    "courses = [['IPAC', 4340],['PSCI', 2606], ['BAAS', 4100]]\n",
    "df = pd.DataFrame(courses, columns = ['Course Name', 'Course Number'])\n",
    "print(df)"
   ]
  },
  {
   "cell_type": "code",
   "execution_count": 17,
   "metadata": {},
   "outputs": [
    {
     "name": "stdout",
     "output_type": "stream",
     "text": [
      "     Name Age\n",
      "0    Alex  10\n",
      "1     Bob  12\n",
      "2  Clarke  13\n"
     ]
    }
   ],
   "source": [
    "# Create a dataframe from a list of lists and set the data type\n",
    "import pandas as pd\n",
    "\n",
    "# Declare a List of Lists - each list element has two elements [string, number]\n",
    "aListOfLists = [['Alex',10], ['Bob',12], ['Clarke',13]]\n",
    "\n",
    "# Create a dataframe from this list, naming the columns as 'Name' and 'Age'\n",
    "df = pd.DataFrame(aListOfLists, columns=['Name', 'Age'], dtype=object)\n",
    "\n",
    "print(df)"
   ]
  },
  {
   "cell_type": "code",
   "execution_count": 21,
   "metadata": {},
   "outputs": [
    {
     "name": "stdout",
     "output_type": "stream",
     "text": [
      "  Course Name Course Number\n",
      "0        IPAC          4340\n",
      "1        PSCI          2606\n",
      "2        BAAS          4100\n"
     ]
    }
   ],
   "source": [
    "import pandas as pd\n",
    "\n",
    "courses = [['IPAC', 4340],['PSCI', 2606], ['BAAS', 4100]]\n",
    "df = pd.DataFrame(courses, columns = ['Course Name', 'Course Number'], dtype=object)\n",
    "print(df)"
   ]
  },
  {
   "cell_type": "markdown",
   "metadata": {},
   "source": [
    "### 2.4 Create dataframes from dictionaries of ndarray/lists\n",
    "\n",
    " - All the ndarrays must be of same length.\n",
    " - If index is passed, then the length of the index should equal to the length of the arrays.\n",
    " - If no index is passed, then by default, index will be range(n), where n is the array length.\n",
    "\n",
    "### <font color=red> **Run the following 3 code blocks:** </font>"
   ]
  },
  {
   "cell_type": "code",
   "execution_count": 22,
   "metadata": {},
   "outputs": [
    {
     "name": "stdout",
     "output_type": "stream",
     "text": [
      "    Name  Age\n",
      "0    Tom   28\n",
      "1   Jack   34\n",
      "2  Steve   29\n",
      "3  Ricky   42\n"
     ]
    }
   ],
   "source": [
    "# Create a dataframe from a dictionary without specified indices\n",
    "\n",
    "import pandas as pd\n",
    "\n",
    "# Declare a dictionary that has two key-value pairs\n",
    "# One key is \"Name\" that has its value = a list of strings\n",
    "# Another key is \"Age\" that has its value = a list of integers\n",
    "\n",
    "aDict = {'Name':['Tom','Jack','Steve','Ricky'],'Age': [28,34,29,42]}\n",
    "\n",
    "# Create the dataframe from the dictionary\n",
    "# VIP NOTES: Automatically adding the indices for the rows\n",
    "\n",
    "df = pd.DataFrame(aDict)\n",
    "print(df)"
   ]
  },
  {
   "cell_type": "code",
   "execution_count": 23,
   "metadata": {},
   "outputs": [
    {
     "name": "stdout",
     "output_type": "stream",
     "text": [
      "           Name   Hero Name\n",
      "0    Tony Stark    Iron-man\n",
      "1  Peter Parker  Spider-man\n",
      "2  Bruce Banner        Hulk\n"
     ]
    }
   ],
   "source": [
    "import pandas as pd\n",
    "\n",
    "avengersDict = {'Name': ['Tony Stark', 'Peter Parker', 'Bruce Banner'], 'Hero Name': ['Iron-man', 'Spider-man', 'Hulk']}\n",
    "df = pd.DataFrame(avengersDict)\n",
    "print(df)"
   ]
  },
  {
   "cell_type": "code",
   "execution_count": 24,
   "metadata": {},
   "outputs": [
    {
     "name": "stdout",
     "output_type": "stream",
     "text": [
      "         Name  Age\n",
      "rankl     Tom   28\n",
      "rank2    Jack   34\n",
      "rank3   Steve   29\n",
      " rank4  Ricky   42\n"
     ]
    }
   ],
   "source": [
    "# Create a dataframe from a dictionary with specified indices\n",
    "\n",
    "import pandas as pd\n",
    "\n",
    "# Declare a dictionary that has two key-value pairs\n",
    "# One key is \"Name\" that has its value = a List of strings\n",
    "# Another key is \"Age\" that has its value = a list of integers\n",
    "\n",
    "aDict = {' Name' :['Tom', 'Jack', 'Steve', 'Ricky'], 'Age' : [28,34,29, 42]}\n",
    "\n",
    "# Create the dataframe from the dictionary\n",
    "# VIP NOTES: Specifying the indices for the rows\n",
    "\n",
    "df = pd.DataFrame(aDict, index=['rankl', 'rank2', 'rank3', ' rank4'])\n",
    "print(df)"
   ]
  },
  {
   "cell_type": "code",
   "execution_count": 25,
   "metadata": {},
   "outputs": [
    {
     "name": "stdout",
     "output_type": "stream",
     "text": [
      "                BankType  Account Balance\n",
      "High Priority   Checking             1248\n",
      "Med Priority     Savings             2000\n",
      "Low Priority   Fun Money               25\n"
     ]
    }
   ],
   "source": [
    "import pandas as pd\n",
    "\n",
    "acctDict = {'BankType': ['Checking', 'Savings', 'Fun Money'], 'Account Balance': [1248, 2000, 25]}\n",
    "df = pd.DataFrame(acctDict, index=['High Priority', 'Med Priority', 'Low Priority'] )\n",
    "print(df)"
   ]
  },
  {
   "cell_type": "code",
   "execution_count": 26,
   "metadata": {},
   "outputs": [
    {
     "name": "stdout",
     "output_type": "stream",
     "text": [
      "   one  two\n",
      "a  1.0    1\n",
      "b  2.0    2\n",
      "c  3.0    3\n",
      "d  NaN    4\n"
     ]
    }
   ],
   "source": [
    "# Create a dataframe from a dictionary of series\n",
    "\n",
    "import pandas as pd\n",
    "\n",
    "# Declare a dictionary of 2 series named 'one' and 'two'\n",
    "\n",
    "aDictOfSeries = {'one': pd.Series([1, 2, 3], index=['a', 'b', 'c']), \n",
    "         'two': pd.Series([1, 2, 3, 4], index=['a', 'b', 'c', 'd'])}\n",
    "\n",
    "# Create a dataframe from this dictionary\n",
    "# VIP NOTES: Each column of a dataframe is a series\n",
    "\n",
    "df = pd.DataFrame(aDictOfSeries)\n",
    "print(df)"
   ]
  },
  {
   "cell_type": "code",
   "execution_count": 27,
   "metadata": {},
   "outputs": [
    {
     "name": "stdout",
     "output_type": "stream",
     "text": [
      "    thing-one  thing-two\n",
      "a1        1.0        NaN\n",
      "a2        NaN        2.0\n",
      "b1        1.0        NaN\n",
      "b2        NaN        2.0\n",
      "c1        1.0        NaN\n",
      "c2        NaN        2.0\n"
     ]
    }
   ],
   "source": [
    "import pandas as pd\n",
    "\n",
    "thingSeriesOfDict = {'thing-one': pd.Series([1,1,1], index = ['a1','b1','c1']),\n",
    "                'thing-two': pd.Series([2,2,2], index = ['a2','b2','c2'])}\n",
    "\n",
    "df = pd.DataFrame(thingSeriesOfDict)\n",
    "print(df)"
   ]
  },
  {
   "cell_type": "markdown",
   "metadata": {},
   "source": [
    "### 2.5 Access Dataframe Columns\n",
    "\n",
    "### <font color=red> **Run the following code block:** </font>"
   ]
  },
  {
   "cell_type": "code",
   "execution_count": 28,
   "metadata": {},
   "outputs": [
    {
     "name": "stdout",
     "output_type": "stream",
     "text": [
      "a    1.0\n",
      "b    2.0\n",
      "c    3.0\n",
      "d    NaN\n",
      "Name: one, dtype: float64\n"
     ]
    }
   ],
   "source": [
    "# Access a dataframe columns\n",
    "\n",
    "import pandas as pd\n",
    "\n",
    "# Declare a dictionary of 2 series named 'one' and 'two'\n",
    "aDictOfSeries = {'one': pd.Series([1, 2, 3], index= ['a', 'b', 'c']), \n",
    "'two': pd.Series([1, 2, 3, 4], index=['a', 'b', 'c', 'd'])}\n",
    "\n",
    "# Create a dataframe from this dictionary\n",
    "# VIP NOTES: Each column of a dataframe is a series\n",
    "\n",
    "df = pd.DataFrame(aDictOfSeries)\n",
    "\n",
    "# Access the column 'one' and print it out\n",
    "# HOW TO access a column: Using its label as a column index\n",
    "\n",
    "print(df['one'])"
   ]
  },
  {
   "cell_type": "code",
   "execution_count": 29,
   "metadata": {},
   "outputs": [
    {
     "name": "stdout",
     "output_type": "stream",
     "text": [
      "a1    NaN\n",
      "a2    2.0\n",
      "b1    NaN\n",
      "b2    2.0\n",
      "c1    NaN\n",
      "c2    2.0\n",
      "Name: thing-two, dtype: float64\n"
     ]
    }
   ],
   "source": [
    "import pandas as pd\n",
    "\n",
    "thingSeriesOfDict = {'thing-one': pd.Series([1,1,1], index = ['a1','b1','c1']),\n",
    "                'thing-two': pd.Series([2,2,2], index = ['a2','b2','c2'])}\n",
    "\n",
    "df = pd.DataFrame(thingSeriesOfDict)\n",
    "print(df['thing-two'])"
   ]
  },
  {
   "cell_type": "markdown",
   "metadata": {},
   "source": [
    "### 2.6 Add Columns into a Dataframe\n",
    "\n",
    "### <font color=red> **Run the following 2 code blocks:** </font>"
   ]
  },
  {
   "cell_type": "code",
   "execution_count": 30,
   "metadata": {},
   "outputs": [
    {
     "name": "stdout",
     "output_type": "stream",
     "text": [
      "   one  two  three\n",
      "a  1.0    1   10.0\n",
      "b  2.0    2   20.0\n",
      "c  3.0    3   30.0\n",
      "d  NaN    4    NaN\n"
     ]
    }
   ],
   "source": [
    "# Add columns into a dataframe\n",
    "\n",
    "import pandas as pd\n",
    "\n",
    "# Declare a dictionary of 2 series named 'one' and 'two'\n",
    "aDictOfSeries = {'one': pd. Series ([1, 2, 3], index= ['a', 'b', 'c']), 'two': pd.Series([1, 2, 3, 4], index=['a', 'b', 'c', 'd'])}\n",
    "\n",
    "# Create a dataframe from this dictionary\n",
    "# VIP NOTES: Each column of a dataframe is a series\n",
    "\n",
    "df = pd.DataFrame(aDictOfSeries)\n",
    "\n",
    "# Adding a new column to an existing DataFrame object with column label by passing new series\n",
    "# Adding a new series into the dataframe as a new column: 'three'\n",
    "# First, creating a new series\n",
    "# Then, assign the new series into the new column\n",
    "\n",
    "df['three']=pd.Series([10, 20, 30],index=['a', 'b', 'c'])\n",
    "print(df)"
   ]
  },
  {
   "cell_type": "code",
   "execution_count": 33,
   "metadata": {},
   "outputs": [
    {
     "name": "stdout",
     "output_type": "stream",
     "text": [
      "    thing-one  thing-two  thing-three\n",
      "a1        1.0        NaN          NaN\n",
      "a2        NaN        2.0          NaN\n",
      "b1        1.0        NaN          NaN\n",
      "b2        NaN        2.0          NaN\n",
      "c1        1.0        NaN          NaN\n",
      "c2        NaN        2.0          NaN\n"
     ]
    }
   ],
   "source": [
    "import pandas as pd\n",
    "\n",
    "thingSeriesOfDict = {'thing-one': pd.Series([1,1,1], index = ['a1','b1','c1']),\n",
    "                'thing-two': pd.Series([2,2,2], index = ['a2','b2','c2'])}\n",
    "\n",
    "df = pd.DataFrame(thingSeriesOfDict)\n",
    "\n",
    "df['thing-three'] = pd.Series([3,3,3], index = ['a3','b3','c3'])\n",
    "print(df)"
   ]
  },
  {
   "cell_type": "code",
   "execution_count": 36,
   "metadata": {},
   "outputs": [
    {
     "name": "stdout",
     "output_type": "stream",
     "text": [
      "\n",
      "\n",
      "   one  two  three  four\n",
      "a  1.0    1   10.0  11.0\n",
      "b  2.0    2   20.0  22.0\n",
      "c  3.0    3   30.0  33.0\n",
      "d  NaN    4    NaN   NaN\n"
     ]
    }
   ],
   "source": [
    "# Add columns into a dataframe\n",
    "\n",
    "import pandas as pd\n",
    "\n",
    "# Declare a dictionary of 2 series named 'one' and 'two'\n",
    "aDictOfSeries = {'one': pd. Series ([1, 2, 3], index= ['a', 'b', 'c']), 'two': pd.Series([1, 2, 3, 4], index=['a', 'b', 'c', 'd'])}\n",
    "\n",
    "# Create a dataframe from this dictionary\n",
    "# VIP NOTES: Each column of a dataframe is a series\n",
    "\n",
    "df = pd.DataFrame(aDictOfSeries)# Adding a new column using the existing columns in Data Frame\n",
    "df['three']=pd.Series([10, 20, 30],index=['a', 'b', 'c'])\n",
    "df['four'] = df['one'] + df['three']\n",
    "print('\\n')\n",
    "print(df)"
   ]
  },
  {
   "cell_type": "code",
   "execution_count": 37,
   "metadata": {},
   "outputs": [
    {
     "name": "stdout",
     "output_type": "stream",
     "text": [
      "    thing-one  thing-two  thing-three  thing-four\n",
      "a1        1.0        NaN          NaN         NaN\n",
      "a2        NaN        2.0          NaN         4.0\n",
      "b1        1.0        NaN          NaN         NaN\n",
      "b2        NaN        2.0          NaN         4.0\n",
      "c1        1.0        NaN          NaN         NaN\n",
      "c2        NaN        2.0          NaN         4.0\n"
     ]
    }
   ],
   "source": [
    "import pandas as pd\n",
    "\n",
    "thingSeriesOfDict = {'thing-one': pd.Series([1,1,1], index = ['a1','b1','c1']),\n",
    "                'thing-two': pd.Series([2,2,2], index = ['a2','b2','c2'])}\n",
    "\n",
    "df = pd.DataFrame(thingSeriesOfDict)\n",
    "\n",
    "df['thing-three'] = pd.Series([3,3,3], index = ['a3','b3','c3'])\n",
    "df['thing-four'] = df['thing-two'] * 2\n",
    "print(df)"
   ]
  },
  {
   "cell_type": "markdown",
   "metadata": {},
   "source": [
    "### 2.7 Delete/Pop/Remove a Column from a Dataframe\n",
    "\n",
    "### <font color=red> **Run the following code block:** </font>"
   ]
  },
  {
   "cell_type": "code",
   "execution_count": 38,
   "metadata": {},
   "outputs": [
    {
     "name": "stdout",
     "output_type": "stream",
     "text": [
      "   one  two  three\n",
      "a  1.0    1   10.0\n",
      "b  2.0    2   20.0\n",
      "c  3.0    3   30.0\n",
      "d  NaN    4    NaN\n",
      "\n",
      "\n",
      "   two  three\n",
      "a    1   10.0\n",
      "b    2   20.0\n",
      "c    3   30.0\n",
      "d    4    NaN\n",
      "\n",
      "\n",
      "   three\n",
      "a   10.0\n",
      "b   20.0\n",
      "c   30.0\n",
      "d    NaN\n"
     ]
    }
   ],
   "source": [
    "# Delete a column using del function\n",
    "import pandas as pd\n",
    "# Declare a dictionary of 2 series named 'one' and 'two'\n",
    "aDictOfSeries = {'one': pd.Series ([1, 2, 3], \n",
    "index = ['a', 'b', 'c']),'two': pd.Series([1, 2, 3, 4], \n",
    "index = ['a', 'b', 'c', 'd']), 'three': pd.Series([10,20,30],\n",
    "index = ['a', 'b', 'c'])}\n",
    "# Create a dataframe from this dictionary\n",
    "# VIP NOTE: Each column of a dataframe is a series\n",
    "df = pd.DataFrame(aDictOfSeries)\n",
    "print(df)\n",
    "print('\\n')\n",
    "# using del function to delete/remove the first column\n",
    "del(df['one'])\n",
    "print(df)\n",
    "print('\\n') \n",
    "# using pop function to delete another column \" 'two'\n",
    "# Deleting another column using PDP function\n",
    "df.pop('two')\n",
    "print(df)"
   ]
  },
  {
   "cell_type": "code",
   "execution_count": 41,
   "metadata": {},
   "outputs": [
    {
     "name": "stdout",
     "output_type": "stream",
     "text": [
      "    thing-one  thing-two  thing-three\n",
      "a1        1.0        NaN          NaN\n",
      "a2        NaN        2.0          NaN\n",
      "a3        NaN        NaN          3.0\n",
      "b1        1.0        NaN          NaN\n",
      "b2        NaN        2.0          NaN\n",
      "b3        NaN        NaN          3.0\n",
      "c1        1.0        NaN          NaN\n",
      "c2        NaN        2.0          NaN\n",
      "c3        NaN        NaN          3.0\n",
      "    thing-two  thing-three\n",
      "a1        NaN          NaN\n",
      "a2        2.0          NaN\n",
      "a3        NaN          3.0\n",
      "b1        NaN          NaN\n",
      "b2        2.0          NaN\n",
      "b3        NaN          3.0\n",
      "c1        NaN          NaN\n",
      "c2        2.0          NaN\n",
      "c3        NaN          3.0\n",
      "    thing-three\n",
      "a1          NaN\n",
      "a2          NaN\n",
      "a3          3.0\n",
      "b1          NaN\n",
      "b2          NaN\n",
      "b3          3.0\n",
      "c1          NaN\n",
      "c2          NaN\n",
      "c3          3.0\n"
     ]
    }
   ],
   "source": [
    "import pandas as pd\n",
    "\n",
    "thingSeriesOfDict = {'thing-one': pd.Series([1,1,1], index = ['a1','b1','c1']),\n",
    "                     'thing-two': pd.Series([2,2,2], index = ['a2','b2','c2']),\n",
    "                     'thing-three': pd.Series([3,3,3], index = ['a3','b3','c3'])}\n",
    "\n",
    "df = pd.DataFrame(thingSeriesOfDict)\n",
    "print(df)\n",
    "\n",
    "del(df['thing-one'])\n",
    "print(df)\n",
    "\n",
    "df.pop('thing-two')\n",
    "print(df)"
   ]
  },
  {
   "cell_type": "markdown",
   "metadata": {},
   "source": [
    "### 2.8 Access Rows of a Dataframe &rarr;  loc & iloc\n",
    "\n",
    "### <font color=red> **Run the following 3 code blocks:** </font>"
   ]
  },
  {
   "cell_type": "code",
   "execution_count": 42,
   "metadata": {},
   "outputs": [
    {
     "name": "stdout",
     "output_type": "stream",
     "text": [
      "one    2.0\n",
      "two    2.0\n",
      "Name: b, dtype: float64\n"
     ]
    }
   ],
   "source": [
    "# Access rows of a dataframe using Loc function\n",
    "# Loc is a row index\n",
    "\n",
    "import pandas as pd\n",
    "\n",
    "aDictOfSeries = {'one': pd.Series ([1, 2, 3], index=['a', 'b', 'c']), \n",
    "'two':pd.Series([1, 2, 3, 4], index=['a', 'b', 'c', 'd'])}\n",
    "\n",
    "df = pd.DataFrame(aDictOfSeries)\n",
    "\n",
    "# Access the row with index='b' and print the row\n",
    "print(df.loc['b'])"
   ]
  },
  {
   "cell_type": "code",
   "execution_count": 43,
   "metadata": {},
   "outputs": [
    {
     "name": "stdout",
     "output_type": "stream",
     "text": [
      "thing-one      NaN\n",
      "thing-two      2.0\n",
      "thing-three    NaN\n",
      "Name: b2, dtype: float64\n"
     ]
    }
   ],
   "source": [
    "import pandas as pd\n",
    "\n",
    "thingSeriesOfDict = {'thing-one': pd.Series([1,1,1], index = ['a1','b1','c1']),\n",
    "                     'thing-two': pd.Series([2,2,2], index = ['a2','b2','c2']),\n",
    "                     'thing-three': pd.Series([3,3,3], index = ['a3','b3','c3'])}\n",
    "\n",
    "df = pd.DataFrame(thingSeriesOfDict)\n",
    "print(df.loc['b2'])"
   ]
  },
  {
   "cell_type": "code",
   "execution_count": 44,
   "metadata": {},
   "outputs": [
    {
     "name": "stdout",
     "output_type": "stream",
     "text": [
      "one    3.0\n",
      "two    3.0\n",
      "Name: c, dtype: float64\n"
     ]
    }
   ],
   "source": [
    "# Access rows of a dataframe using iLoc (integer Location/row index) function\n",
    "\n",
    "import pandas as pd\n",
    "\n",
    "aDictOfSeries = {'one': pd.Series ([1, 2, 3], index= ['a', 'b', 'c']),\n",
    "'two': pd.Series([1, 2, 3, 4], index=['a', 'b', 'c' , 'd'])}\n",
    "\n",
    "df = pd.DataFrame(aDictOfSeries)\n",
    "\n",
    "# Access the row with index= '2' and print the row \n",
    "print(df.iloc[2])"
   ]
  },
  {
   "cell_type": "code",
   "execution_count": 47,
   "metadata": {},
   "outputs": [
    {
     "name": "stdout",
     "output_type": "stream",
     "text": [
      "thing-one      1.0\n",
      "thing-two      NaN\n",
      "thing-three    NaN\n",
      "Name: a1, dtype: float64\n"
     ]
    }
   ],
   "source": [
    "import pandas as pd\n",
    "\n",
    "thingSeriesOfDict = {'thing-one': pd.Series([1,1,1], index = ['a1','b1','c1']),\n",
    "                     'thing-two': pd.Series([2,2,2], index = ['a2','b2','c2']),\n",
    "                     'thing-three': pd.Series([3,3,3], index = ['a3','b3','c3'])}\n",
    "\n",
    "df = pd.DataFrame(thingSeriesOfDict)\n",
    "print(df.iloc[0])"
   ]
  },
  {
   "cell_type": "code",
   "execution_count": 48,
   "metadata": {},
   "outputs": [
    {
     "name": "stdout",
     "output_type": "stream",
     "text": [
      "   one  two\n",
      "c  3.0    3\n",
      "d  NaN    4\n"
     ]
    }
   ],
   "source": [
    "# Access a group of rows using the ':' operator\n",
    "\n",
    "import pandas as pd\n",
    "\n",
    "aDictOfSeries = {'one': pd.Series ([1, 2, 3], index= ['a', 'b', 'c']),\n",
    "'two': pd.Series([1, 2, 3, 4], index=['a', 'b', 'c', 'd'])}\n",
    "\n",
    "df = pd.DataFrame(aDictOfSeries)\n",
    "\n",
    "# Access all the rows with indices 2, 3 and print them\n",
    "print(df[2:4])"
   ]
  },
  {
   "cell_type": "code",
   "execution_count": 50,
   "metadata": {},
   "outputs": [
    {
     "name": "stdout",
     "output_type": "stream",
     "text": [
      "    thing-one  thing-two  thing-three\n",
      "a3        NaN        NaN          3.0\n",
      "b1        1.0        NaN          NaN\n",
      "b2        NaN        2.0          NaN\n",
      "b3        NaN        NaN          3.0\n",
      "c1        1.0        NaN          NaN\n",
      "c2        NaN        2.0          NaN\n"
     ]
    }
   ],
   "source": [
    "import pandas as pd\n",
    "\n",
    "thingSeriesOfDict = {'thing-one': pd.Series([1,1,1], index = ['a1','b1','c1']),\n",
    "                     'thing-two': pd.Series([2,2,2], index = ['a2','b2','c2']),\n",
    "                     'thing-three': pd.Series([3,3,3], index = ['a3','b3','c3'])}\n",
    "\n",
    "df = pd.DataFrame(thingSeriesOfDict)\n",
    "print(df[2:-1])"
   ]
  },
  {
   "cell_type": "markdown",
   "metadata": {},
   "source": [
    "### 2.9 Delete/Remove Rows from a Dataframe\n",
    "\n",
    "### <font color=red> **Run the following code block:** </font>"
   ]
  },
  {
   "cell_type": "code",
   "execution_count": 59,
   "metadata": {},
   "outputs": [
    {
     "name": "stdout",
     "output_type": "stream",
     "text": [
      "   a  b\n",
      "1  3  4\n",
      "1  7  8\n"
     ]
    }
   ],
   "source": [
    "# Remove rows from a dataframe using the drop() function\n",
    "\n",
    "import pandas as pd\n",
    "\n",
    "df = pd.DataFrame([[1, 2] , [3, 4]], columns = ['a', 'b'])\n",
    "df2 = pd.DataFrame([[5, 6], [7, 8]], columns = ['a', 'b'])\n",
    "\n",
    "df = pd.concat([df, df2])\n",
    "\n",
    "# Drop rows with Label 0\n",
    "df = df.drop(0)\n",
    "\n",
    "print(df)"
   ]
  },
  {
   "cell_type": "code",
   "execution_count": 60,
   "metadata": {},
   "outputs": [
    {
     "name": "stdout",
     "output_type": "stream",
     "text": [
      "    a   b\n",
      "0  11  12\n",
      "0  15  16\n"
     ]
    }
   ],
   "source": [
    "import pandas as pd\n",
    "\n",
    "df = pd.DataFrame([[11, 12] , [13, 14]], columns = ['a', 'b'])\n",
    "df2 = pd.DataFrame([[15, 16], [17, 18]], columns = ['a', 'b'])\n",
    "\n",
    "df = pd.concat([df, df2])\n",
    "df = df.drop(1)\n",
    "print(df)"
   ]
  },
  {
   "cell_type": "markdown",
   "metadata": {},
   "source": [
    "<hr style=\"border:5px solid green\"> </hr>\n",
    "\n",
    "\n",
    "## 3. Load Data into DataFrame\n",
    "\n",
    "To read data into a dataframe, we use this command: \n",
    "\n",
    "**pd.read_file_type(file_name)**\n",
    "\n",
    "Where file_type can be csv, excel, etc. \n",
    "\n",
    "For example, for CSV files, the command to read a csv file: pd.read_csv()\n",
    "\n",
    "#### Example:\n",
    "You will have your datasets already loaded but I want you to have an exaple in case you challenge yourself and work on your own."
   ]
  },
  {
   "cell_type": "markdown",
   "metadata": {},
   "source": [
    ">> import pandas as pd\n",
    "\n",
    "Reads the flights data set and create the dataframe flights\n",
    "\n",
    ">> df_flights = pd.read_csv ('C:/DATA/DROPBOX/Dropbox/DATA_APPLS/DATASETS/flights_2 . csv')\n",
    "\n",
    "The command below would print out the 1st 5 rows of the dataframe that was created.\n",
    "\n",
    ">> df_flights.head(5)\n"
   ]
  },
  {
   "cell_type": "markdown",
   "metadata": {},
   "source": [
    "<hr style=\"border:5px solid green\"> </hr>"
   ]
  }
 ],
 "metadata": {
  "kernelspec": {
   "display_name": "Python 3 (ipykernel)",
   "language": "python",
   "name": "python3"
  },
  "language_info": {
   "codemirror_mode": {
    "name": "ipython",
    "version": 3
   },
   "file_extension": ".py",
   "mimetype": "text/x-python",
   "name": "python",
   "nbconvert_exporter": "python",
   "pygments_lexer": "ipython3",
   "version": "3.11.5"
  }
 },
 "nbformat": 4,
 "nbformat_minor": 4
}
